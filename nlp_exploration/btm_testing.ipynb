{
 "cells": [
  {
   "cell_type": "code",
   "execution_count": 2,
   "id": "specified-uncertainty",
   "metadata": {},
   "outputs": [],
   "source": [
    "import os\n",
    "import sys\n",
    "DIR_PATH = os.getcwd()\n",
    "parent_dir = os.path.dirname(DIR_PATH)\n",
    "sys.path.append(parent_dir)\n",
    "\n",
    "from db_func import query_from_db, insert_to_db, bulk_insert_to_db"
   ]
  },
  {
   "cell_type": "code",
   "execution_count": 104,
   "id": "authorized-technique",
   "metadata": {},
   "outputs": [
    {
     "name": "stderr",
     "output_type": "stream",
     "text": [
      "/Users/gary/opt/anaconda3/envs/analyzer/lib/python3.8/site-packages/ipykernel/ipkernel.py:287: DeprecationWarning: `should_run_async` will not call `transform_cell` automatically in the future. Please pass the result to `transformed_cell` argument and any exception that happen during thetransform in `preprocessing_exc_tuple` in IPython 7.17 and above.\n",
      "  and should_run_async(code)\n"
     ]
    }
   ],
   "source": [
    "df = query_from_db(\"\"\"SELECT nc.news_id, nc.news_title, nc.published_date, nc.published_time, JSON_ARRAYAGG(ntw.word)\n",
    "FROM news_db.news_contents nc \n",
    "JOIN news_db.news_rss_feeds nrf on nc.news_rss_feeds_id = nrf.news_rss_feeds_id\n",
    "JOIN news_db.news_title_words ntw on ntw.news_id = nc.news_id\n",
    "WHERE nc.published_date = '2021-04-01' and (((`nrf`.`news_source` = 'ETtoday')\n",
    "            AND (`nrf`.`news_category` = '財經新聞'))\n",
    "            OR ((`nrf`.`news_source` = 'PCHOME')\n",
    "            AND (`nrf`.`news_category` = '財經'))\n",
    "            OR ((`nrf`.`news_source` = 'Yahoo奇摩新聞')\n",
    "            AND (`nrf`.`news_category` = '財經新聞'))\n",
    "            OR ((`nrf`.`news_source` = 'Yahoo奇摩股市')\n",
    "            AND (`nrf`.`news_category` = '台股動態'))\n",
    "            OR ((`nrf`.`news_source` = 'Yahoo奇摩股市')\n",
    "            AND (`nrf`.`news_category` = '國際財經'))\n",
    "            OR ((`nrf`.`news_source` = 'Yahoo奇摩股市')\n",
    "            AND (`nrf`.`news_category` = '基金動態'))\n",
    "            OR ((`nrf`.`news_source` = 'Yahoo奇摩股市')\n",
    "            AND (`nrf`.`news_category` = '專家專欄'))\n",
    "            OR ((`nrf`.`news_source` = 'Yahoo奇摩股市')\n",
    "            AND (`nrf`.`news_category` = '小資理財'))\n",
    "            OR ((`nrf`.`news_source` = 'Yahoo奇摩股市')\n",
    "            AND (`nrf`.`news_category` = '最新股市'))\n",
    "            OR ((`nrf`.`news_source` = 'Yahoo奇摩股市')\n",
    "            AND (`nrf`.`news_category` = '研究報導'))\n",
    "            OR ((`nrf`.`news_source` = '中央社即時新聞')\n",
    "            AND (`nrf`.`news_category` = '財經新聞'))\n",
    "            OR ((`nrf`.`news_source` = '台視新聞')\n",
    "            AND (`nrf`.`news_category` = '財經'))\n",
    "            OR ((`nrf`.`news_source` = '新浪台灣新聞中心')\n",
    "            AND (`nrf`.`news_category` = '財經'))\n",
    "            OR ((`nrf`.`news_source` = '新頭殼要聞')\n",
    "            AND (`nrf`.`news_category` = '財經'))\n",
    "            OR ((`nrf`.`news_source` = '民報 Taiwan People News')\n",
    "            AND (`nrf`.`news_category` = '財經新聞'))\n",
    "            OR ((`nrf`.`news_source` = '經濟日報')\n",
    "            AND (`nrf`.`news_category` = '2021全球名家瞭望'))\n",
    "            OR ((`nrf`.`news_source` = '經濟日報')\n",
    "            AND (`nrf`.`news_category` = '2021投資前瞻'))\n",
    "            OR ((`nrf`.`news_source` = '經濟日報')\n",
    "            AND (`nrf`.`news_category` = '2021新春財經特輯'))\n",
    "            OR ((`nrf`.`news_source` = '經濟日報')\n",
    "            AND (`nrf`.`news_category` = 'ECFA十周年'))\n",
    "            OR ((`nrf`.`news_source` = '經濟日報')\n",
    "            AND (`nrf`.`news_category` = 'ESG'))\n",
    "            OR ((`nrf`.`news_source` = '經濟日報')\n",
    "            AND (`nrf`.`news_category` = 'Fintech'))\n",
    "            OR ((`nrf`.`news_source` = '經濟日報')\n",
    "            AND (`nrf`.`news_category` = 'Focus |防疫國家隊'))\n",
    "            OR ((`nrf`.`news_source` = '經濟日報')\n",
    "            AND (`nrf`.`news_category` = 'ICT趨勢'))\n",
    "            OR ((`nrf`.`news_source` = '經濟日報')\n",
    "            AND (`nrf`.`news_category` = 'K型復甦'))\n",
    "            OR ((`nrf`.`news_source` = '經濟日報')\n",
    "            AND (`nrf`.`news_category` = '一分鐘看世界'))\n",
    "            OR ((`nrf`.`news_source` = '經濟日報')\n",
    "            AND (`nrf`.`news_category` = '上市櫃公司熱門股排行'))\n",
    "            OR ((`nrf`.`news_source` = '經濟日報')\n",
    "            AND (`nrf`.`news_category` = '五金新訊'))\n",
    "            OR ((`nrf`.`news_source` = '經濟日報')\n",
    "            AND (`nrf`.`news_category` = '企業CEO'))\n",
    "            OR ((`nrf`.`news_source` = '經濟日報')\n",
    "            AND (`nrf`.`news_category` = '個人理財'))\n",
    "            OR ((`nrf`.`news_source` = '經濟日報')\n",
    "            AND (`nrf`.`news_category` = '健康元氣'))\n",
    "            OR ((`nrf`.`news_source` = '經濟日報')\n",
    "            AND (`nrf`.`news_category` = '光電半導體'))\n",
    "            OR ((`nrf`.`news_source` = '經濟日報')\n",
    "            AND (`nrf`.`news_category` = '兩岸快遞'))\n",
    "            OR ((`nrf`.`news_source` = '經濟日報')\n",
    "            AND (`nrf`.`news_category` = '兩岸焦點'))\n",
    "            OR ((`nrf`.`news_source` = '經濟日報')\n",
    "            AND (`nrf`.`news_category` = '公司治理'))\n",
    "            OR ((`nrf`.`news_source` = '經濟日報')\n",
    "            AND (`nrf`.`news_category` = '創業之星'))\n",
    "            OR ((`nrf`.`news_source` = '經濟日報')\n",
    "            AND (`nrf`.`news_category` = '化工科技'))\n",
    "            OR ((`nrf`.`news_source` = '經濟日報')\n",
    "            AND (`nrf`.`news_category` = '十四五突圍'))\n",
    "            OR ((`nrf`.`news_source` = '經濟日報')\n",
    "            AND (`nrf`.`news_category` = '台中韓大戰'))\n",
    "            OR ((`nrf`.`news_source` = '經濟日報')\n",
    "            AND (`nrf`.`news_category` = '品味生活'))\n",
    "            OR ((`nrf`.`news_source` = '經濟日報')\n",
    "            AND (`nrf`.`news_category` = '國內共同基金淨值'))\n",
    "            OR ((`nrf`.`news_source` = '經濟日報')\n",
    "            AND (`nrf`.`news_category` = '國際期貨'))\n",
    "            OR ((`nrf`.`news_source` = '經濟日報')\n",
    "            AND (`nrf`.`news_category` = '國際焦點'))\n",
    "            OR ((`nrf`.`news_source` = '經濟日報')\n",
    "            AND (`nrf`.`news_category` = '國際現場'))\n",
    "            OR ((`nrf`.`news_source` = '經濟日報')\n",
    "            AND (`nrf`.`news_category` = '基金天地'))\n",
    "            OR ((`nrf`.`news_source` = '經濟日報')\n",
    "            AND (`nrf`.`news_category` = '外匯市場'))\n",
    "            OR ((`nrf`.`news_source` = '經濟日報')\n",
    "            AND (`nrf`.`news_category` = '大數字'))\n",
    "            OR ((`nrf`.`news_source` = '經濟日報')\n",
    "            AND (`nrf`.`news_category` = '就市論勢'))\n",
    "            OR ((`nrf`.`news_source` = '經濟日報')\n",
    "            AND (`nrf`.`news_category` = '工具機'))\n",
    "            OR ((`nrf`.`news_source` = '經濟日報')\n",
    "            AND (`nrf`.`news_category` = '市場焦點'))\n",
    "            OR ((`nrf`.`news_source` = '經濟日報')\n",
    "            AND (`nrf`.`news_category` = '幸福城市大調查'))\n",
    "            OR ((`nrf`.`news_source` = '經濟日報')\n",
    "            AND (`nrf`.`news_category` = '建材新訊'))\n",
    "            OR ((`nrf`.`news_source` = '經濟日報')\n",
    "            AND (`nrf`.`news_category` = '建案開箱'))\n",
    "            OR ((`nrf`.`news_source` = '經濟日報')\n",
    "            AND (`nrf`.`news_category` = '房市情報'))\n",
    "            OR ((`nrf`.`news_source` = '經濟日報')\n",
    "            AND (`nrf`.`news_category` = '房市焦點'))\n",
    "            OR ((`nrf`.`news_source` = '經濟日報')\n",
    "            AND (`nrf`.`news_category` = '房市點線面'))\n",
    "            OR ((`nrf`.`news_source` = '經濟日報')\n",
    "            AND (`nrf`.`news_category` = '房產投資'))\n",
    "            OR ((`nrf`.`news_source` = '經濟日報')\n",
    "            AND (`nrf`.`news_category` = '投行看大陸'))\n",
    "            OR ((`nrf`.`news_source` = '經濟日報')\n",
    "            AND (`nrf`.`news_category` = '投資報告'))\n",
    "            OR ((`nrf`.`news_source` = '經濟日報')\n",
    "            AND (`nrf`.`news_category` = '指標焦點股'))\n",
    "            OR ((`nrf`.`news_source` = '經濟日報')\n",
    "            AND (`nrf`.`news_category` = '政經焦點'))\n",
    "            OR ((`nrf`.`news_source` = '經濟日報')\n",
    "            AND (`nrf`.`news_category` = '新冠肺炎防疫'))\n",
    "            OR ((`nrf`.`news_source` = '經濟日報')\n",
    "            AND (`nrf`.`news_category` = '新南向專題'))\n",
    "            OR ((`nrf`.`news_source` = '經濟日報')\n",
    "            AND (`nrf`.`news_category` = '日經中文網'))\n",
    "            OR ((`nrf`.`news_source` = '經濟日報')\n",
    "            AND (`nrf`.`news_category` = '時尚生活'))\n",
    "            OR ((`nrf`.`news_source` = '經濟日報')\n",
    "            AND (`nrf`.`news_category` = '智慧製造'))\n",
    "            OR ((`nrf`.`news_source` = '經濟日報')\n",
    "            AND (`nrf`.`news_category` = '智能股市'))\n",
    "            OR ((`nrf`.`news_source` = '經濟日報')\n",
    "            AND (`nrf`.`news_category` = '期貨商論壇'))\n",
    "            OR ((`nrf`.`news_source` = '經濟日報')\n",
    "            AND (`nrf`.`news_category` = '期貨市場'))\n",
    "            OR ((`nrf`.`news_source` = '經濟日報')\n",
    "            AND (`nrf`.`news_category` = '樂活旅遊'))\n",
    "            OR ((`nrf`.`news_source` = '經濟日報')\n",
    "            AND (`nrf`.`news_category` = '櫃買市場'))\n",
    "            OR ((`nrf`.`news_source` = '經濟日報')\n",
    "            AND (`nrf`.`news_category` = '權證特區'))\n",
    "            OR ((`nrf`.`news_source` = '經濟日報')\n",
    "            AND (`nrf`.`news_category` = '消費生活'))\n",
    "            OR ((`nrf`.`news_source` = '經濟日報')\n",
    "            AND (`nrf`.`news_category` = '熱門亮點'))\n",
    "            OR ((`nrf`.`news_source` = '經濟日報')\n",
    "            AND (`nrf`.`news_category` = '熱門話題'))\n",
    "            OR ((`nrf`.`news_source` = '經濟日報')\n",
    "            AND (`nrf`.`news_category` = '理財部落客'))\n",
    "            OR ((`nrf`.`news_source` = '經濟日報')\n",
    "            AND (`nrf`.`news_category` = '生技醫藥'))\n",
    "            OR ((`nrf`.`news_source` = '經濟日報')\n",
    "            AND (`nrf`.`news_category` = '產學研訓'))\n",
    "            OR ((`nrf`.`news_source` = '經濟日報')\n",
    "            AND (`nrf`.`news_category` = '產業動態'))\n",
    "            OR ((`nrf`.`news_source` = '經濟日報')\n",
    "            AND (`nrf`.`news_category` = '產業熱點'))\n",
    "            OR ((`nrf`.`news_source` = '經濟日報')\n",
    "            AND (`nrf`.`news_category` = '產業達人'))\n",
    "            OR ((`nrf`.`news_source` = '經濟日報')\n",
    "            AND (`nrf`.`news_category` = '社論'))\n",
    "            OR ((`nrf`.`news_source` = '經濟日報')\n",
    "            AND (`nrf`.`news_category` = '科技新視野'))\n",
    "            OR ((`nrf`.`news_source` = '經濟日報')\n",
    "            AND (`nrf`.`news_category` = '稅務法規'))\n",
    "            OR ((`nrf`.`news_source` = '經濟日報')\n",
    "            AND (`nrf`.`news_category` = '精品時尚'))\n",
    "            OR ((`nrf`.`news_source` = '經濟日報')\n",
    "            AND (`nrf`.`news_category` = '經濟周報'))\n",
    "            OR ((`nrf`.`news_source` = '經濟日報')\n",
    "            AND (`nrf`.`news_category` = '經營管理'))\n",
    "            OR ((`nrf`.`news_source` = '經濟日報')\n",
    "            AND (`nrf`.`news_category` = '綠色產業'))\n",
    "            OR ((`nrf`.`news_source` = '經濟日報')\n",
    "            AND (`nrf`.`news_category` = '總經趨勢'))\n",
    "            OR ((`nrf`.`news_source` = '經濟日報')\n",
    "            AND (`nrf`.`news_category` = '總編推薦'))\n",
    "            OR ((`nrf`.`news_source` = '經濟日報')\n",
    "            AND (`nrf`.`news_category` = '美中貿易戰'))\n",
    "            OR ((`nrf`.`news_source` = '經濟日報')\n",
    "            AND (`nrf`.`news_category` = '美國總統大選'))\n",
    "            OR ((`nrf`.`news_source` = '經濟日報')\n",
    "            AND (`nrf`.`news_category` = '職場風向'))\n",
    "            OR ((`nrf`.`news_source` = '經濟日報')\n",
    "            AND (`nrf`.`news_category` = '自動化產業'))\n",
    "            OR ((`nrf`.`news_source` = '經濟日報')\n",
    "            AND (`nrf`.`news_category` = '英語大進化'))\n",
    "            OR ((`nrf`.`news_source` = '經濟日報')\n",
    "            AND (`nrf`.`news_category` = '論壇'))\n",
    "            OR ((`nrf`.`news_source` = '經濟日報')\n",
    "            AND (`nrf`.`news_category` = '財富管理'))\n",
    "            OR ((`nrf`.`news_source` = '經濟日報')\n",
    "            AND (`nrf`.`news_category` = '責任投資／企業永續'))\n",
    "            OR ((`nrf`.`news_source` = '經濟日報')\n",
    "            AND (`nrf`.`news_category` = '資訊圖表'))\n",
    "            OR ((`nrf`.`news_source` = '經濟日報')\n",
    "            AND (`nrf`.`news_category` = '退休理財'))\n",
    "            OR ((`nrf`.`news_source` = '經濟日報')\n",
    "            AND (`nrf`.`news_category` = '運動休旅'))\n",
    "            OR ((`nrf`.`news_source` = '經濟日報')\n",
    "            AND (`nrf`.`news_category` = '醫藥生技'))\n",
    "            OR ((`nrf`.`news_source` = '經濟日報')\n",
    "            AND (`nrf`.`news_category` = '金融脈動'))\n",
    "            OR ((`nrf`.`news_source` = '經濟日報')\n",
    "            AND (`nrf`.`news_category` = '銀行保險'))\n",
    "            OR ((`nrf`.`news_source` = '經濟日報')\n",
    "            AND (`nrf`.`news_category` = '陸港行情'))\n",
    "            OR ((`nrf`.`news_source` = '經濟日報')\n",
    "            AND (`nrf`.`news_category` = '集中市場'))\n",
    "            OR ((`nrf`.`news_source` = '經濟日報')\n",
    "            AND (`nrf`.`news_category` = '願景工程'))\n",
    "            OR ((`nrf`.`news_source` = '經濟日報')\n",
    "            AND (`nrf`.`news_category` = '風格人物'))\n",
    "            OR ((`nrf`.`news_source` = '經濟日報')\n",
    "            AND (`nrf`.`news_category` = '食品餐飲'))\n",
    "            OR ((`nrf`.`news_source` = '經濟日報')\n",
    "            AND (`nrf`.`news_category` = '食尚饗宴'))\n",
    "            OR ((`nrf`.`news_source` = '自由時報')\n",
    "            AND (`nrf`.`news_category` = '財經新聞'))\n",
    "            OR ((`nrf`.`news_source` = '風傳媒')\n",
    "            AND (`nrf`.`news_category` = '財經')))\n",
    "GROUP BY nc.news_id, nc.news_title, nc.published_date, nc.published_time;\"\"\")"
   ]
  },
  {
   "cell_type": "code",
   "execution_count": 105,
   "id": "featured-accident",
   "metadata": {},
   "outputs": [
    {
     "name": "stderr",
     "output_type": "stream",
     "text": [
      "/Users/gary/opt/anaconda3/envs/analyzer/lib/python3.8/site-packages/ipykernel/ipkernel.py:287: DeprecationWarning: `should_run_async` will not call `transform_cell` automatically in the future. Please pass the result to `transformed_cell` argument and any exception that happen during thetransform in `preprocessing_exc_tuple` in IPython 7.17 and above.\n",
      "  and should_run_async(code)\n"
     ]
    },
    {
     "data": {
      "text/html": [
       "<div>\n",
       "<style scoped>\n",
       "    .dataframe tbody tr th:only-of-type {\n",
       "        vertical-align: middle;\n",
       "    }\n",
       "\n",
       "    .dataframe tbody tr th {\n",
       "        vertical-align: top;\n",
       "    }\n",
       "\n",
       "    .dataframe thead th {\n",
       "        text-align: right;\n",
       "    }\n",
       "</style>\n",
       "<table border=\"1\" class=\"dataframe\">\n",
       "  <thead>\n",
       "    <tr style=\"text-align: right;\">\n",
       "      <th></th>\n",
       "      <th>news_id</th>\n",
       "      <th>news_title</th>\n",
       "      <th>published_date</th>\n",
       "      <th>published_time</th>\n",
       "      <th>JSON_ARRAYAGG(ntw.word)</th>\n",
       "    </tr>\n",
       "  </thead>\n",
       "  <tbody>\n",
       "    <tr>\n",
       "      <th>0</th>\n",
       "      <td>454848</td>\n",
       "      <td>布林肯再發香港政策法報告 認定香港不再高度自治</td>\n",
       "      <td>2021-04-01</td>\n",
       "      <td>2021-03-31 16:15:00</td>\n",
       "      <td>[\"布林肯\", \"再\", \"發\", \"香港\", \"政策法\", \"報告\", \" \", \"認定\"...</td>\n",
       "    </tr>\n",
       "    <tr>\n",
       "      <th>1</th>\n",
       "      <td>454849</td>\n",
       "      <td>若普遍配戴驅鯊裝置 估50年間澳洲可少1063人被咬</td>\n",
       "      <td>2021-04-01</td>\n",
       "      <td>2021-03-31 16:15:00</td>\n",
       "      <td>[\"若\", \"普遍\", \"配戴\", \"驅\", \"鯊\", \"裝置\", \" \", \"估\", \"5...</td>\n",
       "    </tr>\n",
       "    <tr>\n",
       "      <th>2</th>\n",
       "      <td>454851</td>\n",
       "      <td>拜登2.25兆美元基礎建設及租稅計畫一覽</td>\n",
       "      <td>2021-04-01</td>\n",
       "      <td>2021-03-31 16:19:00</td>\n",
       "      <td>[\"拜登\", \"2.25兆\", \"美元\", \"基礎\", \"建設\", \"及\", \"租稅\", \"...</td>\n",
       "    </tr>\n",
       "    <tr>\n",
       "      <th>3</th>\n",
       "      <td>454853</td>\n",
       "      <td>BBC駐北京記者前往台灣 稱受到威脅趨烈</td>\n",
       "      <td>2021-04-01</td>\n",
       "      <td>2021-03-31 16:24:00</td>\n",
       "      <td>[\"BBC\", \"駐\", \"北京\", \"記者\", \"前往\", \"台灣\", \" \", \"稱\",...</td>\n",
       "    </tr>\n",
       "    <tr>\n",
       "      <th>4</th>\n",
       "      <td>454855</td>\n",
       "      <td>聯電集團還有戲？謝金河：股利政策看出企業力度</td>\n",
       "      <td>2021-04-01</td>\n",
       "      <td>2021-03-31 16:34:00</td>\n",
       "      <td>[\"聯電\", \"集團\", \"還\", \"有\", \"戲\", \"？\", \"謝金河\", \"：\", \"...</td>\n",
       "    </tr>\n",
       "    <tr>\n",
       "      <th>...</th>\n",
       "      <td>...</td>\n",
       "      <td>...</td>\n",
       "      <td>...</td>\n",
       "      <td>...</td>\n",
       "      <td>...</td>\n",
       "    </tr>\n",
       "    <tr>\n",
       "      <th>1533</th>\n",
       "      <td>461074</td>\n",
       "      <td>自我管理／做你所愛 愛你所做</td>\n",
       "      <td>2021-04-01</td>\n",
       "      <td>2021-04-01 15:58:00</td>\n",
       "      <td>[\"自我\", \"管理\", \"／\", \"做\", \"你\", \"所\", \"愛\", \" \", \"愛\"...</td>\n",
       "    </tr>\n",
       "    <tr>\n",
       "      <th>1534</th>\n",
       "      <td>461075</td>\n",
       "      <td>管理前哨站／企業管理高層的兩大職責</td>\n",
       "      <td>2021-04-01</td>\n",
       "      <td>2021-04-01 15:58:00</td>\n",
       "      <td>[\"管理\", \"前哨站\", \"／\", \"企業\", \"管理\", \"高層\", \"的\", \"兩\",...</td>\n",
       "    </tr>\n",
       "    <tr>\n",
       "      <th>1535</th>\n",
       "      <td>461153</td>\n",
       "      <td>港建前2月純益年增76% EPS為0.84元</td>\n",
       "      <td>2021-04-01</td>\n",
       "      <td>2021-04-01 15:41:15</td>\n",
       "      <td>[\"港\", \"建\", \"前\", \"2月\", \"純益\", \"年增\", \"76%\", \" \", ...</td>\n",
       "    </tr>\n",
       "    <tr>\n",
       "      <th>1536</th>\n",
       "      <td>461275</td>\n",
       "      <td>想進台積電？財務長黃仁昭：先學會這四大工作守則！</td>\n",
       "      <td>2021-04-01</td>\n",
       "      <td>2021-04-01 10:44:00</td>\n",
       "      <td>[\"想\", \"進\", \"台積電\", \"？\", \"財務長\", \"黃仁昭\", \"：\", \"先\",...</td>\n",
       "    </tr>\n",
       "    <tr>\n",
       "      <th>1537</th>\n",
       "      <td>487275</td>\n",
       "      <td>教育部社區職場體驗賽 中國科大影視系獲佳績</td>\n",
       "      <td>2021-04-01</td>\n",
       "      <td>2021-04-01 10:00:00</td>\n",
       "      <td>[\"教育部\", \"社區\", \"職場\", \"體驗賽\", \" \", \"中國\", \"科大\", \"影...</td>\n",
       "    </tr>\n",
       "  </tbody>\n",
       "</table>\n",
       "<p>1538 rows × 5 columns</p>\n",
       "</div>"
      ],
      "text/plain": [
       "      news_id                  news_title published_date      published_time  \\\n",
       "0      454848     布林肯再發香港政策法報告 認定香港不再高度自治     2021-04-01 2021-03-31 16:15:00   \n",
       "1      454849  若普遍配戴驅鯊裝置 估50年間澳洲可少1063人被咬     2021-04-01 2021-03-31 16:15:00   \n",
       "2      454851        拜登2.25兆美元基礎建設及租稅計畫一覽     2021-04-01 2021-03-31 16:19:00   \n",
       "3      454853        BBC駐北京記者前往台灣 稱受到威脅趨烈     2021-04-01 2021-03-31 16:24:00   \n",
       "4      454855      聯電集團還有戲？謝金河：股利政策看出企業力度     2021-04-01 2021-03-31 16:34:00   \n",
       "...       ...                         ...            ...                 ...   \n",
       "1533   461074              自我管理／做你所愛 愛你所做     2021-04-01 2021-04-01 15:58:00   \n",
       "1534   461075           管理前哨站／企業管理高層的兩大職責     2021-04-01 2021-04-01 15:58:00   \n",
       "1535   461153      港建前2月純益年增76% EPS為0.84元     2021-04-01 2021-04-01 15:41:15   \n",
       "1536   461275    想進台積電？財務長黃仁昭：先學會這四大工作守則！     2021-04-01 2021-04-01 10:44:00   \n",
       "1537   487275       教育部社區職場體驗賽 中國科大影視系獲佳績     2021-04-01 2021-04-01 10:00:00   \n",
       "\n",
       "                                JSON_ARRAYAGG(ntw.word)  \n",
       "0     [\"布林肯\", \"再\", \"發\", \"香港\", \"政策法\", \"報告\", \" \", \"認定\"...  \n",
       "1     [\"若\", \"普遍\", \"配戴\", \"驅\", \"鯊\", \"裝置\", \" \", \"估\", \"5...  \n",
       "2     [\"拜登\", \"2.25兆\", \"美元\", \"基礎\", \"建設\", \"及\", \"租稅\", \"...  \n",
       "3     [\"BBC\", \"駐\", \"北京\", \"記者\", \"前往\", \"台灣\", \" \", \"稱\",...  \n",
       "4     [\"聯電\", \"集團\", \"還\", \"有\", \"戲\", \"？\", \"謝金河\", \"：\", \"...  \n",
       "...                                                 ...  \n",
       "1533  [\"自我\", \"管理\", \"／\", \"做\", \"你\", \"所\", \"愛\", \" \", \"愛\"...  \n",
       "1534  [\"管理\", \"前哨站\", \"／\", \"企業\", \"管理\", \"高層\", \"的\", \"兩\",...  \n",
       "1535  [\"港\", \"建\", \"前\", \"2月\", \"純益\", \"年增\", \"76%\", \" \", ...  \n",
       "1536  [\"想\", \"進\", \"台積電\", \"？\", \"財務長\", \"黃仁昭\", \"：\", \"先\",...  \n",
       "1537  [\"教育部\", \"社區\", \"職場\", \"體驗賽\", \" \", \"中國\", \"科大\", \"影...  \n",
       "\n",
       "[1538 rows x 5 columns]"
      ]
     },
     "execution_count": 105,
     "metadata": {},
     "output_type": "execute_result"
    }
   ],
   "source": [
    "df"
   ]
  },
  {
   "cell_type": "code",
   "execution_count": 103,
   "id": "accurate-chest",
   "metadata": {},
   "outputs": [
    {
     "name": "stderr",
     "output_type": "stream",
     "text": [
      "/Users/gary/opt/anaconda3/envs/analyzer/lib/python3.8/site-packages/ipykernel/ipkernel.py:287: DeprecationWarning: `should_run_async` will not call `transform_cell` automatically in the future. Please pass the result to `transformed_cell` argument and any exception that happen during thetransform in `preprocessing_exc_tuple` in IPython 7.17 and above.\n",
      "  and should_run_async(code)\n"
     ]
    },
    {
     "data": {
      "text/html": [
       "<div>\n",
       "<style scoped>\n",
       "    .dataframe tbody tr th:only-of-type {\n",
       "        vertical-align: middle;\n",
       "    }\n",
       "\n",
       "    .dataframe tbody tr th {\n",
       "        vertical-align: top;\n",
       "    }\n",
       "\n",
       "    .dataframe thead th {\n",
       "        text-align: right;\n",
       "    }\n",
       "</style>\n",
       "<table border=\"1\" class=\"dataframe\">\n",
       "  <thead>\n",
       "    <tr style=\"text-align: right;\">\n",
       "      <th></th>\n",
       "      <th>news_id</th>\n",
       "      <th>news_title</th>\n",
       "      <th>published_date</th>\n",
       "      <th>published_time</th>\n",
       "    </tr>\n",
       "  </thead>\n",
       "  <tbody>\n",
       "    <tr>\n",
       "      <th>0</th>\n",
       "      <td>454848</td>\n",
       "      <td>布林肯再發香港政策法報告 認定香港不再高度自治</td>\n",
       "      <td>2021-04-01</td>\n",
       "      <td>2021-03-31 16:15:00</td>\n",
       "    </tr>\n",
       "    <tr>\n",
       "      <th>1</th>\n",
       "      <td>454849</td>\n",
       "      <td>若普遍配戴驅鯊裝置 估50年間澳洲可少1063人被咬</td>\n",
       "      <td>2021-04-01</td>\n",
       "      <td>2021-03-31 16:15:00</td>\n",
       "    </tr>\n",
       "    <tr>\n",
       "      <th>2</th>\n",
       "      <td>454851</td>\n",
       "      <td>拜登2.25兆美元基礎建設及租稅計畫一覽</td>\n",
       "      <td>2021-04-01</td>\n",
       "      <td>2021-03-31 16:19:00</td>\n",
       "    </tr>\n",
       "    <tr>\n",
       "      <th>3</th>\n",
       "      <td>454853</td>\n",
       "      <td>BBC駐北京記者前往台灣 稱受到威脅趨烈</td>\n",
       "      <td>2021-04-01</td>\n",
       "      <td>2021-03-31 16:24:00</td>\n",
       "    </tr>\n",
       "    <tr>\n",
       "      <th>4</th>\n",
       "      <td>454855</td>\n",
       "      <td>聯電集團還有戲？謝金河：股利政策看出企業力度</td>\n",
       "      <td>2021-04-01</td>\n",
       "      <td>2021-03-31 16:34:00</td>\n",
       "    </tr>\n",
       "    <tr>\n",
       "      <th>...</th>\n",
       "      <td>...</td>\n",
       "      <td>...</td>\n",
       "      <td>...</td>\n",
       "      <td>...</td>\n",
       "    </tr>\n",
       "    <tr>\n",
       "      <th>1533</th>\n",
       "      <td>461074</td>\n",
       "      <td>自我管理／做你所愛 愛你所做</td>\n",
       "      <td>2021-04-01</td>\n",
       "      <td>2021-04-01 15:58:00</td>\n",
       "    </tr>\n",
       "    <tr>\n",
       "      <th>1534</th>\n",
       "      <td>461075</td>\n",
       "      <td>管理前哨站／企業管理高層的兩大職責</td>\n",
       "      <td>2021-04-01</td>\n",
       "      <td>2021-04-01 15:58:00</td>\n",
       "    </tr>\n",
       "    <tr>\n",
       "      <th>1535</th>\n",
       "      <td>461153</td>\n",
       "      <td>港建前2月純益年增76% EPS為0.84元</td>\n",
       "      <td>2021-04-01</td>\n",
       "      <td>2021-04-01 15:41:15</td>\n",
       "    </tr>\n",
       "    <tr>\n",
       "      <th>1536</th>\n",
       "      <td>461275</td>\n",
       "      <td>想進台積電？財務長黃仁昭：先學會這四大工作守則！</td>\n",
       "      <td>2021-04-01</td>\n",
       "      <td>2021-04-01 10:44:00</td>\n",
       "    </tr>\n",
       "    <tr>\n",
       "      <th>1537</th>\n",
       "      <td>487275</td>\n",
       "      <td>教育部社區職場體驗賽 中國科大影視系獲佳績</td>\n",
       "      <td>2021-04-01</td>\n",
       "      <td>2021-04-01 10:00:00</td>\n",
       "    </tr>\n",
       "  </tbody>\n",
       "</table>\n",
       "<p>1538 rows × 4 columns</p>\n",
       "</div>"
      ],
      "text/plain": [
       "      news_id                  news_title published_date      published_time\n",
       "0      454848     布林肯再發香港政策法報告 認定香港不再高度自治     2021-04-01 2021-03-31 16:15:00\n",
       "1      454849  若普遍配戴驅鯊裝置 估50年間澳洲可少1063人被咬     2021-04-01 2021-03-31 16:15:00\n",
       "2      454851        拜登2.25兆美元基礎建設及租稅計畫一覽     2021-04-01 2021-03-31 16:19:00\n",
       "3      454853        BBC駐北京記者前往台灣 稱受到威脅趨烈     2021-04-01 2021-03-31 16:24:00\n",
       "4      454855      聯電集團還有戲？謝金河：股利政策看出企業力度     2021-04-01 2021-03-31 16:34:00\n",
       "...       ...                         ...            ...                 ...\n",
       "1533   461074              自我管理／做你所愛 愛你所做     2021-04-01 2021-04-01 15:58:00\n",
       "1534   461075           管理前哨站／企業管理高層的兩大職責     2021-04-01 2021-04-01 15:58:00\n",
       "1535   461153      港建前2月純益年增76% EPS為0.84元     2021-04-01 2021-04-01 15:41:15\n",
       "1536   461275    想進台積電？財務長黃仁昭：先學會這四大工作守則！     2021-04-01 2021-04-01 10:44:00\n",
       "1537   487275       教育部社區職場體驗賽 中國科大影視系獲佳績     2021-04-01 2021-04-01 10:00:00\n",
       "\n",
       "[1538 rows x 4 columns]"
      ]
     },
     "execution_count": 103,
     "metadata": {},
     "output_type": "execute_result"
    }
   ],
   "source": [
    "df2 = query_from_db(\"\"\"SELECT * FROM news_db.all_financial_title_view WHERE published_date = '2021-04-01';\"\"\")\n",
    "df2"
   ]
  },
  {
   "cell_type": "code",
   "execution_count": 11,
   "id": "lonely-steam",
   "metadata": {},
   "outputs": [
    {
     "name": "stderr",
     "output_type": "stream",
     "text": [
      "Paddle enabled successfully......\n",
      "2021-05-08 14:19:38,561 - DEBUG - Paddle enabled successfully......\n"
     ]
    }
   ],
   "source": [
    "import jieba\n",
    "import paddle\n",
    "paddle.enable_static()\n",
    "jieba.enable_paddle()"
   ]
  },
  {
   "cell_type": "code",
   "execution_count": 21,
   "id": "geological-cathedral",
   "metadata": {},
   "outputs": [
    {
     "data": {
      "text/plain": [
       "'漢字'"
      ]
     },
     "execution_count": 21,
     "metadata": {},
     "output_type": "execute_result"
    }
   ],
   "source": [
    "import opencc\n",
    "t2s = opencc.OpenCC('t2s.json')\n",
    "s2t = opencc.OpenCC('s2t.json')\n",
    "s2t.convert('汉字')  # 漢字"
   ]
  },
  {
   "cell_type": "code",
   "execution_count": 4,
   "id": "forty-discussion",
   "metadata": {},
   "outputs": [],
   "source": [
    "review_lst = df['news_title'].values.tolist()[:100]"
   ]
  },
  {
   "cell_type": "code",
   "execution_count": 24,
   "id": "coral-obligation",
   "metadata": {
    "collapsed": true,
    "jupyter": {
     "outputs_hidden": true
    }
   },
   "outputs": [
    {
     "name": "stdout",
     "output_type": "stream",
     "text": [
      "Paddle Mode: 布林肯/再发/香港/政策/法/报告/ /认定/香港/不再/高度/自治\n",
      "Paddle Mode: 若/普遍/配戴/驱鲨/装置/ 估/50年间/澳洲/可少/1063/人/被/咬\n",
      "Paddle Mode: 拜/登/2.25兆美元/基础/建设/及/租税/计划/一览\n",
      "Paddle Mode: BBC/驻/北京/记者/前往/台湾/ 称/受到/威胁/趋烈\n",
      "Paddle Mode: 联电集团/还有/戏/？/谢金河：股利/政策/看出/企业/力度\n",
      "Paddle Mode: 传出/宜兰/设/厂/?/ /台积电/:/无/进一步/扩/厂/具体/计划\n",
      "Paddle Mode: 台积电竹科12厂火警 虚惊\n",
      "Paddle Mode: 陈俊圣/谈/骇客/勒索/：/怎么/可能/付钱\n",
      "Paddle Mode: 涨价/潮/蔓延/ 关键零组件/报价/纷扬升\n",
      "Paddle Mode: 推/旅游/泡泡/ /不如/规划/健康/护照\n",
      "Paddle Mode: 富邦：并日盛 /明年/看到/效益\n",
      "Paddle Mode: 富邦加码台股 /还有/440亿/空间\n",
      "Paddle Mode: 卡苏伊士运河/近一周/ 「长赐号」/搁浅/原因/调查/展开\n",
      "Paddle Mode: 欧股/多/收低/ 外送平台Deliveroo/上市/首日/股价/大跌\n",
      "Paddle Mode: 欧股/多/收低/ 外送平台Deliveroo/上市/首日/股价/大跌\n",
      "Paddle Mode: 打炒/房/纷扰/不/影响/买/气/ /房仲/上月/交易/增/两位/数\n",
      "Paddle Mode: 东元公司/派/董事/名单/ /留下/三个/问号\n",
      "Paddle Mode: 东元公司/派/争取/支持/ 自许/务实/改革派\n",
      "Paddle Mode: 修/营业秘密法 /防/堵/陆资/挖角/./././三/关键\n",
      "Paddle Mode: 国泰台湾5G+ ETF/受益/人数/再创/高\n",
      "Paddle Mode: 柜/买/公告/「/战略/新板/」/相关/规章\n",
      "Paddle Mode: 柜/买/业绩/发表/会/下周3/连发\n",
      "Paddle Mode: 欧股/多/收低/ 外送平台Deliveroo/上市/首日/股价/大跌\n",
      "Paddle Mode: 资策/会/办/AI论坛 /加速/数位/转型\n",
      "Paddle Mode: 【欧股盘/后/】/多/收/低\n",
      "Paddle Mode: 户户/送/伦敦/挂牌/出师/不利 /外送员/抗议/薪声/引发/卖/压\n",
      "Paddle Mode: 苹果/开发者/大会/ /6月7日起/线上/登场\n",
      "Paddle Mode: 露露柠檬示警疫情效应 恐关/更多/店面\n",
      "Paddle Mode: 俄罗斯/研发/全球/首款/动物/新冠/疫苗/ /最/快/本月/量产\n",
      "Paddle Mode: 福斯愚人节玩笑 改名Voltswagen /搭/电动车/热潮\n",
      "Paddle Mode: 南韩/能源/供应商/旗下/部门/IPO /将/成/四年/来/最大/上市案\n",
      "Paddle Mode: 印度/鼓励/晶片/业者/设/厂/ /每家/奖励/10亿美元/现金\n",
      "Paddle Mode: 瑞萨/供货/短期内/难/恢复/ 丰田、日产/为/减产/做/准备\n",
      "Paddle Mode: 陆大数据交易所/成立/ 金控集团/发起/ /创新/买卖/模式\n",
      "Paddle Mode: 中金/员工/平均/年薪/496万 /称冠/上市/券商\n",
      "Paddle Mode: 陆太阳能组件厂/囊括/全球七强 /供应/比重/超过/70%\n",
      "Paddle Mode: 高分/12号/02/卫星/发射/ /负责/国土普查、/城市规划\n",
      "Paddle Mode: 香港联交所/扩展/第二/上市制 招手大中华传/产业/挂牌\n",
      "Paddle Mode: 台陆/澳/人士/入境/香港/  须/做/两次/新/冠病毒/检测\n",
      "Paddle Mode: 线上/广交会/15日/登场/ 32国/参与/ 办/44场/推介/活动\n",
      "Paddle Mode: 背痛/腿/麻/却/无法/就医/ 俄异议/人士/纳瓦尼/绝食/抗议\n",
      "Paddle Mode: AZ疫苗安不安全？EU/当局/：/尚未/发现/特定/危险因子\n",
      "Paddle Mode: 突破/封锁/ /华为/去年/获利/逆势/增\n",
      "Paddle Mode: 中芯净利/劲/扬/1.4倍\n",
      "Paddle Mode: NCC/通过/华视/上架/52台/ /外界/质疑/财务/严重/亏损/、/人力/不足\n",
      "Paddle Mode: 申报/最低/税负/ /别/犯/两/错误\n",
      "Paddle Mode: 数位服务税战火 恐波/及/台商\n",
      "Paddle Mode: 公益/团体/免税/ /注意/收支/比\n",
      "Paddle Mode: 节能/家电/省税/ /延长/两年\n",
      "Paddle Mode: 中信银/八大/优势/ /满足/投资/需求\n",
      "Paddle Mode: 中信银高/资产/财管/服务/升级/ /瞄准/亿元级/客户\n",
      "Paddle Mode: 中信银/提升/广度/深度/ 频夺/国际/大奖\n",
      "Paddle Mode: AFMA/打造/金融/教育/新/蓝海\n",
      "Paddle Mode: 银行/让利/ 竞/推/永续/连结/贷款\n",
      "Paddle Mode: ESG/成/显/学/ /有助/吸引/外资/买/股\n",
      "Paddle Mode: 中信银/砸/39亿 /增持/泰国LH集团/至/46.6%\n",
      "Paddle Mode: 彰银冲获利 /强化/海外/布局\n",
      "Paddle Mode: 南山人寿/去年/净利/创新/高  EP/S /2.7元\n",
      "Paddle Mode: 科法斯/报/告示/警/ /欧洲/有/隐形/破产/未/爆/弹\n",
      "Paddle Mode: 莱镁医iNAP One适用经济部/新药/条例\n",
      "Paddle Mode: momo富邦/媒/通过/发放/现金/股利/每股/10元\n",
      "Paddle Mode: 疫情/难/挡/法国/再度/封/城/ /国际/油价/走/跌\n",
      "Paddle Mode: 美股科技股走扬 那指、标普500/收/红\n",
      "Paddle Mode: 18/抢/11/ 东元嬷/孙、/女婿/ /5///25/决战\n",
      "Paddle Mode: 最强/女婿/黄茂雄/2度/对战/创始/股东\n",
      "Paddle Mode: 三方/合体/持股/逾/4成 公司派老神在在\n",
      "Paddle Mode: 炒股/案/伤/形象/ 林/陈海/低调/︰/和/为/贵\n",
      "Paddle Mode: 瀚薪移中 工研院：/若/侵权/将/提告\n",
      "Paddle Mode: 红链/渗透/ 国安局：/情况/非常/严峻\n",
      "Paddle Mode: 挑战/新/中资/条款/ /虾皮/二度/叩关\n",
      "Paddle Mode: 国防部/出动/净水/设备/ /支援/中港园区/用水\n",
      "Paddle Mode: 陈吉仲/会/环/团/谈/藻礁 /方向/一致/、/未/达/共识\n",
      "Paddle Mode: 节能电器退税优惠 政院/今/拍板/再/延/2年\n",
      "Paddle Mode: 台积电竹科12B厂火警 /3奈米/研发/进程/有/变数/？\n",
      "Paddle Mode: 工具机/暨/零组件/公会/理事长/许文宪/︰/半导体/高薪/吸/人才/ /传/产业/忧心\n",
      "Paddle Mode: FII电动车战略 3箭齐发\n",
      "Paddle Mode: 全国/房价/指数/连/涨/10季/ 台南/累计/涨/14.35/％ 居冠\n",
      "Paddle Mode: 房贷/负担率/与/房价/所得/比/ 四/都/加重\n",
      "Paddle Mode: 前2月/制造业/景气/指标/ 创/10年同期/新高\n",
      "Paddle Mode: 联贷案杀价竞争 金管会/将/出面/协商\n",
      "Paddle Mode: 富邦Q3收购日盛剩下股权 /维持/每股/13元\n",
      "Paddle Mode: 元大寿存股保单争议 金管会/调查/缺失\n",
      "Paddle Mode: 证券/行情/表、/证券/表格\n",
      "Paddle Mode: 陆制造业PMI 攀/三个月/高点\n",
      "Paddle Mode: 陆挺/企业/ /再/减税/2.4兆元\n",
      "Paddle Mode: SPAC/热潮/持续/ /英国/、/新加坡/跟进\n",
      "Paddle Mode: 新疆棉事件 H&M/灭火\n",
      "Paddle Mode: 亚洲央行/面临/升息/压力/ 忧/抑制/国内/成长\n",
      "Paddle Mode: OPEC/+/调/降/原油/需求/预期/ /降至/30万桶\n",
      "Paddle Mode: IMF/将/上/修/全球/GDP/成长率/ 示警/应/为/新兴市场/债务/危机/预/做/准备\n",
      "Paddle Mode: 美基建案规模 /冲/2.2兆美元\n",
      "Paddle Mode: 乌俄/边界/情势/紧绷/ 美参联/主席/与/两国/最高/将领/通话\n",
      "Paddle Mode: 法国/第三波/疫情/止不住/ 马克宏：/再度/全国/封城\n",
      "Paddle Mode: 疫情/难/挡/法国/再度/封/城/ /国际/油价/走/跌\n",
      "Paddle Mode: 美股科技股走扬 那指、标普500/收/红\n",
      "Paddle Mode: 非美/货币/皆/走/贬/ /台币/成/最/抗/跌亚币\n",
      "Paddle Mode: 黄天牧评台股：万六…/是/高/了/一点\n",
      "Paddle Mode: 台股大盘Q1涨幅 称冠/全球\n",
      "Paddle Mode: 史/上/最强 /上市柜/去年/赚/逾/2.4兆\n",
      "Paddle Mode: 4月1日/ /五件/财经/大事/抢先/看\n"
     ]
    }
   ],
   "source": [
    "for title in review_lst:\n",
    "    seg_list = jieba.cut(t2s.convert(title),use_paddle=True) # 使用paddle模式\n",
    "    print(\"Paddle Mode: \" + '/'.join(list(seg_list)))"
   ]
  },
  {
   "cell_type": "code",
   "execution_count": 18,
   "id": "hearing-hands",
   "metadata": {
    "collapsed": true,
    "jupyter": {
     "outputs_hidden": true
    }
   },
   "outputs": [
    {
     "name": "stderr",
     "output_type": "stream",
     "text": [
      "Building prefix dict from the default dictionary ...\n",
      "2021-05-08 14:23:19,018 - DEBUG - Building prefix dict from the default dictionary ...\n",
      "Dumping model to file cache /var/folders/l6/j7styh_107jbfqvwv92x50dr0000gn/T/jieba.cache\n",
      "2021-05-08 14:23:19,935 - DEBUG - Dumping model to file cache /var/folders/l6/j7styh_107jbfqvwv92x50dr0000gn/T/jieba.cache\n",
      "Loading model cost 0.991 seconds.\n",
      "2021-05-08 14:23:20,015 - DEBUG - Loading model cost 0.991 seconds.\n",
      "Prefix dict has been built successfully.\n",
      "2021-05-08 14:23:20,016 - DEBUG - Prefix dict has been built successfully.\n"
     ]
    },
    {
     "name": "stdout",
     "output_type": "stream",
     "text": [
      "Full Mode: 布/ 林肯/ 再/ 發/ 香港/ 政策/ 法/ 報/ 告/ /  / / 認/ 定/ 香港/ 不再/ 高度/ 自治\n",
      "Full Mode: 若/ 普遍/ 配戴/ 驅/ 鯊/ 裝/ 置/ /  / / 估/ 50/ 年/ 間/ 澳洲/ 可/ 少/ 1063/ 人/ 被/ 咬\n",
      "Full Mode: 拜登/ 2/ ./ 25/ 兆/ 美元/ 基/ 礎/ 建/ 設/ 及/ 租/ 稅/ 計/ 畫/ 一/ 覽\n",
      "Full Mode: BBC/ 駐/ 北京/ 記/ 者/ 前往/ 台/ 灣/ /  / / 稱/ 受到/ 威/ 脅/ 趨/ 烈\n",
      "Full Mode: 聯/ 電/ 集/ 團/ 還/ 有/ 戲/ ？/ 謝/ 金河/ ：/ 股利/ 政策/ 看出/ 企/ 業/ 力度\n",
      "Full Mode: 傳/ 出/ 宜/ 蘭/ 設/ 廠/ ?/  / / 台/ 積/ 電/ :/ 無/ 進/ 一步/ 擴/ 廠/ 具/ 體/ 計/ 畫\n",
      "Full Mode: 台/ 積/ 電/ 竹/ 科/ 12/ 廠/ 火警/ /  / / 虛/ 驚\n",
      "Full Mode: 陳/ 俊/ 聖/ 談/ 駭/ 客/ 勒索/ ：/ 怎/ 麼/ 可能/ 付/ 錢\n",
      "Full Mode: 漲/ 價/ 潮/ 蔓延/ /  / / 關/ 鍵/ 零/ 組/ 件/ 報/ 價/ 紛/ 揚/ 升\n",
      "Full Mode: 推/ 旅/ 遊/ 泡泡/ /  / / 不如/ 規/ 劃/ 健康/ 護/ 照\n",
      "Full Mode: 富/ 邦/ ：/ 併/ 日盛/ /  / / 明年/ 看到/ 效益\n",
      "Full Mode: 富/ 邦加/ 碼/ 台/ 股/ /  / / 還/ 有/ 440/ 億/ 空/ 間\n",
      "Full Mode: 卡/ 蘇/ 伊/ 士/ 運/ 河/ 近/ 一/ 週/ /  / 「/ 長/ 賜/ 號/ 」/ 擱/ 淺/ 原因/ 調/ 查/ 展/ 開\n",
      "Full Mode: 歐/ 股/ 多/ 收/ 低/ /  / / 外/ 送/ 平台/ Deliveroo/ 上市/ 首日/ 股/ 價/ 大跌\n",
      "Full Mode: 歐/ 股/ 多/ 收/ 低/ /  / / 外/ 送/ 平台/ Deliveroo/ 上市/ 首日/ 股/ 價/ 大跌\n",
      "Full Mode: 打/ 炒/ 房/ 紛/ 擾/ 不/ 影/ 響/ 買/ 氣/ /  / / 房/ 仲/ 上月/ 交易/ 增/ 兩/ 位/ 數\n",
      "Full Mode: 東/ 元/ 公司/ 派/ 董事/ 名/ 單/ /  / / 留下/ 三/ 個/ 問/ 號\n",
      "Full Mode: 東/ 元/ 公司/ 派/ 爭/ 取/ 支持/ /  / / 自/ 許/ 務/ 實/ 改革/ 改革派\n",
      "Full Mode: 修/ 營/ 業/ 秘密/ 密法/ /  / / 防堵/ 陸/ 資/ 挖角/ ./ ./ ./ 三/ 關/ 鍵\n",
      "Full Mode: 國/ 泰/ 台/ 灣/ 5G/ +/ /  / / ETF/ 受益/ 受益人/ 數/ 再/ 創/ 高\n",
      "Full Mode: 櫃/ 買/ 公告/ 「/ 戰/ 略/ 新/ 板/ 」/ 相/ 關/ 規/ 章\n",
      "Full Mode: 櫃/ 買/ 業/ 績/ 發/ 表/ 會/ 下周/ 3/ 連/ 發\n",
      "Full Mode: 歐/ 股/ 多/ 收/ 低/ /  / / 外/ 送/ 平台/ Deliveroo/ 上市/ 首日/ 股/ 價/ 大跌\n",
      "Full Mode: 資/ 策/ 會/ 辦/ AI/ 論/ 壇/ /  / / 加速/ 數/ 位/ 轉/ 型\n",
      "Full Mode: 【/ 歐/ 股/ 盤/ 後/ 】/ 多/ 收/ 低\n",
      "Full Mode: 戶/ 戶/ 送/ 倫/ 敦/ 掛/ 牌/ 出/ 師/ 不利/ /  / / 外/ 送/ 員/ 抗/ 議/ 薪/ 聲/ 引/ 發/ 賣/ 壓\n",
      "Full Mode: 蘋/ 果/ 開/ 發/ 者/ 大/ 會/ /  / / 6/ 月/ 7/ 日/ 起/ 線/ 上/ 登/ 場\n",
      "Full Mode: 露露/ 檸/ 檬/ 示警/ 疫情/ 效/ 應/ /  / / 恐/ 關/ 更多/ 店面\n",
      "Full Mode: 俄/ 羅/ 斯/ 研/ 發/ 全球/ 首款/ 動/ 物/ 新/ 冠/ 疫苗/ /  / / 最快/ 本月/ 量/ 產\n",
      "Full Mode: 福斯/ 愚人/ 節/ 玩笑/ /  / / 改名/ Voltswagen/ /  / / 搭/ 電/ 動/ 車/ 熱/ 潮\n",
      "Full Mode: 南/ 韓/ 能源/ 供/ 應/ 商/ 旗下/ 下部/ 門/ IPO/ /  / / 將/ 成/ 四年/ 來/ 最大/ 上市/ 案\n",
      "Full Mode: 印度/ 鼓/ 勵/ 晶片/ 業/ 者/ 設/ 廠/ /  / / 每家/ 獎/ 勵/ 10/ 億/ 美元/ 現/ 金\n",
      "Full Mode: 瑞/ 薩/ 供/ 貨/ 短期/ 內/ 難/ 恢/ 復/ /  / / 豐/ 田/ 、/ 日/ 產/ 為/ 減/ 產/ 做/ 準/ 備\n",
      "Full Mode: 陸/ 大/ 數/ 據/ 交易/ 交易所/ 成立/ /  / / 金/ 控/ 集/ 團/ 發/ 起/ /  / / 創/ 新/ 買/ 賣/ 模式\n",
      "Full Mode: 中金/ 員/ 工/ 平均/ 年薪/ 496/ 萬/ /  / / 稱/ 冠/ 上市/ 券商\n",
      "Full Mode: 陸/ 太/ 陽/ 能/ 組/ 件/ 廠/ 囊括/ 全球/ 七/ 強/ /  / / 供/ 應/ 比重/ 超/ 過/ 70/ %\n",
      "Full Mode: 高分/ 12/ 號/ 02/ 衛/ 星/ 發/ 射/ /  / / 負/ 責/ 國/ 土/ 普查/ 、/ 城市/ 規/ 劃\n",
      "Full Mode: 香港/ 聯/ 交/ 所/ 擴/ 展/ 第二/ 上市/ 市制/ /  / / 招手/ 大中/ 華/ 傳/ 產/ 業/ 掛/ 牌\n",
      "Full Mode: 台/ 陸/ 澳/ 人士/ 入境/ 香港/ /  / /  / / 須/ 做/ 兩/ 次/ 新/ 冠/ 病毒/ 檢/ 測\n",
      "Full Mode: 線/ 上/ 廣/ 交/ 會/ 15/ 日/ 登/ 場/ /  / / 32/ 國/ 參/ 與/ /  / / 辦/ 44/ 場/ 推介/ 活/ 動\n",
      "Full Mode: 背痛/ 腿/ 麻/ 卻/ 無/ 法/ 就/ 醫/ /  / / 俄/ 異/ 議/ 人士/ 納/ 瓦/ 尼/ 絕/ 食/ 抗/ 議\n",
      "Full Mode: AZ/ 疫苗/ 安/ 不安/ 安全/ ？/ EU/ 當/ 局/ ：/ 尚未/ 發/ 現/ 特定/ 危/ 險/ 因子\n",
      "Full Mode: 突破/ 封/ 鎖/ /  / / 華/ 為/ 去年/ 獲/ 利/ 逆/ 勢/ 增\n",
      "Full Mode: 中/ 芯/ 淨/ 利/ 勁/ 揚/ 1/ ./ 4/ 倍\n",
      "Full Mode: NCC/ 通/ 過/ 華/ 視/ 上架/ 52/ 台/ /  / / 外界/ 質/ 疑/ 財/ 務/ 嚴/ 重/ 虧/ 損/ 、/ 人力/ 人力不足/ 不足\n",
      "Full Mode: 申/ 報/ 最低/ 稅/ 負/ /  / / 別/ 犯/ 兩/ 錯/ 誤\n",
      "Full Mode: 數/ 位/ 服/ 務/ 稅/ 戰/ 火/ /  / / 恐/ 波及/ 台商\n",
      "Full Mode: 公益/ 團/ 體/ 免/ 稅/ /  / / 注意/ 收支/ 比\n",
      "Full Mode: 節/ 能/ 家/ 電/ 省/ 稅/ /  / / 延/ 長/ 兩/ 年\n",
      "Full Mode: 中信/ 銀/ 八大/ 優/ 勢/ /  / / 滿/ 足/ 投/ 資/ 需求\n",
      "Full Mode: 中信/ 銀/ 高/ 資/ 產/ 財/ 管/ 服/ 務/ 升/ 級/ /  / / 瞄/ 準/ 億/ 元/ 級/ 客/ 戶\n",
      "Full Mode: 中信/ 銀/ 提升/ 廣/ 度/ 深度/ /  / / 頻/ 奪/ 國/ 際/ 大/ 獎\n",
      "Full Mode: AFMA/ 打造/ 金融/ 教育/ 育新/ 藍/ 海\n",
      "Full Mode: 銀/ 行/ 讓/ 利/ /  / / 競/ 推/ 永/ 續/ 連/ 結/ 貸/ 款\n",
      "Full Mode: ESG/ 成/ 顯/ 學/ /  / / 有助/ 吸引/ 外/ 資/ 買/ 股\n",
      "Full Mode: 中信/ 銀/ 砸/ 39/ 億/ /  / / 增/ 持/ 泰/ 國/ LH/ 集/ 團/ 至/ 46/ ./ 6/ %\n",
      "Full Mode: 彰/ 銀/ 衝/ 獲/ 利/ /  / / 強/ 化/ 海外/ 布局\n",
      "Full Mode: 南山/ 山人/ 壽/ 去年/ 淨/ 利/ 創/ 新高/ /  / /  / / EPS/ /  / / 2/ ./ 7/ 元\n",
      "Full Mode: 科/ 法斯/ 報/ 告示/ 示警/ /  / / 歐/ 洲/ 有/ 隱/ 形/ 破/ 產/ 未/ 爆/ 彈\n",
      "Full Mode: 萊/ 鎂/ 醫/ iNAP/ /  / / One/ 適/ 用/ 經/ 濟/ 部/ 新/ 藥/ 條/ 例\n",
      "Full Mode: momo/ 富/ 邦/ 媒/ 通/ 過/ 發/ 放/ 現/ 金/ 股利/ 每股/ 10/ 元\n",
      "Full Mode: 疫情/ 難/ 擋/ 法/ 國/ 再度/ 封/ 城/ /  / / 國/ 際/ 油/ 價/ 走跌\n",
      "Full Mode: 美/ 股/ 科技/ 科技股/ 走/ 揚/ /  / / 那/ 指/ 、/ 標/ 普/ 500/ 收/ 紅\n",
      "Full Mode: 18/ 搶/ 11/ /  / / 東/ 元/ 嬤/ 孫/ 、/ 女婿/ /  / / 5/ // 25/ 決/ 戰\n",
      "Full Mode: 最/ 強/ 女婿/ 黃/ 茂/ 雄/ 2/ 度/ 對/ 戰/ 創/ 始/ 股/ 東\n",
      "Full Mode: 三方/ 方合/ 體/ 持股/ 逾/ 4/ 成/ /  / / 公司/ 派/ 老神在在\n",
      "Full Mode: 炒股/ 案/ 傷/ 形象/ /  / / 林/ 陳/ 海/ 低/ 調/ ︰/ 和/ 為/ 貴\n",
      "Full Mode: 瀚/ 薪/ 移/ 中/ /  / / 工研院/ ：/ 若/ 侵/ 權/ 將/ 提/ 告\n",
      "Full Mode: 紅/ 鏈/ 滲/ 透/ /  / / 國/ 安/ 局/ ：/ 情/ 況/ 非常/ 嚴/ 峻\n",
      "Full Mode: 挑/ 戰/ 新/ 中/ 資/ 條/ 款/ /  / / 蝦/ 皮/ 二度/ 叩/ 關\n",
      "Full Mode: 國/ 防部/ 出/ 動/ 淨/ 水/ 設/ 備/ /  / / 支援/ 中港/ 園/ 區/ 用水\n",
      "Full Mode: 陳/ 吉/ 仲/ 會/ 環/ 團/ 談/ 藻/ 礁/ /  / / 方向/ 一致/ 、/ 未/ 達/ 共/ 識\n",
      "Full Mode: 節/ 能/ 電/ 器/ 退/ 稅/ 優/ 惠/ /  / / 政/ 院/ 今/ 拍板/ 再延/ 2/ 年\n",
      "Full Mode: 台/ 積/ 電/ 竹/ 科/ 12B/ 廠/ 火警/ /  / / 3/ 奈/ 米/ 研/ 發/ 進/ 程/ 有/ 變/ 數/ ？\n",
      "Full Mode: 工具/ 機/ 暨/ 零/ 組/ 件/ 公/ 會/ 理事/ 長/ 許/ 文/ 憲/ ︰/ 半/ 導/ 體/ 高薪/ 吸/ 人才/ /  / / 傳/ 產/ 業/ 憂/ 心\n",
      "Full Mode: FII/ 電/ 動/ 車/ 戰/ 略/ /  / / 3/ 箭/ 齊/ 發\n",
      "Full Mode: 全/ 國/ 房/ 價/ 指/ 數/ 連/ 漲/ 10/ 季/ /  / / 台南/ 累/ 計/ 漲/ 14/ ./ 35/ ％/  / / 居/ 冠\n",
      "Full Mode: 房/ 貸/ 負/ 擔/ 率/ 與/ 房/ 價/ 所得/ 比/ /  / / 四/ 都/ 加重\n",
      "Full Mode: 前/ 2/ 月/ 製/ 造/ 業/ 景/ 氣/ 指/ 標/ /  / / 創/ 10/ 年/ 同期/ 新高\n",
      "Full Mode: 聯/ 貸/ 案/ 殺/ 價/ 競/ 爭/ /  / / 金/ 管/ 會/ 將/ 出面/ 協/ 商\n",
      "Full Mode: 富/ 邦/ Q3/ 收/ 購/ 日盛/ 剩下/ 股/ 權/ /  / / 維/ 持/ 每股/ 13/ 元\n",
      "Full Mode: 元/ 大/ 壽/ 存/ 股/ 保/ 單/ 爭/ 議/ /  / / 金/ 管/ 會/ 調/ 查/ 缺失\n",
      "Full Mode: 證/ 券/ 行情/ 行情表/ 、/ 證/ 券/ 表格\n",
      "Full Mode: 陸/ 製/ 造/ 業/ PMI/ /  / / 攀/ 三/ 個/ 月/ 高/ 點\n",
      "Full Mode: 陸/ 挺/ 企/ 業/ /  / / 再/ 減/ 稅/ 2/ ./ 4/ 兆/ 元\n",
      "Full Mode: SPAC/ 熱/ 潮/ 持/ 續/ /  / / 英/ 國/ 、/ 新加坡/ 跟/ 進\n",
      "Full Mode: 新疆/ 新疆棉/ 事件/ /  / / H/ &/ M/ 滅/ 火\n",
      "Full Mode: 亞/ 洲/ 央行/ 面/ 臨/ 升息/ 壓/ 力/ /  / / 憂/ 抑制/ 國/ 內/ 成/ 長\n",
      "Full Mode: OPEC/ +/ 調/ 降/ 原油/ 需求/ 預/ 期/ /  / / 降至/ 30/ 萬/ 桶\n",
      "Full Mode: IMF/ 將/ 上/ 修/ 全球/ GDP/ 成/ 長/ 率/ /  / / 示警/ 應/ 為/ 新/ 興/ 市/ 場/ 債/ 務/ 危/ 機/ 預/ 做/ 準/ 備\n",
      "Full Mode: 美/ 基建/ 案/ 規/ 模/ /  / / 衝/ 2/ ./ 2/ 兆/ 美元\n",
      "Full Mode: 烏/ 俄/ 邊/ 界/ 情/ 勢/ 緊/ 繃/ /  / / 美/ 參/ 聯/ 主席/ 與/ 兩/ 國/ 最高/ 將/ 領/ 通/ 話\n",
      "Full Mode: 法/ 國/ 第三/ 波/ 疫情/ 止不住/ 不住/ /  / / 馬/ 克/ 宏/ ：/ 再度/ 全/ 國/ 封/ 城\n",
      "Full Mode: 疫情/ 難/ 擋/ 法/ 國/ 再度/ 封/ 城/ /  / / 國/ 際/ 油/ 價/ 走跌\n",
      "Full Mode: 美/ 股/ 科技/ 科技股/ 走/ 揚/ /  / / 那/ 指/ 、/ 標/ 普/ 500/ 收/ 紅\n",
      "Full Mode: 非/ 美/ 貨/ 幣/ 皆/ 走/ 貶/ /  / / 台/ 幣/ 成/ 最/ 抗跌/ 亞/ 幣\n",
      "Full Mode: 黃/ 天/ 牧/ 評/ 台/ 股/ ：/ 萬/ 六/ …/ 是/ 高/ 了/ 一/ 點\n",
      "Full Mode: 台/ 股/ 大/ 盤/ Q1/ 漲/ 幅/ /  / / 稱/ 冠/ 全球\n",
      "Full Mode: 史/ 上/ 最/ 強/ /  / / 上市/ 櫃/ 去年/ 賺/ 逾/ 2/ ./ 4/ 兆\n",
      "Full Mode: 4/ 月/ 1/ 日/ /  / / 五件/ 財/ 經/ 大事/ 搶/ 先/ 看\n"
     ]
    }
   ],
   "source": [
    "for title in review_lst:\n",
    "    seg_list = jieba.cut(t2stitle, cut_all=True)\n",
    "    print(\"Full Mode: \" + \"/ \".join(seg_list))  # 全模式"
   ]
  },
  {
   "cell_type": "code",
   "execution_count": 25,
   "id": "wound-coral",
   "metadata": {},
   "outputs": [
    {
     "name": "stdout",
     "output_type": "stream",
     "text": [
      "Default Mode: 布/ 林肯/ 再发/ 香港/ 政策/ 法/ 报告/  / 认定/ 香港/ 不再/ 高度/ 自治\n",
      "Default Mode: 若/ 普遍/ 配戴/ 驱鲨/ 装置/  / 估/ 50/ 年间/ 澳洲/ 可少/ 1063/ 人/ 被/ 咬\n",
      "Default Mode: 拜登/ 2.25/ 兆/ 美元/ 基础/ 建设/ 及/ 租税/ 计划/ 一览\n",
      "Default Mode: BBC/ 驻/ 北京/ 记者/ 前往/ 台湾/  / 称/ 受到/ 威胁/ 趋烈\n",
      "Default Mode: 联电/ 集团/ 还有/ 戏/ ？/ 谢/ 金河/ ：/ 股利/ 政策/ 看出/ 企业/ 力度\n",
      "Default Mode: 传出/ 宜兰/ 设厂/ ?/  / 台积/ 电/ :/ 无/ 进一步/ 扩厂/ 具体/ 计划\n",
      "Default Mode: 台积/ 电竹科/ 12/ 厂/ 火警/  / 虚惊\n",
      "Default Mode: 陈俊圣谈/ 骇客/ 勒索/ ：/ 怎么/ 可能/ 付钱\n",
      "Default Mode: 涨价/ 潮/ 蔓延/  / 关键/ 零组件/ 报价/ 纷/ 扬升\n",
      "Default Mode: 推/ 旅游/ 泡泡/  / 不如/ 规划/ 健康/ 护照\n",
      "Default Mode: 富邦/ ：/ 并/ 日盛/  / 明年/ 看到/ 效益\n",
      "Default Mode: 富邦/ 加码/ 台股/  / 还有/ 440/ 亿/ 空间\n",
      "Default Mode: 卡/ 苏伊士运河/ 近/ 一周/  / 「/ 长赐/ 号/ 」/ 搁浅/ 原因/ 调查/ 展开\n",
      "Default Mode: 欧股/ 多/ 收低/  / 外送/ 平台/ Deliveroo/ 上市/ 首日/ 股价/ 大跌\n",
      "Default Mode: 欧股/ 多/ 收低/  / 外送/ 平台/ Deliveroo/ 上市/ 首日/ 股价/ 大跌\n",
      "Default Mode: 打/ 炒房/ 纷扰/ 不/ 影响/ 买气/  / 房仲上/ 月/ 交易/ 增/ 两位数\n",
      "Default Mode: 东/ 元/ 公司/ 派/ 董事/ 名单/  / 留下/ 三个/ 问号\n",
      "Default Mode: 东/ 元/ 公司/ 派/ 争取/ 支持/  / 自许/ 务实/ 改革派\n",
      "Default Mode: 修/ 营业/ 秘密/ 法/  / 防堵/ 陆资/ 挖角/ .../ 三/ 关键\n",
      "Default Mode: 国泰/ 台湾/ 5G/ +/  / ETF/ 受益/ 人数/ 再创/ 高\n",
      "Default Mode: 柜买/ 公告/ 「/ 战略/ 新板/ 」/ 相关/ 规章\n",
      "Default Mode: 柜买/ 业绩/ 发表/ 会/ 下周/ 3/ 连发\n",
      "Default Mode: 欧股/ 多/ 收低/  / 外送/ 平台/ Deliveroo/ 上市/ 首日/ 股价/ 大跌\n",
      "Default Mode: 资策/ 会/ 办/ AI/ 论坛/  / 加速/ 数位/ 转型\n",
      "Default Mode: 【/ 欧股/ 盘后/ 】/ 多收/ 低\n",
      "Default Mode: 户户/ 送/ 伦敦/ 挂牌/ 出师不利/  / 外送员/ 抗议/ 薪声/ 引发/ 卖压\n",
      "Default Mode: 苹果/ 开发者/ 大会/  / 6/ 月/ 7/ 日起线/ 上/ 登场\n",
      "Default Mode: 露露/ 柠檬/ 示警/ 疫情/ 效应/  / 恐关/ 更/ 多/ 店面\n",
      "Default Mode: 俄罗斯/ 研发/ 全球/ 首款/ 动物/ 新冠/ 疫苗/  / 最快/ 本月/ 量产\n",
      "Default Mode: 福斯/ 愚人节/ 玩笑/  / 改名/ Voltswagen/  / 搭/ 电动车/ 热潮\n",
      "Default Mode: 南韩/ 能源/ 供应商/ 旗下/ 部门/ IPO/  / 将成/ 四年/ 来/ 最大/ 上市/ 案\n",
      "Default Mode: 印度/ 鼓励/ 晶片/ 业者/ 设厂/  / 每家/ 奖励/ 10/ 亿美元/ 现金\n",
      "Default Mode: 瑞萨/ 供货/ 短期内/ 难/ 恢复/  / 丰田/ 、/ 日产/ 为/ 减产/ 做/ 准备\n",
      "Default Mode: 陆大/ 数据/ 交易所/ 成立/  / 金控/ 集团/ 发起/  / 创新/ 买卖/ 模式\n",
      "Default Mode: 中/ 金/ 员工/ 平均/ 年薪/ 496/ 万/  / 称冠/ 上市/ 券商\n",
      "Default Mode: 陆/ 太阳能/ 组件/ 厂/ 囊括/ 全球/ 七强/  / 供应/ 比重/ 超过/ 70%\n",
      "Default Mode: 高分/ 12/ 号/ 02/ 卫星/ 发射/  / 负责/ 国土/ 普查/ 、/ 城市规划\n",
      "Default Mode: 香港联交所/ 扩展/ 第二/ 上市/ 制/  / 招手/ 大中华/ 传/ 产业/ 挂牌\n",
      "Default Mode: 台陆澳/ 人士/ 入境/ 香港/  /  / 须/ 做/ 两次/ 新冠/ 病毒检测\n",
      "Default Mode: 线上/ 广交会/ 15/ 日/ 登场/  / 32/ 国/ 参与/  / 办/ 44/ 场/ 推介/ 活动\n",
      "Default Mode: 背痛/ 腿/ 麻/ 却/ 无法/ 就医/  / 俄/ 异议人士/ 纳瓦尼/ 绝食抗议\n",
      "Default Mode: AZ/ 疫苗/ 安/ 不/ 安全/ ？/ EU/ 当局/ ：/ 尚未/ 发现/ 特定/ 危险/ 因子\n",
      "Default Mode: 突破/ 封锁/  / 华为/ 去年/ 获利/ 逆势/ 增\n",
      "Default Mode: 中芯/ 净利/ 劲扬/ 1.4/ 倍\n",
      "Default Mode: NCC/ 通过/ 华视/ 上架/ 52/ 台/  / 外界/ 质疑/ 财务/ 严重/ 亏损/ 、/ 人力不足\n",
      "Default Mode: 申报/ 最低/ 税负/  / 别犯/ 两/ 错误\n",
      "Default Mode: 数位/ 服务/ 税/ 战火/  / 恐/ 波及/ 台商\n",
      "Default Mode: 公益/ 团体/ 免税/  / 注意/ 收支/ 比\n",
      "Default Mode: 节能/ 家电/ 省税/  / 延长/ 两年\n",
      "Default Mode: 中信/ 银/ 八大/ 优势/  / 满足/ 投资/ 需求\n",
      "Default Mode: 中信/ 银高/ 资产/ 财管/ 服务/ 升级/  / 瞄准/ 亿元/ 级/ 客户\n",
      "Default Mode: 中信/ 银/ 提升/ 广度/ 深度/  / 频夺/ 国际/ 大奖\n",
      "Default Mode: AFMA/ 打造/ 金融/ 教育/ 新/ 蓝海\n",
      "Default Mode: 银行/ 让利/  / 竞推/ 永续/ 连结/ 贷款\n",
      "Default Mode: ESG/ 成/ 显学/  / 有助/ 吸引外资/ 买股\n",
      "Default Mode: 中信/ 银/ 砸/ 39/ 亿/  / 增持/ 泰国/ LH/ 集团/ 至/ 46.6%\n",
      "Default Mode: 彰银/ 冲/ 获利/  / 强化/ 海外/ 布局\n",
      "Default Mode: 南山人寿/ 去年/ 净利/ 创新/ 高/  /  / EPS/  / 2.7/ 元\n",
      "Default Mode: 科/ 法斯/ 报告/ 示警/  / 欧洲/ 有/ 隐形/ 破产/ 未/ 爆弹\n",
      "Default Mode: 莱镁医/ iNAP/  / One/ 适用/ 经济部/ 新药/ 条例\n",
      "Default Mode: momo/ 富邦媒/ 通过/ 发放/ 现金/ 股利/ 每股/ 10/ 元\n",
      "Default Mode: 疫情/ 难挡/ 法国/ 再度/ 封城/  / 国际/ 油价/ 走跌\n",
      "Default Mode: 美股/ 科技股/ 走扬/  / 那指/ 、/ 标普/ 500/ 收红\n",
      "Default Mode: 18/ 抢/ 11/  / 东元嬷/ 孙/ 、/ 女婿/  / 5/ // 25/ 决战\n",
      "Default Mode: 最强/ 女婿/ 黄茂雄/ 2/ 度/ 对战/ 创始/ 股东\n",
      "Default Mode: 三方/ 合体/ 持股/ 逾/ 4/ 成/  / 公司/ 派/ 老神在在\n",
      "Default Mode: 炒股/ 案伤/ 形象/  / 林/ 陈海/ 低调/ ︰/ 和为贵\n",
      "Default Mode: 瀚薪/ 移中/  / 工研院/ ：/ 若/ 侵权/ 将/ 提告\n",
      "Default Mode: 红链/ 渗透/  / 国安局/ ：/ 情况/ 非常/ 严峻\n",
      "Default Mode: 挑战/ 新/ 中资/ 条款/  / 虾皮/ 二度/ 叩关\n",
      "Default Mode: 国防部/ 出动/ 净水/ 设备/  / 支援/ 中港/ 园区/ 用水\n",
      "Default Mode: 陈吉仲会/ 环团/ 谈藻/ 礁/  / 方向/ 一致/ 、/ 未达/ 共识\n",
      "Default Mode: 节能/ 电器/ 退税/ 优惠/  / 政院/ 今/ 拍板/ 再延/ 2/ 年\n",
      "Default Mode: 台积/ 电竹科/ 12B/ 厂/ 火警/  / 3/ 奈米/ 研发/ 进程/ 有/ 变数/ ？\n",
      "Default Mode: 工具机/ 暨/ 零组件/ 公会/ 理事长/ 许文宪/ ︰/ 半导体/ 高薪/ 吸/ 人才/  / 传/ 产业/ 忧心\n",
      "Default Mode: FII/ 电动车/ 战略/  / 3/ 箭/ 齐发\n",
      "Default Mode: 全国/ 房价/ 指数/ 连涨/ 10/ 季/  / 台南/ 累计/ 涨/ 14.35/ ％/  / 居冠\n",
      "Default Mode: 房贷/ 负担/ 率/ 与/ 房价/ 所得/ 比/  / 四/ 都/ 加重\n",
      "Default Mode: 前/ 2/ 月/ 制造业/ 景气/ 指标/  / 创/ 10/ 年/ 同期/ 新高\n",
      "Default Mode: 联贷/ 案/ 杀价/ 竞争/  / 金管会/ 将/ 出面/ 协商\n",
      "Default Mode: 富邦/ Q3/ 收购/ 日盛/ 剩下/ 股权/  / 维持/ 每股/ 13/ 元\n",
      "Default Mode: 元/ 大寿/ 存股/ 保单/ 争议/  / 金管会/ 调查/ 缺失\n",
      "Default Mode: 证券行情/ 表/ 、/ 证券/ 表格\n",
      "Default Mode: 陆/ 制造业/ PMI/  / 攀/ 三个/ 月/ 高点\n",
      "Default Mode: 陆挺/ 企业/  / 再/ 减税/ 2.4/ 兆元\n",
      "Default Mode: SPAC/ 热潮/ 持续/  / 英国/ 、/ 新加坡/ 跟进\n",
      "Default Mode: 新疆棉/ 事件/  / H/ &/ M/ 灭火\n",
      "Default Mode: 亚洲/ 央行/ 面临/ 升息/ 压力/  / 忧/ 抑制/ 国内/ 成长\n",
      "Default Mode: OPEC/ +/ 调降/ 原油/ 需求/ 预期/  / 降至/ 30/ 万桶\n",
      "Default Mode: IMF/ 将/ 上/ 修/ 全球/ GDP/ 成长率/  / 示警/ 应为/ 新兴/ 市场/ 债务/ 危机/ 预做/ 准备\n",
      "Default Mode: 美/ 基建/ 案/ 规模/  / 冲/ 2.2/ 兆/ 美元\n",
      "Default Mode: 乌俄/ 边界/ 情势/ 紧绷/  / 美参联/ 主席/ 与/ 两国/ 最高/ 将领/ 通话\n",
      "Default Mode: 法国/ 第三/ 波/ 疫情/ 止不住/  / 马克/ 宏/ ：/ 再度/ 全国/ 封城\n",
      "Default Mode: 疫情/ 难挡/ 法国/ 再度/ 封城/  / 国际/ 油价/ 走跌\n",
      "Default Mode: 美股/ 科技股/ 走扬/  / 那指/ 、/ 标普/ 500/ 收红\n",
      "Default Mode: 非美/ 货币/ 皆/ 走/ 贬/  / 台币/ 成/ 最/ 抗跌/ 亚币\n",
      "Default Mode: 黄天牧评/ 台股/ ：/ 万六/ …/ 是/ 高/ 了/ 一点\n",
      "Default Mode: 台股/ 大盘/ Q1/ 涨幅/  / 称冠/ 全球\n",
      "Default Mode: 史上/ 最强/  / 上市/ 柜/ 去年/ 赚/ 逾/ 2.4/ 兆\n",
      "Default Mode: 4/ 月/ 1/ 日/  / 五件/ 财经/ 大事/ 抢先/ 看\n"
     ]
    }
   ],
   "source": [
    "for title in review_lst:\n",
    "    seg_list = jieba.cut(t2s.convert(title), cut_all=False)\n",
    "    print(\"Default Mode: \" + \"/ \".join(seg_list))  # 精确模式"
   ]
  },
  {
   "cell_type": "code",
   "execution_count": 1,
   "id": "numerical-confusion",
   "metadata": {},
   "outputs": [],
   "source": [
    "from ckip_transformers.nlp import CkipWordSegmenter, CkipPosTagger, CkipNerChunker\n",
    "# Initialize drivers\n",
    "import os\n",
    "\n",
    "os.environ['KMP_DUPLICATE_LIB_OK']='True'\n",
    "ws_driver  = CkipWordSegmenter(level=3)\n"
   ]
  },
  {
   "cell_type": "code",
   "execution_count": 11,
   "id": "invalid-creature",
   "metadata": {},
   "outputs": [
    {
     "name": "stderr",
     "output_type": "stream",
     "text": [
      "Tokenization: 100%|██████████| 1/1 [00:00<00:00, 351.13it/s]\n",
      "Inference: 100%|██████████| 1/1 [00:00<00:00,  5.18it/s]\n",
      "Tokenization: 100%|██████████| 1/1 [00:00<00:00, 1894.45it/s]\n",
      "Inference: 100%|██████████| 1/1 [00:00<00:00,  6.49it/s]\n",
      "Tokenization: 100%|██████████| 1/1 [00:00<00:00, 2753.98it/s]\n",
      "Inference:   0%|          | 0/1 [00:00<?, ?it/s]"
     ]
    },
    {
     "name": "stdout",
     "output_type": "stream",
     "text": [
      "Default Mode: 布林肯/ 再/ 發/ 香港/ 政策法/ 報告/  / 認定/ 香港/ 不再/ 高度/ 自治\n",
      "Default Mode: 若/ 普遍/ 配戴/ 驅/ 鯊/ 裝置/  / 估/ 50年/ 間/ 澳洲/ 可/ 少/ 1063/ 人/ 被/ 咬\n"
     ]
    },
    {
     "name": "stderr",
     "output_type": "stream",
     "text": [
      "Inference: 100%|██████████| 1/1 [00:00<00:00,  7.68it/s]\n",
      "Tokenization: 100%|██████████| 1/1 [00:00<00:00, 1277.19it/s]\n",
      "Inference: 100%|██████████| 1/1 [00:00<00:00,  8.29it/s]\n",
      "Tokenization: 100%|██████████| 1/1 [00:00<00:00, 1984.06it/s]\n",
      "Inference:   0%|          | 0/1 [00:00<?, ?it/s]"
     ]
    },
    {
     "name": "stdout",
     "output_type": "stream",
     "text": [
      "Default Mode: 拜登/ 2.25兆/ 美元/ 基礎/ 建設/ 及/ 租稅/ 計畫/ 一/ 覽\n",
      "Default Mode: BBC/ 駐/ 北京/ 記者/ 前往/ 台灣/  / 稱/ 受到/ 威脅/ 趨/ 烈\n"
     ]
    },
    {
     "name": "stderr",
     "output_type": "stream",
     "text": [
      "Inference: 100%|██████████| 1/1 [00:00<00:00,  6.97it/s]\n",
      "Tokenization: 100%|██████████| 1/1 [00:00<00:00, 1766.77it/s]\n",
      "Inference: 100%|██████████| 1/1 [00:00<00:00,  8.27it/s]\n",
      "Tokenization: 100%|██████████| 1/1 [00:00<00:00, 1398.57it/s]\n",
      "Inference:   0%|          | 0/1 [00:00<?, ?it/s]"
     ]
    },
    {
     "name": "stdout",
     "output_type": "stream",
     "text": [
      "Default Mode: 聯電/ 集團/ 還/ 有/ 戲/ ？/ 謝金河/ ：/ 股利/ 政策/ 看出/ 企業/ 力度\n",
      "Default Mode: 傳出/ 宜蘭/ 設廠/ ?/  / 台積電/ :/ 無/ 進一步/ 擴廠/ 具體/ 計畫\n"
     ]
    },
    {
     "name": "stderr",
     "output_type": "stream",
     "text": [
      "Inference: 100%|██████████| 1/1 [00:00<00:00,  8.43it/s]\n",
      "Tokenization: 100%|██████████| 1/1 [00:00<00:00, 2792.48it/s]\n",
      "Inference: 100%|██████████| 1/1 [00:00<00:00,  8.91it/s]\n",
      "Tokenization: 100%|██████████| 1/1 [00:00<00:00, 2165.36it/s]\n",
      "Inference:   0%|          | 0/1 [00:00<?, ?it/s]"
     ]
    },
    {
     "name": "stdout",
     "output_type": "stream",
     "text": [
      "Default Mode: 台積電/ 竹科/ 12廠/ 火警/  / 虛驚\n",
      "Default Mode: 陳俊聖/ 談/ 駭客/ 勒索/ ：/ 怎麼/ 可能/ 付錢\n"
     ]
    },
    {
     "name": "stderr",
     "output_type": "stream",
     "text": [
      "Inference: 100%|██████████| 1/1 [00:00<00:00,  8.53it/s]\n",
      "Tokenization: 100%|██████████| 1/1 [00:00<00:00, 1718.27it/s]\n",
      "Inference: 100%|██████████| 1/1 [00:00<00:00,  9.25it/s]\n",
      "Tokenization: 100%|██████████| 1/1 [00:00<00:00, 1542.59it/s]\n",
      "Inference:   0%|          | 0/1 [00:00<?, ?it/s]"
     ]
    },
    {
     "name": "stdout",
     "output_type": "stream",
     "text": [
      "Default Mode: 漲價潮/ 蔓延/  / 關鍵/ 零組件/ 報價/ 紛/ 揚升\n",
      "Default Mode: 推/ 旅遊/ 泡泡/  / 不如/ 規劃/ 健康/ 護照\n"
     ]
    },
    {
     "name": "stderr",
     "output_type": "stream",
     "text": [
      "Inference: 100%|██████████| 1/1 [00:00<00:00,  8.51it/s]\n",
      "Tokenization: 100%|██████████| 1/1 [00:00<00:00, 1088.02it/s]\n",
      "Inference: 100%|██████████| 1/1 [00:00<00:00,  6.48it/s]\n",
      "Tokenization: 100%|██████████| 1/1 [00:00<00:00, 2398.12it/s]\n",
      "Inference:   0%|          | 0/1 [00:00<?, ?it/s]"
     ]
    },
    {
     "name": "stdout",
     "output_type": "stream",
     "text": [
      "Default Mode: 富邦/ ：/ 併/ 日盛/  / 明年/ 看到/ 效益\n",
      "Default Mode: 富邦/ 加碼/ 台股/  / 還/ 有/ 440億/ 空間\n"
     ]
    },
    {
     "name": "stderr",
     "output_type": "stream",
     "text": [
      "Inference: 100%|██████████| 1/1 [00:00<00:00,  5.69it/s]\n",
      "Tokenization: 100%|██████████| 1/1 [00:00<00:00, 3600.26it/s]\n",
      "Inference: 100%|██████████| 1/1 [00:00<00:00,  5.82it/s]\n",
      "Tokenization: 100%|██████████| 1/1 [00:00<00:00, 836.85it/s]\n",
      "Inference:   0%|          | 0/1 [00:00<?, ?it/s]"
     ]
    },
    {
     "name": "stdout",
     "output_type": "stream",
     "text": [
      "Default Mode: 卡蘇伊士/ 運河/ 近/ 一/ 週/  / 「/ 長賜號/ 」/ 擱淺/ 原因/ 調查/ 展開\n",
      "Default Mode: 歐股/ 多/ 收/ 低 / 外送/ 平台/ Deliveroo/ 上市/ 首日/ 股價/ 大跌\n"
     ]
    },
    {
     "name": "stderr",
     "output_type": "stream",
     "text": [
      "Inference: 100%|██████████| 1/1 [00:00<00:00,  7.07it/s]\n",
      "Tokenization: 100%|██████████| 1/1 [00:00<00:00, 2725.34it/s]\n",
      "Inference: 100%|██████████| 1/1 [00:00<00:00,  7.26it/s]\n",
      "Tokenization: 100%|██████████| 1/1 [00:00<00:00, 1786.33it/s]\n",
      "Inference:   0%|          | 0/1 [00:00<?, ?it/s]"
     ]
    },
    {
     "name": "stdout",
     "output_type": "stream",
     "text": [
      "Default Mode: 歐股/ 多/ 收/ 低 / 外送/ 平台/ Deliveroo/ 上市/ 首日/ 股價/ 大跌\n",
      "Default Mode: 打/ 炒房/ 紛擾/ 不/ 影響/ 買氣/  / 房仲/ 上/ 月/ 交易/ 增/ 兩/ 位數\n"
     ]
    },
    {
     "name": "stderr",
     "output_type": "stream",
     "text": [
      "Inference: 100%|██████████| 1/1 [00:00<00:00,  8.64it/s]\n",
      "Tokenization: 100%|██████████| 1/1 [00:00<00:00, 2156.45it/s]\n",
      "Inference: 100%|██████████| 1/1 [00:00<00:00,  7.19it/s]\n",
      "Tokenization: 100%|██████████| 1/1 [00:00<00:00, 3021.83it/s]\n",
      "Inference:   0%|          | 0/1 [00:00<?, ?it/s]"
     ]
    },
    {
     "name": "stdout",
     "output_type": "stream",
     "text": [
      "Default Mode: 東元/ 公司/ 派/ 董事/ 名單/  / 留下/ 三/ 個/ 問號\n",
      "Default Mode: 東元/ 公司/ 派/ 爭取/ 支持/  / 自許/ 務實/ 改革派\n"
     ]
    },
    {
     "name": "stderr",
     "output_type": "stream",
     "text": [
      "Inference: 100%|██████████| 1/1 [00:00<00:00,  6.44it/s]\n",
      "Tokenization: 100%|██████████| 1/1 [00:00<00:00, 4002.20it/s]\n",
      "Inference: 100%|██████████| 1/1 [00:00<00:00,  5.97it/s]\n",
      "Tokenization: 100%|██████████| 1/1 [00:00<00:00, 2216.86it/s]\n",
      "Inference:   0%|          | 0/1 [00:00<?, ?it/s]"
     ]
    },
    {
     "name": "stdout",
     "output_type": "stream",
     "text": [
      "Default Mode: 修/ 營業/ 秘密/ 法/  / 防堵/ 陸資/ 挖角/ ./ ./ ./ 三/ 關鍵\n",
      "Default Mode: 國泰/ 台灣/ 5G+ ETF/ 受益/ 人數/ 再/ 創/ 高\n"
     ]
    },
    {
     "name": "stderr",
     "output_type": "stream",
     "text": [
      "Inference: 100%|██████████| 1/1 [00:00<00:00,  8.44it/s]\n",
      "Tokenization: 100%|██████████| 1/1 [00:00<00:00, 2849.39it/s]\n",
      "Inference: 100%|██████████| 1/1 [00:00<00:00,  9.19it/s]\n",
      "Tokenization: 100%|██████████| 1/1 [00:00<00:00, 1261.44it/s]\n",
      "Inference:   0%|          | 0/1 [00:00<?, ?it/s]"
     ]
    },
    {
     "name": "stdout",
     "output_type": "stream",
     "text": [
      "Default Mode: 櫃買/ 公告/ 「/ 戰略/ 新/ 板/ 」/ 相關/ 規章\n",
      "Default Mode: 櫃買/ 業績/ 發表會/ 下/ 周/ 3/ 連發\n"
     ]
    },
    {
     "name": "stderr",
     "output_type": "stream",
     "text": [
      "Inference: 100%|██████████| 1/1 [00:00<00:00,  7.26it/s]\n",
      "Tokenization: 100%|██████████| 1/1 [00:00<00:00, 2314.74it/s]\n",
      "Inference: 100%|██████████| 1/1 [00:00<00:00,  8.31it/s]\n",
      "Tokenization: 100%|██████████| 1/1 [00:00<00:00, 1441.34it/s]\n",
      "Inference:   0%|          | 0/1 [00:00<?, ?it/s]"
     ]
    },
    {
     "name": "stdout",
     "output_type": "stream",
     "text": [
      "Default Mode: 歐股/ 多/ 收/ 低 / 外送/ 平台/ Deliveroo/ 上市/ 首日/ 股價/ 大跌\n",
      "Default Mode: 資策會/ 辦/ AI/ 論壇/  / 加速/ 數位/ 轉型\n"
     ]
    },
    {
     "name": "stderr",
     "output_type": "stream",
     "text": [
      "Inference: 100%|██████████| 1/1 [00:00<00:00,  9.87it/s]\n",
      "Tokenization: 100%|██████████| 1/1 [00:00<00:00, 1608.25it/s]\n",
      "Inference: 100%|██████████| 1/1 [00:00<00:00,  5.56it/s]\n",
      "Tokenization: 100%|██████████| 1/1 [00:00<00:00, 1811.79it/s]\n",
      "Inference:   0%|          | 0/1 [00:00<?, ?it/s]"
     ]
    },
    {
     "name": "stdout",
     "output_type": "stream",
     "text": [
      "Default Mode: 【/ 歐股/ 盤後/ 】/ 多/ 收低\n",
      "Default Mode: 戶戶/ 送/ 倫敦/ 掛牌/ 出師不利/  / 外送員/ 抗議/ 薪聲/ 引發/ 賣壓\n"
     ]
    },
    {
     "name": "stderr",
     "output_type": "stream",
     "text": [
      "Inference: 100%|██████████| 1/1 [00:00<00:00,  8.82it/s]\n",
      "Tokenization: 100%|██████████| 1/1 [00:00<00:00, 1434.93it/s]\n",
      "Inference: 100%|██████████| 1/1 [00:00<00:00,  8.47it/s]\n",
      "Tokenization: 100%|██████████| 1/1 [00:00<00:00, 1941.81it/s]\n",
      "Inference:   0%|          | 0/1 [00:00<?, ?it/s]"
     ]
    },
    {
     "name": "stdout",
     "output_type": "stream",
     "text": [
      "Default Mode: 蘋果/ 開發/ 者/ 大會/  / 6月/ 7日/ 起/ 線上/ 登場\n",
      "Default Mode: 露露/ 檸檬/ 示警/ 疫情/ 效應/  / 恐/ 關/ 更多/ 店面\n"
     ]
    },
    {
     "name": "stderr",
     "output_type": "stream",
     "text": [
      "Inference: 100%|██████████| 1/1 [00:00<00:00,  6.59it/s]\n",
      "Tokenization: 100%|██████████| 1/1 [00:00<00:00, 4382.76it/s]\n",
      "Inference: 100%|██████████| 1/1 [00:00<00:00,  6.99it/s]\n",
      "Tokenization: 100%|██████████| 1/1 [00:00<00:00, 2202.89it/s]\n",
      "Inference:   0%|          | 0/1 [00:00<?, ?it/s]"
     ]
    },
    {
     "name": "stdout",
     "output_type": "stream",
     "text": [
      "Default Mode: 俄羅斯/ 研發/ 全球/ 首/ 款/ 動物/ 新冠/ 疫苗/  / 最/ 快/ 本/ 月/ 量產\n",
      "Default Mode: 福斯/ 愚人節/ 玩笑 / 改名/ Voltswagen/  / 搭/ 電動車/ 熱潮\n"
     ]
    },
    {
     "name": "stderr",
     "output_type": "stream",
     "text": [
      "Inference: 100%|██████████| 1/1 [00:00<00:00,  7.46it/s]\n",
      "Tokenization: 100%|██████████| 1/1 [00:00<00:00, 459.55it/s]\n",
      "Inference: 100%|██████████| 1/1 [00:00<00:00,  8.38it/s]\n",
      "Tokenization: 100%|██████████| 1/1 [00:00<00:00, 414.29it/s]\n",
      "Inference:   0%|          | 0/1 [00:00<?, ?it/s]"
     ]
    },
    {
     "name": "stdout",
     "output_type": "stream",
     "text": [
      "Default Mode: 南韓/ 能源/ 供應商/ 旗下/ 部門/ IPO / 將/ 成/ 四/ 年/ 來/ 最/ 大/ 上市案\n",
      "Default Mode: 印度/ 鼓勵/ 晶片/ 業者/ 設廠/  / 每/ 家/ 獎勵/ 10億/ 美元/ 現金\n"
     ]
    },
    {
     "name": "stderr",
     "output_type": "stream",
     "text": [
      "Inference: 100%|██████████| 1/1 [00:00<00:00,  7.77it/s]\n",
      "Tokenization: 100%|██████████| 1/1 [00:00<00:00, 1362.23it/s]\n",
      "Inference: 100%|██████████| 1/1 [00:00<00:00,  8.12it/s]\n",
      "Tokenization: 100%|██████████| 1/1 [00:00<00:00, 1683.11it/s]\n",
      "Inference:   0%|          | 0/1 [00:00<?, ?it/s]"
     ]
    },
    {
     "name": "stdout",
     "output_type": "stream",
     "text": [
      "Default Mode: 瑞薩/ 供貨/ 短期/ 內/ 難/ 恢復/  / 豐田/ 、/ 日產/ 為/ 減產/ 做/ 準備\n",
      "Default Mode: 陸大/ 數據/ 交易所/ 成立/  / 金控/ 集團/ 發起/  / 創新/ 買賣/ 模式\n"
     ]
    },
    {
     "name": "stderr",
     "output_type": "stream",
     "text": [
      "Inference: 100%|██████████| 1/1 [00:00<00:00,  7.97it/s]\n",
      "Tokenization: 100%|██████████| 1/1 [00:00<00:00, 1969.16it/s]\n",
      "Inference: 100%|██████████| 1/1 [00:00<00:00,  7.55it/s]\n",
      "Tokenization: 100%|██████████| 1/1 [00:00<00:00, 1847.71it/s]\n",
      "Inference:   0%|          | 0/1 [00:00<?, ?it/s]"
     ]
    },
    {
     "name": "stdout",
     "output_type": "stream",
     "text": [
      "Default Mode: 中金/ 員工/ 平均/ 年薪/ 496萬/  / 稱冠/ 上市/ 券商\n",
      "Default Mode: 陸/ 太陽能/ 組件/ 廠/ 囊括/ 全球/ 七/ 強/  / 供應/ 比重/ 超過/ 70%\n"
     ]
    },
    {
     "name": "stderr",
     "output_type": "stream",
     "text": [
      "Inference: 100%|██████████| 1/1 [00:00<00:00,  7.88it/s]\n",
      "Tokenization: 100%|██████████| 1/1 [00:00<00:00, 2371.00it/s]\n",
      "Inference: 100%|██████████| 1/1 [00:00<00:00,  7.88it/s]\n",
      "Tokenization: 100%|██████████| 1/1 [00:00<00:00, 1979.38it/s]\n",
      "Inference:   0%|          | 0/1 [00:00<?, ?it/s]"
     ]
    },
    {
     "name": "stdout",
     "output_type": "stream",
     "text": [
      "Default Mode: 高分/ 12/ 號/ 02/ 衛星/ 發射/  / 負責/ 國土/ 普查/ 、/ 城市/ 規劃\n",
      "Default Mode: 香港/ 聯交所/ 擴展/ 第二/ 上市制/  / 招手/ 大中華/ 傳產業/ 掛牌\n"
     ]
    },
    {
     "name": "stderr",
     "output_type": "stream",
     "text": [
      "Inference: 100%|██████████| 1/1 [00:00<00:00,  7.97it/s]\n",
      "Tokenization: 100%|██████████| 1/1 [00:00<00:00, 1661.11it/s]\n",
      "Inference: 100%|██████████| 1/1 [00:00<00:00,  7.84it/s]\n",
      "Tokenization: 100%|██████████| 1/1 [00:00<00:00, 1123.57it/s]\n",
      "Inference:   0%|          | 0/1 [00:00<?, ?it/s]"
     ]
    },
    {
     "name": "stdout",
     "output_type": "stream",
     "text": [
      "Default Mode: 台/ 陸/ 澳/ 人士/ 入境/ 香港/  /  / 須/ 做/ 兩/ 次/ 新冠/ 病毒/ 檢測\n",
      "Default Mode: 線上/ 廣交會/ 15日/ 登場/  32/ 國參/ 與/  / 辦/ 44/ 場/ 推介/ 活動\n"
     ]
    },
    {
     "name": "stderr",
     "output_type": "stream",
     "text": [
      "Inference: 100%|██████████| 1/1 [00:00<00:00,  8.12it/s]\n",
      "Tokenization: 100%|██████████| 1/1 [00:00<00:00, 1517.48it/s]\n",
      "Inference: 100%|██████████| 1/1 [00:00<00:00,  7.49it/s]\n",
      "Tokenization: 100%|██████████| 1/1 [00:00<00:00, 2263.52it/s]\n",
      "Inference:   0%|          | 0/1 [00:00<?, ?it/s]"
     ]
    },
    {
     "name": "stdout",
     "output_type": "stream",
     "text": [
      "Default Mode: 背/ 痛/ 腿/ 麻/ 卻/ 無法/ 就醫/  / 俄/ 異議/ 人士/ 納瓦尼/ 絕食/ 抗議\n",
      "Default Mode: AZ/ 疫苗/ 安不安全/ ？/ EU/ 當局/ ：/ 尚未/ 發現/ 特定/ 危險/ 因子\n"
     ]
    },
    {
     "name": "stderr",
     "output_type": "stream",
     "text": [
      "Inference: 100%|██████████| 1/1 [00:00<00:00,  5.35it/s]\n",
      "Tokenization: 100%|██████████| 1/1 [00:00<00:00, 5675.65it/s]\n",
      "Inference: 100%|██████████| 1/1 [00:00<00:00,  7.51it/s]\n",
      "Tokenization: 100%|██████████| 1/1 [00:00<00:00, 1242.39it/s]\n",
      "Inference:   0%|          | 0/1 [00:00<?, ?it/s]"
     ]
    },
    {
     "name": "stdout",
     "output_type": "stream",
     "text": [
      "Default Mode: 突破/ 封鎖/  / 華為/ 去年/ 獲利/ 逆勢/ 增\n",
      "Default Mode: 中芯/ 淨利/ 勁揚/ 1.4/ 倍\n"
     ]
    },
    {
     "name": "stderr",
     "output_type": "stream",
     "text": [
      "Inference: 100%|██████████| 1/1 [00:00<00:00,  5.33it/s]\n",
      "Tokenization: 100%|██████████| 1/1 [00:00<00:00, 2156.45it/s]\n",
      "Inference: 100%|██████████| 1/1 [00:00<00:00,  9.03it/s]\n",
      "Tokenization: 100%|██████████| 1/1 [00:00<00:00, 1546.00it/s]\n",
      "Inference:   0%|          | 0/1 [00:00<?, ?it/s]"
     ]
    },
    {
     "name": "stdout",
     "output_type": "stream",
     "text": [
      "Default Mode: NCC/ 通過/ 華視/ 上架/ 52/ 台/  / 外界/ 質疑/ 財務/ 嚴重/ 虧損/ 、/ 人力/ 不足\n",
      "Default Mode: 申報/ 最/ 低/ 稅負/  / 別/ 犯/ 兩/ 錯誤\n"
     ]
    },
    {
     "name": "stderr",
     "output_type": "stream",
     "text": [
      "Inference: 100%|██████████| 1/1 [00:00<00:00, 10.07it/s]\n",
      "Tokenization: 100%|██████████| 1/1 [00:00<00:00, 5077.85it/s]\n",
      "Inference: 100%|██████████| 1/1 [00:00<00:00,  9.64it/s]\n",
      "Tokenization: 100%|██████████| 1/1 [00:00<00:00, 2061.08it/s]\n",
      "Inference:   0%|          | 0/1 [00:00<?, ?it/s]"
     ]
    },
    {
     "name": "stdout",
     "output_type": "stream",
     "text": [
      "Default Mode: 數位/ 服務稅/ 戰火/  / 恐/ 波及/ 台商\n",
      "Default Mode: 公益/ 團體/ 免稅/  / 注意/ 收支比\n"
     ]
    },
    {
     "name": "stderr",
     "output_type": "stream",
     "text": [
      "Inference: 100%|██████████| 1/1 [00:00<00:00, 10.15it/s]\n",
      "Tokenization: 100%|██████████| 1/1 [00:00<00:00, 8559.80it/s]\n",
      "Inference: 100%|██████████| 1/1 [00:00<00:00,  8.51it/s]\n",
      "Tokenization: 100%|██████████| 1/1 [00:00<00:00, 1908.24it/s]\n",
      "Inference:   0%|          | 0/1 [00:00<?, ?it/s]"
     ]
    },
    {
     "name": "stdout",
     "output_type": "stream",
     "text": [
      "Default Mode: 節能/ 家電/ 省稅/  / 延長/ 兩/ 年\n",
      "Default Mode: 中信銀/ 八/ 大/ 優勢/  / 滿足/ 投資/ 需求\n"
     ]
    },
    {
     "name": "stderr",
     "output_type": "stream",
     "text": [
      "Inference: 100%|██████████| 1/1 [00:00<00:00,  7.62it/s]\n",
      "Tokenization: 100%|██████████| 1/1 [00:00<00:00, 1709.87it/s]\n",
      "Inference: 100%|██████████| 1/1 [00:00<00:00,  9.19it/s]\n",
      "Tokenization: 100%|██████████| 1/1 [00:00<00:00, 1605.17it/s]\n",
      "Inference:   0%|          | 0/1 [00:00<?, ?it/s]"
     ]
    },
    {
     "name": "stdout",
     "output_type": "stream",
     "text": [
      "Default Mode: 中信銀/ 高/ 資產/ 財管/ 服務/ 升級/  / 瞄準/ 億元/ 級/ 客戶\n",
      "Default Mode: 中信銀/ 提升/ 廣度/ 深度/  頻/ 奪/ 國際/ 大獎\n"
     ]
    },
    {
     "name": "stderr",
     "output_type": "stream",
     "text": [
      "Inference: 100%|██████████| 1/1 [00:00<00:00,  9.98it/s]\n",
      "Tokenization: 100%|██████████| 1/1 [00:00<00:00, 3095.43it/s]\n",
      "Inference: 100%|██████████| 1/1 [00:00<00:00,  9.55it/s]\n",
      "Tokenization: 100%|██████████| 1/1 [00:00<00:00, 2006.84it/s]\n",
      "Inference:   0%|          | 0/1 [00:00<?, ?it/s]"
     ]
    },
    {
     "name": "stdout",
     "output_type": "stream",
     "text": [
      "Default Mode: AFMA/ 打造/ 金融/ 教育/ 新/ 藍海\n",
      "Default Mode: 銀行/ 讓利/  / 競推/ 永續/ 連結/ 貸款\n"
     ]
    },
    {
     "name": "stderr",
     "output_type": "stream",
     "text": [
      "Inference: 100%|██████████| 1/1 [00:00<00:00,  9.39it/s]\n",
      "Tokenization: 100%|██████████| 1/1 [00:00<00:00, 1641.61it/s]\n",
      "Inference: 100%|██████████| 1/1 [00:00<00:00,  8.15it/s]\n",
      "Tokenization: 100%|██████████| 1/1 [00:00<00:00, 2187.95it/s]\n",
      "Inference:   0%|          | 0/1 [00:00<?, ?it/s]"
     ]
    },
    {
     "name": "stdout",
     "output_type": "stream",
     "text": [
      "Default Mode: ESG/ 成/ 顯學/  / 有助/ 吸引/ 外資/ 買/ 股\n",
      "Default Mode: 中信銀/ 砸/ 39億/  / 增持/ 泰國/ LH/ 集團/ 至/ 46.6%\n"
     ]
    },
    {
     "name": "stderr",
     "output_type": "stream",
     "text": [
      "Inference: 100%|██████████| 1/1 [00:00<00:00,  9.02it/s]\n",
      "Tokenization: 100%|██████████| 1/1 [00:00<00:00, 1107.55it/s]\n",
      "Inference: 100%|██████████| 1/1 [00:00<00:00,  5.63it/s]\n",
      "Tokenization: 100%|██████████| 1/1 [00:00<00:00, 3194.44it/s]\n",
      "Inference:   0%|          | 0/1 [00:00<?, ?it/s]"
     ]
    },
    {
     "name": "stdout",
     "output_type": "stream",
     "text": [
      "Default Mode: 彰銀/ 衝/ 獲利/  / 強化/ 海外/ 布局\n",
      "Default Mode: 南山/ 人壽/ 去年/ 淨利/ 創/ 新高/   EPS / 2.7/ 元\n"
     ]
    },
    {
     "name": "stderr",
     "output_type": "stream",
     "text": [
      "Inference: 100%|██████████| 1/1 [00:00<00:00,  8.31it/s]\n",
      "Tokenization: 100%|██████████| 1/1 [00:00<00:00, 2755.78it/s]\n",
      "Inference: 100%|██████████| 1/1 [00:00<00:00,  7.66it/s]\n",
      "Tokenization: 100%|██████████| 1/1 [00:00<00:00, 2833.99it/s]\n",
      "Inference:   0%|          | 0/1 [00:00<?, ?it/s]"
     ]
    },
    {
     "name": "stdout",
     "output_type": "stream",
     "text": [
      "Default Mode: 科法斯/ 報告/ 示警/  / 歐洲/ 有/ 隱形/ 破產/ 未爆彈\n",
      "Default Mode: 萊鎂/ 醫/ iNAP One/ 適用/ 經濟部/ 新/ 藥/ 條例\n"
     ]
    },
    {
     "name": "stderr",
     "output_type": "stream",
     "text": [
      "Inference: 100%|██████████| 1/1 [00:00<00:00,  7.84it/s]\n",
      "Tokenization: 100%|██████████| 1/1 [00:00<00:00, 1501.18it/s]\n",
      "Inference: 100%|██████████| 1/1 [00:00<00:00,  8.05it/s]\n",
      "Tokenization: 100%|██████████| 1/1 [00:00<00:00, 3587.94it/s]\n",
      "Inference:   0%|          | 0/1 [00:00<?, ?it/s]"
     ]
    },
    {
     "name": "stdout",
     "output_type": "stream",
     "text": [
      "Default Mode: momo/ 富邦媒/ 通過/ 發放/ 現金/ 股利/ 每/ 股/ 10/ 元\n",
      "Default Mode: 疫情/ 難/ 擋/ 法國/ 再度/ 封城/  / 國際/ 油價/ 走跌\n"
     ]
    },
    {
     "name": "stderr",
     "output_type": "stream",
     "text": [
      "Inference: 100%|██████████| 1/1 [00:00<00:00,  5.83it/s]\n",
      "Tokenization: 100%|██████████| 1/1 [00:00<00:00, 6105.25it/s]\n",
      "Inference: 100%|██████████| 1/1 [00:00<00:00,  5.39it/s]\n",
      "Tokenization:   0%|          | 0/1 [00:00<?, ?it/s]"
     ]
    },
    {
     "name": "stdout",
     "output_type": "stream",
     "text": [
      "Default Mode: 美股/ 科技股/ 走揚/  / 那指/ 、/ 標普/ 500/ 收紅\n",
      "Default Mode: 18/ 搶/ 11/  / 東元/ 嬤孫/ 、/ 女婿/  5/25/ 決戰\n"
     ]
    },
    {
     "name": "stderr",
     "output_type": "stream",
     "text": [
      "Tokenization: 100%|██████████| 1/1 [00:00<00:00, 406.62it/s]\n",
      "Inference: 100%|██████████| 1/1 [00:00<00:00,  8.50it/s]\n",
      "Tokenization: 100%|██████████| 1/1 [00:00<00:00, 4718.00it/s]\n",
      "Inference: 100%|██████████| 1/1 [00:00<00:00,  8.43it/s]\n",
      "Tokenization: 100%|██████████| 1/1 [00:00<00:00, 1618.17it/s]\n",
      "Inference:   0%|          | 0/1 [00:00<?, ?it/s]"
     ]
    },
    {
     "name": "stdout",
     "output_type": "stream",
     "text": [
      "Default Mode: 最/ 強/ 女婿/ 黃茂雄/ 2/ 度/ 對戰/ 創始/ 股東\n",
      "Default Mode: 三/ 方/ 合體/ 持股/ 逾/ 4成/  / 公司派/ 老神在在\n"
     ]
    },
    {
     "name": "stderr",
     "output_type": "stream",
     "text": [
      "Inference: 100%|██████████| 1/1 [00:00<00:00,  6.01it/s]\n",
      "Tokenization: 100%|██████████| 1/1 [00:00<00:00, 2186.81it/s]\n",
      "Inference: 100%|██████████| 1/1 [00:00<00:00,  8.90it/s]\n",
      "Tokenization: 100%|██████████| 1/1 [00:00<00:00, 1694.67it/s]\n",
      "Inference:   0%|          | 0/1 [00:00<?, ?it/s]"
     ]
    },
    {
     "name": "stdout",
     "output_type": "stream",
     "text": [
      "Default Mode: 炒股案/ 傷形象/  / 林陳海/ 低調/ ︰/ 和/ 為/ 貴\n",
      "Default Mode: 瀚薪/ 移/ 中/  / 工研院/ ：/ 若/ 侵權/ 將/ 提告\n"
     ]
    },
    {
     "name": "stderr",
     "output_type": "stream",
     "text": [
      "Inference: 100%|██████████| 1/1 [00:00<00:00,  8.30it/s]\n",
      "Tokenization: 100%|██████████| 1/1 [00:00<00:00, 1164.11it/s]\n",
      "Inference: 100%|██████████| 1/1 [00:00<00:00,  9.24it/s]\n",
      "Tokenization: 100%|██████████| 1/1 [00:00<00:00, 1076.29it/s]\n",
      "Inference:   0%|          | 0/1 [00:00<?, ?it/s]"
     ]
    },
    {
     "name": "stdout",
     "output_type": "stream",
     "text": [
      "Default Mode: 紅鏈/ 滲透/  / 國安局/ ：/ 情況/ 非常/ 嚴峻\n",
      "Default Mode: 挑戰/ 新/ 中資/ 條款/  / 蝦皮/ 二/ 度/ 叩關\n"
     ]
    },
    {
     "name": "stderr",
     "output_type": "stream",
     "text": [
      "Inference: 100%|██████████| 1/1 [00:00<00:00,  8.20it/s]\n",
      "Tokenization: 100%|██████████| 1/1 [00:00<00:00, 2335.36it/s]\n",
      "Inference: 100%|██████████| 1/1 [00:00<00:00,  7.94it/s]\n",
      "Tokenization: 100%|██████████| 1/1 [00:00<00:00, 3472.11it/s]\n",
      "Inference:   0%|          | 0/1 [00:00<?, ?it/s]"
     ]
    },
    {
     "name": "stdout",
     "output_type": "stream",
     "text": [
      "Default Mode: 國防部/ 出動/ 淨水/ 設備/  / 支援/ 中港/ 園區/ 用水\n",
      "Default Mode: 陳吉仲/ 會/ 環團/ 談/ 藻礁 / 方向/ 一致/ 、/ 未/ 達/ 共識\n"
     ]
    },
    {
     "name": "stderr",
     "output_type": "stream",
     "text": [
      "Inference: 100%|██████████| 1/1 [00:00<00:00,  7.75it/s]\n",
      "Tokenization: 100%|██████████| 1/1 [00:00<00:00, 1267.16it/s]\n",
      "Inference: 100%|██████████| 1/1 [00:00<00:00,  8.24it/s]\n",
      "Tokenization: 100%|██████████| 1/1 [00:00<00:00, 2114.06it/s]\n",
      "Inference:   0%|          | 0/1 [00:00<?, ?it/s]"
     ]
    },
    {
     "name": "stdout",
     "output_type": "stream",
     "text": [
      "Default Mode: 節能/ 電器/ 退稅/ 優惠/  政院/ 今/ 拍板/ 再/ 延/ 2/ 年\n",
      "Default Mode: 台積電/ 竹科/ 12B廠/ 火警/  3/ 奈米/ 研發/ 進程/ 有/ 變數/ ？\n"
     ]
    },
    {
     "name": "stderr",
     "output_type": "stream",
     "text": [
      "Inference: 100%|██████████| 1/1 [00:00<00:00,  6.92it/s]\n",
      "Tokenization: 100%|██████████| 1/1 [00:00<00:00, 1703.62it/s]\n",
      "Inference: 100%|██████████| 1/1 [00:00<00:00, 10.22it/s]\n",
      "Tokenization: 100%|██████████| 1/1 [00:00<00:00, 6096.37it/s]\n",
      "Inference:   0%|          | 0/1 [00:00<?, ?it/s]"
     ]
    },
    {
     "name": "stdout",
     "output_type": "stream",
     "text": [
      "Default Mode: 工具機/ 暨/ 零組件/ 公會/ 理事長/ 許文憲/ ︰/ 半導體/ 高薪/ 吸/ 人才/  / 傳產業/ 憂心\n",
      "Default Mode: FII/ 電動車/ 戰略/  / 3/ 箭/ 齊發\n"
     ]
    },
    {
     "name": "stderr",
     "output_type": "stream",
     "text": [
      "Inference: 100%|██████████| 1/1 [00:00<00:00,  7.49it/s]\n",
      "Tokenization: 100%|██████████| 1/1 [00:00<00:00, 2347.12it/s]\n",
      "Inference: 100%|██████████| 1/1 [00:00<00:00,  9.73it/s]\n",
      "Tokenization: 100%|██████████| 1/1 [00:00<00:00, 1763.79it/s]\n",
      "Inference:   0%|          | 0/1 [00:00<?, ?it/s]"
     ]
    },
    {
     "name": "stdout",
     "output_type": "stream",
     "text": [
      "Default Mode: 全/ 國/ 房價/ 指數/ 連/ 漲/ 10/ 季/  / 台南/ 累計/ 漲/ 14.35％/  / 居冠\n",
      "Default Mode: 房貸/ 負擔率/ 與/ 房價/ 所得比/  四/ 都/ 加重\n"
     ]
    },
    {
     "name": "stderr",
     "output_type": "stream",
     "text": [
      "Inference: 100%|██████████| 1/1 [00:00<00:00,  8.76it/s]\n",
      "Tokenization: 100%|██████████| 1/1 [00:00<00:00, 1582.16it/s]\n",
      "Inference: 100%|██████████| 1/1 [00:00<00:00,  8.04it/s]\n",
      "Tokenization: 100%|██████████| 1/1 [00:00<00:00, 1664.41it/s]\n",
      "Inference:   0%|          | 0/1 [00:00<?, ?it/s]"
     ]
    },
    {
     "name": "stdout",
     "output_type": "stream",
     "text": [
      "Default Mode: 前/ 2/ 月/ 製造業/ 景氣/ 指標/  / 創/ 10年/ 同/ 期/ 新高\n",
      "Default Mode: 聯貸案/ 殺價/ 競爭/  / 金管會/ 將/ 出面/ 協商\n"
     ]
    },
    {
     "name": "stderr",
     "output_type": "stream",
     "text": [
      "Inference: 100%|██████████| 1/1 [00:00<00:00,  4.59it/s]\n",
      "Tokenization: 100%|██████████| 1/1 [00:00<00:00, 825.00it/s]\n",
      "Inference: 100%|██████████| 1/1 [00:00<00:00,  5.80it/s]\n",
      "Tokenization: 100%|██████████| 1/1 [00:00<00:00, 164.53it/s]"
     ]
    },
    {
     "name": "stdout",
     "output_type": "stream",
     "text": [
      "Default Mode: 富邦/ Q3/ 收購/ 日盛/ 剩下/ 股權/  / 維持/ 每/ 股/ 13/ 元\n",
      "Default Mode: 元大/ 壽存股/ 保單/ 爭議/  / 金管會/ 調查/ 缺失\n"
     ]
    },
    {
     "name": "stderr",
     "output_type": "stream",
     "text": [
      "\n",
      "Inference: 100%|██████████| 1/1 [00:00<00:00,  8.60it/s]\n",
      "Tokenization: 100%|██████████| 1/1 [00:00<00:00, 1310.31it/s]\n",
      "Inference: 100%|██████████| 1/1 [00:00<00:00,  9.69it/s]\n",
      "Tokenization: 100%|██████████| 1/1 [00:00<00:00, 1328.15it/s]\n",
      "Inference:   0%|          | 0/1 [00:00<?, ?it/s]"
     ]
    },
    {
     "name": "stdout",
     "output_type": "stream",
     "text": [
      "Default Mode: 證券/ 行情表/ 、/ 證券/ 表格\n",
      "Default Mode: 陸/ 製造業/ PMI / 攀/ 三/ 個/ 月/ 高點\n"
     ]
    },
    {
     "name": "stderr",
     "output_type": "stream",
     "text": [
      "Inference: 100%|██████████| 1/1 [00:00<00:00,  8.75it/s]\n",
      "Tokenization: 100%|██████████| 1/1 [00:00<00:00, 2695.57it/s]\n",
      "Inference: 100%|██████████| 1/1 [00:00<00:00,  8.11it/s]\n",
      "Tokenization: 100%|██████████| 1/1 [00:00<00:00, 1531.89it/s]\n",
      "Inference:   0%|          | 0/1 [00:00<?, ?it/s]"
     ]
    },
    {
     "name": "stdout",
     "output_type": "stream",
     "text": [
      "Default Mode: 陸挺/ 企業/  / 再/ 減稅/ 2.4兆/ 元\n",
      "Default Mode: SPAC/ 熱潮/ 持續/  / 英國/ 、/ 新加坡/ 跟進\n"
     ]
    },
    {
     "name": "stderr",
     "output_type": "stream",
     "text": [
      "Inference: 100%|██████████| 1/1 [00:00<00:00,  8.97it/s]\n",
      "Tokenization: 100%|██████████| 1/1 [00:00<00:00, 1321.04it/s]\n",
      "Inference: 100%|██████████| 1/1 [00:00<00:00,  8.85it/s]\n",
      "Tokenization: 100%|██████████| 1/1 [00:00<00:00, 843.25it/s]\n",
      "Inference:   0%|          | 0/1 [00:00<?, ?it/s]"
     ]
    },
    {
     "name": "stdout",
     "output_type": "stream",
     "text": [
      "Default Mode: 新疆/ 棉/ 事件/  H&M/ 滅火\n",
      "Default Mode: 亞洲/ 央行/ 面臨/ 升息/ 壓力/  / 憂/ 抑制/ 國內/ 成長\n"
     ]
    },
    {
     "name": "stderr",
     "output_type": "stream",
     "text": [
      "Inference: 100%|██████████| 1/1 [00:00<00:00,  8.50it/s]\n",
      "Tokenization: 100%|██████████| 1/1 [00:00<00:00, 1526.31it/s]\n",
      "Inference: 100%|██████████| 1/1 [00:00<00:00,  7.56it/s]\n",
      "Tokenization: 100%|██████████| 1/1 [00:00<00:00, 2308.37it/s]\n",
      "Inference:   0%|          | 0/1 [00:00<?, ?it/s]"
     ]
    },
    {
     "name": "stdout",
     "output_type": "stream",
     "text": [
      "Default Mode: OPEC+/ 調降/ 原油/ 需求/ 預期/  / 降至/ 30萬/ 桶\n",
      "Default Mode: IMF/ 將/ 上修/ 全球/ GDP/ 成長率/  / 示警/ 應/ 為/ 新興/ 市場/ 債務/ 危機/ 預/ 做/ 準備\n"
     ]
    },
    {
     "name": "stderr",
     "output_type": "stream",
     "text": [
      "Inference: 100%|██████████| 1/1 [00:00<00:00,  9.26it/s]\n",
      "Tokenization: 100%|██████████| 1/1 [00:00<00:00, 1794.74it/s]\n",
      "Inference: 100%|██████████| 1/1 [00:00<00:00,  8.02it/s]\n",
      "Tokenization: 100%|██████████| 1/1 [00:00<00:00, 1020.51it/s]\n",
      "Inference:   0%|          | 0/1 [00:00<?, ?it/s]"
     ]
    },
    {
     "name": "stdout",
     "output_type": "stream",
     "text": [
      "Default Mode: 美/ 基建案/ 規模/  / 衝/ 2.2兆/ 美元\n",
      "Default Mode: 烏俄/ 邊界/ 情勢/ 緊繃/  / 美/ 參聯/ 主席/ 與/ 兩/ 國/ 最/ 高/ 將領/ 通話\n"
     ]
    },
    {
     "name": "stderr",
     "output_type": "stream",
     "text": [
      "Inference: 100%|██████████| 1/1 [00:00<00:00,  8.71it/s]\n",
      "Tokenization: 100%|██████████| 1/1 [00:00<00:00, 2062.10it/s]\n",
      "Inference: 100%|██████████| 1/1 [00:00<00:00,  9.70it/s]\n",
      "Tokenization: 100%|██████████| 1/1 [00:00<00:00, 2268.42it/s]\n",
      "Inference:   0%|          | 0/1 [00:00<?, ?it/s]"
     ]
    },
    {
     "name": "stdout",
     "output_type": "stream",
     "text": [
      "Default Mode: 法國/ 第三/ 波/ 疫情/ 止/ 不/ 住/  / 馬克宏/ ：/ 再度/ 全/ 國/ 封城\n",
      "Default Mode: 疫情/ 難/ 擋/ 法國/ 再度/ 封城/  / 國際/ 油價/ 走跌\n"
     ]
    },
    {
     "name": "stderr",
     "output_type": "stream",
     "text": [
      "Inference: 100%|██████████| 1/1 [00:00<00:00,  8.83it/s]\n",
      "Tokenization: 100%|██████████| 1/1 [00:00<00:00, 3802.63it/s]\n",
      "Inference: 100%|██████████| 1/1 [00:00<00:00,  8.51it/s]\n",
      "Tokenization: 100%|██████████| 1/1 [00:00<00:00, 1811.79it/s]\n",
      "Inference:   0%|          | 0/1 [00:00<?, ?it/s]"
     ]
    },
    {
     "name": "stdout",
     "output_type": "stream",
     "text": [
      "Default Mode: 美股/ 科技股/ 走揚/  / 那指/ 、/ 標普/ 500/ 收紅\n",
      "Default Mode: 非/ 美/ 貨幣/ 皆/ 走貶/  / 台幣/ 成/ 最/ 抗/ 跌/ 亞幣\n"
     ]
    },
    {
     "name": "stderr",
     "output_type": "stream",
     "text": [
      "Inference: 100%|██████████| 1/1 [00:00<00:00,  7.99it/s]\n",
      "Tokenization: 100%|██████████| 1/1 [00:00<00:00, 3021.83it/s]\n",
      "Inference: 100%|██████████| 1/1 [00:00<00:00, 10.19it/s]\n",
      "Tokenization: 100%|██████████| 1/1 [00:00<00:00, 7345.54it/s]\n",
      "Inference:   0%|          | 0/1 [00:00<?, ?it/s]"
     ]
    },
    {
     "name": "stdout",
     "output_type": "stream",
     "text": [
      "Default Mode: 黃天牧/ 評/ 台股/ ：/ 萬六…/ 是/ 高/ 了/ 一點\n",
      "Default Mode: 台股/ 大盤/ Q1/ 漲幅/  / 稱冠/ 全球\n"
     ]
    },
    {
     "name": "stderr",
     "output_type": "stream",
     "text": [
      "Inference: 100%|██████████| 1/1 [00:00<00:00,  9.22it/s]\n",
      "Tokenization: 100%|██████████| 1/1 [00:00<00:00, 900.07it/s]\n",
      "Inference: 100%|██████████| 1/1 [00:00<00:00,  9.69it/s]"
     ]
    },
    {
     "name": "stdout",
     "output_type": "stream",
     "text": [
      "Default Mode: 史/ 上/ 最/ 強/  / 上市櫃/ 去年/ 賺/ 逾/ 2.4兆\n",
      "Default Mode: 4月/ 1日/  / 五/ 件/ 財經/ 大事/ 搶先/ 看\n"
     ]
    },
    {
     "name": "stderr",
     "output_type": "stream",
     "text": [
      "\n"
     ]
    }
   ],
   "source": [
    "for title in review_lst:\n",
    "    seg_list = ws_driver([title])\n",
    "    print(\"Default Mode: \" + \"/ \".join(seg_list[0]))  # 精确模式\n"
   ]
  },
  {
   "cell_type": "code",
   "execution_count": 10,
   "id": "engaging-description",
   "metadata": {},
   "outputs": [
    {
     "data": {
      "text/plain": [
       "['布林肯再發香港政策法報告 認定香港不再高度自治',\n",
       " '若普遍配戴驅鯊裝置 估50年間澳洲可少1063人被咬',\n",
       " '拜登2.25兆美元基礎建設及租稅計畫一覽',\n",
       " 'BBC駐北京記者前往台灣 稱受到威脅趨烈',\n",
       " '聯電集團還有戲？謝金河：股利政策看出企業力度',\n",
       " '傳出宜蘭設廠? 台積電:無進一步擴廠具體計畫',\n",
       " '台積電竹科12廠火警 虛驚',\n",
       " '陳俊聖談駭客勒索：怎麼可能付錢',\n",
       " '漲價潮蔓延 關鍵零組件報價紛揚升',\n",
       " '推旅遊泡泡 不如規劃健康護照',\n",
       " '富邦：併日盛 明年看到效益',\n",
       " '富邦加碼台股 還有440億空間',\n",
       " '卡蘇伊士運河近一週 「長賜號」擱淺原因調查展開',\n",
       " '歐股多收低 外送平台Deliveroo上市首日股價大跌',\n",
       " '歐股多收低 外送平台Deliveroo上市首日股價大跌',\n",
       " '打炒房紛擾不影響買氣 房仲上月交易增兩位數',\n",
       " '東元公司派董事名單 留下三個問號',\n",
       " '東元公司派爭取支持 自許務實改革派',\n",
       " '修營業秘密法 防堵陸資挖角...三關鍵',\n",
       " '國泰台灣5G+ ETF受益人數再創高',\n",
       " '櫃買公告「戰略新板」相關規章',\n",
       " '櫃買業績發表會下周3連發',\n",
       " '歐股多收低 外送平台Deliveroo上市首日股價大跌',\n",
       " '資策會辦AI論壇 加速數位轉型',\n",
       " '【歐股盤後】多收低',\n",
       " '戶戶送倫敦掛牌出師不利 外送員抗議薪聲引發賣壓',\n",
       " '蘋果開發者大會 6月7日起線上登場',\n",
       " '露露檸檬示警疫情效應 恐關更多店面',\n",
       " '俄羅斯研發全球首款動物新冠疫苗 最快本月量產',\n",
       " '福斯愚人節玩笑 改名Voltswagen 搭電動車熱潮',\n",
       " '南韓能源供應商旗下部門IPO 將成四年來最大上市案',\n",
       " '印度鼓勵晶片業者設廠 每家獎勵10億美元現金',\n",
       " '瑞薩供貨短期內難恢復 豐田、日產為減產做準備',\n",
       " '陸大數據交易所成立 金控集團發起 創新買賣模式',\n",
       " '中金員工平均年薪496萬 稱冠上市券商',\n",
       " '陸太陽能組件廠囊括全球七強 供應比重超過70%',\n",
       " '高分12號02衛星發射 負責國土普查、城市規劃',\n",
       " '香港聯交所擴展第二上市制 招手大中華傳產業掛牌',\n",
       " '台陸澳人士入境香港  須做兩次新冠病毒檢測',\n",
       " '線上廣交會15日登場 32國參與 辦44場推介活動',\n",
       " '背痛腿麻卻無法就醫 俄異議人士納瓦尼絕食抗議',\n",
       " 'AZ疫苗安不安全？EU當局：尚未發現特定危險因子',\n",
       " '突破封鎖 華為去年獲利逆勢增',\n",
       " '中芯淨利勁揚1.4倍',\n",
       " 'NCC通過華視上架52台 外界質疑財務嚴重虧損、人力不足',\n",
       " '申報最低稅負 別犯兩錯誤',\n",
       " '數位服務稅戰火 恐波及台商',\n",
       " '公益團體免稅 注意收支比',\n",
       " '節能家電省稅 延長兩年',\n",
       " '中信銀八大優勢 滿足投資需求',\n",
       " '中信銀高資產財管服務升級 瞄準億元級客戶',\n",
       " '中信銀提升廣度深度 頻奪國際大獎',\n",
       " 'AFMA打造金融教育新藍海',\n",
       " '銀行讓利 競推永續連結貸款',\n",
       " 'ESG成顯學 有助吸引外資買股',\n",
       " '中信銀砸39億 增持泰國LH集團至46.6%',\n",
       " '彰銀衝獲利 強化海外布局',\n",
       " '南山人壽去年淨利創新高  EPS 2.7元',\n",
       " '科法斯報告示警 歐洲有隱形破產未爆彈',\n",
       " '萊鎂醫iNAP One適用經濟部新藥條例',\n",
       " 'momo富邦媒通過發放現金股利每股10元',\n",
       " '疫情難擋法國再度封城 國際油價走跌',\n",
       " '美股科技股走揚 那指、標普500收紅',\n",
       " '18搶11 東元嬤孫、女婿 5/25決戰',\n",
       " '最強女婿黃茂雄2度對戰創始股東',\n",
       " '三方合體持股逾4成 公司派老神在在',\n",
       " '炒股案傷形象 林陳海低調︰和為貴',\n",
       " '瀚薪移中 工研院：若侵權將提告',\n",
       " '紅鏈滲透 國安局：情況非常嚴峻',\n",
       " '挑戰新中資條款 蝦皮二度叩關',\n",
       " '國防部出動淨水設備 支援中港園區用水',\n",
       " '陳吉仲會環團談藻礁 方向一致、未達共識',\n",
       " '節能電器退稅優惠 政院今拍板再延2年',\n",
       " '台積電竹科12B廠火警 3奈米研發進程有變數？',\n",
       " '工具機暨零組件公會理事長許文憲︰半導體高薪吸人才 傳產業憂心',\n",
       " 'FII電動車戰略 3箭齊發',\n",
       " '全國房價指數連漲10季 台南累計漲14.35％ 居冠',\n",
       " '房貸負擔率與房價所得比 四都加重',\n",
       " '前2月製造業景氣指標 創10年同期新高',\n",
       " '聯貸案殺價競爭 金管會將出面協商',\n",
       " '富邦Q3收購日盛剩下股權 維持每股13元',\n",
       " '元大壽存股保單爭議 金管會調查缺失',\n",
       " '證券行情表、證券表格',\n",
       " '陸製造業PMI 攀三個月高點',\n",
       " '陸挺企業 再減稅2.4兆元',\n",
       " 'SPAC熱潮持續 英國、新加坡跟進',\n",
       " '新疆棉事件 H&M滅火',\n",
       " '亞洲央行面臨升息壓力 憂抑制國內成長',\n",
       " 'OPEC+調降原油需求預期 降至30萬桶',\n",
       " 'IMF將上修全球GDP成長率 示警應為新興市場債務危機預做準備',\n",
       " '美基建案規模 衝2.2兆美元',\n",
       " '烏俄邊界情勢緊繃 美參聯主席與兩國最高將領通話',\n",
       " '法國第三波疫情止不住 馬克宏：再度全國封城',\n",
       " '疫情難擋法國再度封城 國際油價走跌',\n",
       " '美股科技股走揚 那指、標普500收紅',\n",
       " '非美貨幣皆走貶 台幣成最抗跌亞幣',\n",
       " '黃天牧評台股：萬六…是高了一點',\n",
       " '台股大盤Q1漲幅 稱冠全球',\n",
       " '史上最強 上市櫃去年賺逾2.4兆',\n",
       " '4月1日 五件財經大事搶先看']"
      ]
     },
     "execution_count": 10,
     "metadata": {},
     "output_type": "execute_result"
    }
   ],
   "source": [
    "review_lst"
   ]
  },
  {
   "cell_type": "code",
   "execution_count": 14,
   "id": "boxed-latter",
   "metadata": {},
   "outputs": [],
   "source": [
    "from sklearn.feature_extraction.text import CountVectorizer\n",
    "\n",
    "texts = open('./data/reuters.titles').read().splitlines()[:50]\n",
    "vec = CountVectorizer(stop_words='english')\n",
    "X = vec.fit_transform(texts).toarray()"
   ]
  },
  {
   "cell_type": "code",
   "execution_count": 15,
   "id": "finite-kinase",
   "metadata": {},
   "outputs": [
    {
     "data": {
      "text/plain": [
       "array([[0, 0, 0, ..., 0, 0, 0],\n",
       "       [0, 0, 0, ..., 0, 1, 0],\n",
       "       [0, 0, 0, ..., 0, 0, 0],\n",
       "       ...,\n",
       "       [0, 0, 0, ..., 0, 0, 0],\n",
       "       [0, 0, 0, ..., 0, 0, 0],\n",
       "       [0, 0, 0, ..., 0, 0, 0]])"
      ]
     },
     "execution_count": 15,
     "metadata": {},
     "output_type": "execute_result"
    }
   ],
   "source": [
    "X"
   ]
  },
  {
   "cell_type": "code",
   "execution_count": 16,
   "id": "excess-offset",
   "metadata": {},
   "outputs": [
    {
     "data": {
      "text/plain": [
       "['UK: Prince Charles spearheads British royal revolution.',\n",
       " 'GERMANY: Historic Dresden church rising from WW2 ashes.',\n",
       " \"INDIA: Mother Teresa's condition said still unstable.\",\n",
       " 'UK: Palace warns British weekly over Charles pictures.',\n",
       " 'INDIA: Mother Teresa, slightly stronger, blesses nuns.',\n",
       " \"INDIA: Mother Teresa's condition unchanged, thousands pray.\",\n",
       " 'INDIA: Mother Teresa shows signs of strength, blesses nuns.',\n",
       " \"INDIA: Mother Teresa's condition improves, many pray.\",\n",
       " 'INDIA: Mother Teresa improves, nuns pray for \"miracle\".',\n",
       " 'UK: Charles under fire over prospect of Queen Camilla.',\n",
       " 'UK: Britain tells Charles to forget Camilla.',\n",
       " \"COTE D'IVOIRE: FEATURE - Quiet homecoming for reprieved Ivory Coast maid.\",\n",
       " 'INDIA: Mother Teresa (\"I want to go home\") sits and prays.',\n",
       " 'INDIA: Mother Teresa nears end of crisis, nuns rejoice.',\n",
       " 'UK: Prosaic end for marriage of Charles and Diana.',\n",
       " 'UK: No respite for British royals despite divorce.',\n",
       " \"UK: Camilla, love of Charles' life, an unlikely queen.\",\n",
       " 'UK: Diana sets out on new life as single woman.',\n",
       " 'USA: O.J. Simpson attacks media, hints at lawsuits.',\n",
       " 'USA: U.S. Cardinal Bernardin has one year or less to live.',\n",
       " 'USA: U.S. Cardinal Bernardin says has terminal cancer.',\n",
       " 'ROMANIA: German architect wins Bucharest rebuilding prize.',\n",
       " 'ARGENTINA: Argentina\\'s \"Blond Angel\" finally quits Navy.',\n",
       " 'UK: Disney lights up Pocahontas resting place.',\n",
       " 'HUNGARY: POPE LEAVES HUNGARY AFTER DEMANDING TWO-DAY VISIT.',\n",
       " 'HUNGARY: Pope says mass in Hungary, health in spotlight.',\n",
       " \"UK: Prince Charles' love will not wed him, paper says.\",\n",
       " 'UK: Ex-archbishop calls Princess Diana actress-schemer.',\n",
       " 'USA: Politics discussed backstage at Emmys, no airplay.',\n",
       " 'UK: Diana angered by ex-archbishop\\'s \"schemer\" jibe.',\n",
       " 'UK: Queen Elizabeth to hold \"royal summit\" - report.',\n",
       " \"BRAZIL: Nobel Prize winner sides with Brazil's landless.\",\n",
       " \"VATICAN: FEATURE - Papal health in spotlight amid talk of Parkinson's.\",\n",
       " 'UK: Cool it with Camilla, Major tells Charles - paper.',\n",
       " 'ROMANIA: Romania \"royalty\" wedding draws business barons.',\n",
       " 'UK: British royal family holds meeting on future.',\n",
       " 'UK: Scandal-battered British royals debate future role.',\n",
       " \"SOUTH AFRICA: It's wonderful I've found Nelson, says new love.\",\n",
       " 'CHILE: Chilean economist Felipe Herrera dies at 74.',\n",
       " 'GREECE: Princess Diana joins in funeral on Greek island.',\n",
       " 'USA: U.S. House of Representatives honors Mother Teresa.',\n",
       " \"FRANCE: Jewish-born cardinal is Pope's key man in France.\",\n",
       " \"VATICAN: Pope's health will figure large on trip to France.\",\n",
       " 'PHILIPPINES: FEATURE - Ex-actor eyes Philippine presidency.',\n",
       " 'UK: Runaway bishop had child, Catholic church admits.',\n",
       " 'FRANCE: Pope skirts religious controversy in France.',\n",
       " 'FRANCE: Pope visits western France religious stronghold.',\n",
       " 'UK: \"I still love him\" says runaway bishop\\'s mistress.',\n",
       " 'UK: Church appeals to runaway Scottish bishop.',\n",
       " \"SWITZERLAND: Romanian ex-king's daughter marries.\"]"
      ]
     },
     "execution_count": 16,
     "metadata": {},
     "output_type": "execute_result"
    }
   ],
   "source": [
    "texts"
   ]
  },
  {
   "cell_type": "code",
   "execution_count": 79,
   "id": "improving-receipt",
   "metadata": {},
   "outputs": [
    {
     "name": "stderr",
     "output_type": "stream",
     "text": [
      "/Users/gary/opt/anaconda3/envs/analyzer/lib/python3.8/site-packages/ipykernel/ipkernel.py:287: DeprecationWarning: `should_run_async` will not call `transform_cell` automatically in the future. Please pass the result to `transformed_cell` argument and any exception that happen during thetransform in `preprocessing_exc_tuple` in IPython 7.17 and above.\n",
      "  and should_run_async(code)\n"
     ]
    }
   ],
   "source": [
    "import numpy as np\n",
    "from biterm.utility import vec_to_biterms\n",
    "\n",
    "vocab = np.array(vec.get_feature_names())\n",
    "biterms = vec_to_biterms(X)"
   ]
  },
  {
   "cell_type": "code",
   "execution_count": 80,
   "id": "athletic-pennsylvania",
   "metadata": {},
   "outputs": [
    {
     "name": "stderr",
     "output_type": "stream",
     "text": [
      "/Users/gary/opt/anaconda3/envs/analyzer/lib/python3.8/site-packages/ipykernel/ipkernel.py:287: DeprecationWarning: `should_run_async` will not call `transform_cell` automatically in the future. Please pass the result to `transformed_cell` argument and any exception that happen during thetransform in `preprocessing_exc_tuple` in IPython 7.17 and above.\n",
      "  and should_run_async(code)\n"
     ]
    },
    {
     "data": {
      "text/plain": [
       "array(['000', '100', '14', ..., 'zealand', 'zimbabwe', 'zombies'],\n",
       "      dtype='<U15')"
      ]
     },
     "execution_count": 80,
     "metadata": {},
     "output_type": "execute_result"
    }
   ],
   "source": [
    "vocab"
   ]
  },
  {
   "cell_type": "code",
   "execution_count": 20,
   "id": "joint-consortium",
   "metadata": {},
   "outputs": [
    {
     "name": "stderr",
     "output_type": "stream",
     "text": [
      "100%|██████████| 100/100 [00:10<00:00,  9.27it/s]\n"
     ]
    }
   ],
   "source": [
    "from biterm.btm import oBTM\n",
    "\n",
    "btm = oBTM(num_topics=20, V=vocab)\n",
    "topics = btm.fit_transform(biterms, iterations=100)"
   ]
  },
  {
   "cell_type": "code",
   "execution_count": 21,
   "id": "latest-saturn",
   "metadata": {},
   "outputs": [
    {
     "name": "stderr",
     "output_type": "stream",
     "text": [
      "100%|██████████| 100/100 [00:10<00:00,  9.30it/s]\n"
     ]
    }
   ],
   "source": [
    "from biterm.btm import oBTM\n",
    "\n",
    "btm = oBTM(num_topics=20, V=vocab)\n",
    "topics = btm.fit_transform(biterms, iterations=100)"
   ]
  },
  {
   "cell_type": "code",
   "execution_count": 22,
   "id": "binding-tobago",
   "metadata": {},
   "outputs": [
    {
     "data": {
      "text/plain": [
       "array([[3.54582555e-04, 5.34592666e-06, 3.18392661e-06, 4.05953003e-06,\n",
       "        2.94566882e-06, 8.22401027e-02, 7.33940853e-06, 2.50779155e-06,\n",
       "        1.24189700e-06, 8.06618668e-01, 1.28235404e-06, 2.87398078e-06,\n",
       "        2.94566882e-06, 3.10033728e-06, 3.18392661e-06, 2.46544462e-04,\n",
       "        2.54549709e-02, 7.33940853e-06, 8.48827726e-02, 1.55009188e-04],\n",
       "       [1.04761806e-03, 5.89522364e-06, 3.51107686e-06, 4.47664903e-06,\n",
       "        3.24833795e-06, 2.50001796e-06, 8.09353688e-06, 9.98890003e-01,\n",
       "        1.36950261e-06, 1.78172094e-06, 1.41411664e-06, 3.16928392e-06,\n",
       "        3.24833795e-06, 3.41889868e-06, 3.51107686e-06, 1.54865020e-06,\n",
       "        2.76546854e-06, 8.09353688e-06, 1.44551005e-06, 2.88813269e-06],\n",
       "       [1.97183676e-06, 3.48931102e-06, 2.07816360e-06, 2.64967399e-06,\n",
       "        1.92265164e-06, 1.47973016e-06, 4.79046583e-06, 1.63684712e-06,\n",
       "        1.14197239e-01, 1.05457891e-06, 8.85763878e-01, 1.87586052e-06,\n",
       "        1.92265164e-06, 2.02360445e-06, 2.07816360e-06, 9.16627178e-07,\n",
       "        1.63684712e-06, 4.79046583e-06, 8.55579779e-07, 1.70945053e-06],\n",
       "       [3.43325516e-04, 6.39041124e-06, 3.80600065e-06, 4.85267905e-06,\n",
       "        3.52119217e-06, 1.31562218e-02, 8.77337863e-06, 2.99776265e-06,\n",
       "        1.48453824e-06, 2.35638164e-02, 1.53289976e-06, 3.43549776e-06,\n",
       "        3.52119217e-06, 3.70607968e-06, 3.80600065e-06, 2.38557857e-04,\n",
       "        2.62703407e-02, 8.77337863e-06, 9.36220751e-01, 1.50385490e-04],\n",
       "       [1.53139829e-06, 2.70992256e-06, 1.61397548e-06, 2.05783070e-06,\n",
       "        1.49319938e-06, 1.14921087e-06, 3.72044549e-06, 1.27123347e-06,\n",
       "        8.80768071e-01, 8.19023341e-07, 1.19201732e-01, 1.45685974e-06,\n",
       "        1.49319938e-06, 1.57160291e-06, 1.61397548e-06, 7.11885142e-07,\n",
       "        1.27123347e-06, 3.72044549e-06, 6.64473568e-07, 1.32761985e-06],\n",
       "       [1.47573272e-06, 2.61141820e-06, 1.55530826e-06, 1.98302956e-06,\n",
       "        1.43892232e-06, 1.10743761e-06, 3.58520912e-06, 1.22502475e-06,\n",
       "        8.15574674e-02, 7.89252245e-07, 9.18413433e-01, 1.40390360e-06,\n",
       "        1.43892232e-06, 1.51447592e-06, 1.55530826e-06, 6.86008466e-07,\n",
       "        1.22502475e-06, 3.58520912e-06, 6.40320280e-07, 1.27936152e-06],\n",
       "       [1.64801301e-06, 2.91628092e-06, 1.73687837e-06, 2.21453281e-06,\n",
       "        1.60690528e-06, 1.23672232e-06, 4.00375433e-06, 1.36803684e-06,\n",
       "        9.10448393e-01, 8.81391291e-07, 8.95191096e-02, 1.56779841e-06,\n",
       "        1.60690528e-06, 1.69127918e-06, 1.73687837e-06, 7.66094607e-07,\n",
       "        1.36803684e-06, 4.00375433e-06, 7.15072681e-07, 1.42871700e-06],\n",
       "       [6.89402115e-07, 1.21994804e-06, 7.26576563e-07, 9.26390505e-07,\n",
       "        6.72205798e-07, 5.17349670e-07, 1.67486342e-06, 5.72281585e-07,\n",
       "        1.13630166e-01, 3.68706448e-07, 8.86356239e-01, 6.55846485e-07,\n",
       "        6.72205798e-07, 7.07501359e-07, 7.26576563e-07, 3.20475167e-07,\n",
       "        5.72281585e-07, 1.67486342e-06, 2.99131510e-07, 5.97665504e-07],\n",
       "       [1.18678324e-06, 2.10010073e-06, 1.25077784e-06, 1.59475102e-06,\n",
       "        1.15718034e-06, 8.90600572e-07, 2.88322272e-06, 9.85164069e-07,\n",
       "        1.67897859e-01, 6.34716115e-07, 8.32078739e-01, 1.12901832e-06,\n",
       "        1.15718034e-06, 1.21794050e-06, 1.25077784e-06, 5.51687539e-07,\n",
       "        9.85164069e-07, 2.88322272e-06, 5.14945131e-07, 1.02886166e-06],\n",
       "       [3.83985092e-04, 2.68395887e-06, 1.59851202e-06, 2.03811468e-06,\n",
       "        1.47889308e-06, 2.70131357e-02, 3.68480000e-06, 1.25905382e-06,\n",
       "        6.23502841e-07, 3.36562597e-02, 6.43814575e-07, 1.44290161e-06,\n",
       "        1.47889308e-06, 1.55654543e-06, 1.59851202e-06, 2.67396181e-04,\n",
       "        3.71666296e-04, 3.68480000e-06, 9.38116683e-01, 1.67102141e-04],\n",
       "       [3.68874232e-04, 3.74682944e-06, 2.23153640e-06, 2.84522546e-06,\n",
       "        2.06454734e-06, 1.81881997e-02, 5.14401219e-06, 1.75764985e-06,\n",
       "        8.70415277e-07, 3.42534546e-03, 8.98770632e-07, 2.01430294e-06,\n",
       "        2.06454734e-06, 2.17295068e-06, 2.23153640e-06, 2.56719934e-04,\n",
       "        3.56948857e-04, 5.14401219e-06, 9.77209913e-01, 1.60812444e-04],\n",
       "       [1.47822576e-06, 2.61582982e-06, 9.99573123e-01, 1.98637961e-06,\n",
       "        1.44135317e-06, 1.10930847e-06, 3.59126582e-06, 1.91842386e-04,\n",
       "        6.07675976e-07, 7.90585574e-07, 6.27472122e-07, 1.40627530e-06,\n",
       "        1.44135317e-06, 1.51703441e-06, 2.08993187e-04, 6.87167380e-07,\n",
       "        1.22709426e-06, 3.59126582e-06, 6.41402010e-07, 1.28152282e-06],\n",
       "       [2.79751849e-06, 4.95041591e-06, 2.94836834e-06, 3.75919150e-06,\n",
       "        2.72773772e-06, 2.09934846e-06, 6.79641286e-06, 2.32225617e-06,\n",
       "        9.37050737e-01, 1.49617050e-06, 6.28940988e-02, 2.66135341e-06,\n",
       "        2.72773772e-06, 2.87096325e-06, 2.94836834e-06, 1.30045323e-06,\n",
       "        2.32225617e-06, 6.79641286e-06, 1.21384300e-06, 2.42526134e-06],\n",
       "       [2.12727159e-06, 3.76436444e-06, 2.24197989e-06, 2.85854099e-06,\n",
       "        2.07420933e-06, 2.91767846e-04, 5.16808595e-06, 1.76587558e-06,\n",
       "        1.26353449e-01, 1.13770865e-06, 8.73314432e-01, 2.02372979e-06,\n",
       "        2.07420933e-06, 2.18312000e-06, 2.24197989e-06, 9.88882544e-07,\n",
       "        1.76587558e-06, 5.16808595e-06, 9.23022935e-07, 1.84420213e-06],\n",
       "       [4.74656676e-04, 5.47429825e-06, 3.26038215e-06, 4.15701141e-06,\n",
       "        3.01640308e-06, 8.95471377e-01, 7.51564954e-06, 2.56801108e-06,\n",
       "        1.27171864e-06, 3.54466726e-03, 3.93803962e-04, 2.94299360e-06,\n",
       "        3.01640308e-06, 3.17478559e-06, 3.26038215e-06, 3.28270190e-02,\n",
       "        4.59260396e-04, 7.51564954e-06, 4.70759273e-02, 1.97061151e-02],\n",
       "       [4.92363696e-04, 3.82081537e-06, 2.27560093e-06, 2.90140806e-06,\n",
       "        2.10531446e-06, 4.61451997e-04, 5.24558727e-06, 1.79235689e-06,\n",
       "        8.87602737e-07, 1.74360232e-02, 9.16518004e-07, 2.05407792e-06,\n",
       "        2.10531446e-06, 2.21585836e-06, 2.27560093e-06, 3.42818103e-04,\n",
       "        9.65070242e-01, 5.24558727e-06, 1.59489006e-02, 2.14359119e-04],\n",
       "       [2.29658355e-04, 4.01127690e-06, 2.38903600e-06, 1.00985660e-03,\n",
       "        2.21026102e-06, 7.66415119e-02, 5.50707141e-06, 1.88170301e-06,\n",
       "        9.31848314e-07, 1.61422892e-02, 9.62204961e-07, 2.15647042e-06,\n",
       "        2.21026102e-06, 2.32631536e-06, 2.38903600e-06, 1.59611452e-04,\n",
       "        2.22102472e-04, 5.50707141e-06, 8.90759361e-01, 1.48031265e-02],\n",
       "       [7.96952767e-04, 4.53015081e-06, 2.69806688e-06, 7.84886208e-04,\n",
       "        2.49616667e-06, 1.26333037e-02, 6.21943202e-06, 2.12510845e-06,\n",
       "        1.05238643e-06, 5.32441151e-04, 1.08666983e-06, 2.43541806e-06,\n",
       "        2.49616667e-06, 2.62723309e-06, 2.69806688e-06, 2.34791912e-02,\n",
       "        7.71466711e-04, 6.21943202e-06, 3.40947586e-02, 9.26870315e-01],\n",
       "       [3.65892305e-06, 6.47473500e-06, 3.85622219e-06, 4.91671189e-06,\n",
       "        8.39022108e-04, 2.74577434e-06, 8.88914650e-06, 3.03731920e-06,\n",
       "        2.21646912e-04, 1.95686740e-06, 1.55312692e-06, 3.48083038e-06,\n",
       "        3.56765556e-06, 9.97571943e-01, 3.85622219e-06, 1.70088538e-06,\n",
       "        3.03731920e-06, 1.30989706e-03, 1.58760635e-06, 3.17204146e-06],\n",
       "       [2.85496234e-06, 5.05206704e-06, 3.00890971e-06, 3.83638220e-06,\n",
       "        9.56858259e-01, 2.14245618e-06, 6.93596943e-06, 2.36994105e-06,\n",
       "        1.80101026e-04, 1.52689265e-06, 1.21186447e-06, 2.71600126e-06,\n",
       "        2.78374869e-06, 4.18524135e-02, 3.00890971e-06, 1.32715655e-06,\n",
       "        2.36994105e-06, 1.06436766e-03, 1.23876788e-06, 2.47506131e-06],\n",
       "       [2.53448067e-06, 4.48495103e-06, 2.67114680e-06, 9.70444519e-04,\n",
       "        9.68676773e-01, 8.50551966e-04, 6.15737737e-06, 2.10390509e-06,\n",
       "        1.37703348e-04, 1.35549245e-06, 1.07582753e-06, 2.41111857e-06,\n",
       "        5.03686212e-04, 2.80149917e-02, 2.67114680e-06, 1.17817758e-06,\n",
       "        2.10390509e-06, 8.13804305e-04, 1.09971092e-06, 2.19722516e-06],\n",
       "       [1.56326256e-06, 9.99193485e-01, 1.64755796e-06, 2.10064861e-06,\n",
       "        1.52426884e-06, 1.17312285e-06, 5.45666788e-04, 1.29768441e-06,\n",
       "        6.42633307e-07, 8.36065011e-07, 6.63568251e-07, 1.48717307e-06,\n",
       "        1.52426884e-06, 1.60430374e-06, 2.36927664e-04, 7.26697554e-07,\n",
       "        1.29768441e-06, 3.79785793e-06, 6.78299473e-07, 1.35524404e-06],\n",
       "       [7.44820575e-06, 1.31801510e-05, 7.84983337e-06, 1.00085958e-05,\n",
       "        7.26241910e-06, 5.58937477e-06, 1.80949944e-05, 6.18285162e-06,\n",
       "        3.06184335e-06, 9.99850889e-01, 3.16158844e-06, 7.08567533e-06,\n",
       "        7.26241910e-06, 7.64374749e-06, 7.84983337e-06, 3.46236967e-06,\n",
       "        6.18285162e-06, 1.80949944e-05, 3.23177574e-06, 6.45709600e-06],\n",
       "       [9.46592063e-04, 1.14952444e-05, 6.84633683e-06, 8.72913022e-06,\n",
       "        6.33401564e-06, 8.86722957e-04, 1.57817906e-05, 5.39245647e-06,\n",
       "        2.67042750e-06, 6.31952604e-04, 2.75742151e-06, 6.17986621e-06,\n",
       "        6.33401564e-06, 6.66659628e-06, 6.84633683e-06, 9.95149340e-01,\n",
       "        9.15842579e-04, 1.57817906e-05, 9.54602959e-04, 4.13131811e-04],\n",
       "       [3.24302978e-06, 5.73878110e-06, 3.41790282e-06, 4.35785144e-06,\n",
       "        3.16213626e-06, 2.43367456e-06, 7.87875733e-06, 2.69208084e-06,\n",
       "        1.33315989e-06, 1.73443911e-06, 1.37658999e-06, 9.68960429e-01,\n",
       "        3.06998485e-02, 2.82639089e-04, 3.41790282e-06, 1.50755341e-06,\n",
       "        2.69208084e-06, 7.87875733e-06, 1.40715030e-06, 2.81148982e-06],\n",
       "       [2.20535579e-06, 3.90254020e-06, 2.32427460e-06, 9.05847613e-04,\n",
       "        4.70114029e-04, 7.94004408e-04, 5.35778708e-06, 1.30851079e-02,\n",
       "        9.06588000e-07, 1.17946969e-06, 9.36121747e-07, 3.78164416e-02,\n",
       "        9.46626478e-01, 2.71787982e-04, 2.32427460e-06, 1.02518073e-06,\n",
       "        1.83069427e-06, 5.35778708e-06, 9.56903660e-07, 1.91189590e-06],\n",
       "       [2.61005391e-04, 2.67081622e-06, 1.59068453e-06, 1.96266725e-02,\n",
       "        1.90478167e-04, 8.32616504e-01, 3.66675650e-06, 1.25288856e-06,\n",
       "        6.20449710e-07, 2.95082351e-02, 6.40661983e-07, 1.43583610e-06,\n",
       "        1.90478167e-04, 1.54892343e-06, 1.59068453e-06, 1.81645472e-04,\n",
       "        2.52565782e-04, 3.66675650e-06, 1.17039940e-01, 1.13791335e-04],\n",
       "       [4.17417814e-03, 3.97702714e-06, 2.36863753e-06, 3.02003042e-06,\n",
       "        2.31979953e-04, 9.24737467e-03, 5.46005001e-06, 1.86563634e-06,\n",
       "        9.23891850e-07, 2.24737103e-04, 9.53989301e-07, 2.13805768e-06,\n",
       "        2.19138899e-06, 2.30645242e-06, 3.00418406e-04, 9.07419716e-01,\n",
       "        3.25691538e-04, 5.46005001e-06, 3.39502681e-04, 7.77057365e-02],\n",
       "       [1.63842111e-06, 2.89930736e-06, 1.72676926e-06, 2.20164361e-06,\n",
       "        4.26867097e-04, 1.22952426e-06, 3.98045138e-06, 1.36007449e-06,\n",
       "        1.12732328e-04, 8.76261350e-07, 6.95471290e-07, 1.55867339e-06,\n",
       "        1.59755264e-06, 3.37380839e-04, 1.72676926e-06, 7.61635724e-07,\n",
       "        1.36007449e-06, 9.99097276e-01, 7.10910761e-07, 1.42040147e-06],\n",
       "       [5.50811278e-03, 3.65588110e-06, 2.17736940e-06, 2.77616212e-06,\n",
       "        2.41313568e-04, 1.22922532e-02, 5.01914946e-06, 1.71498569e-06,\n",
       "        8.49287327e-07, 2.71355105e-04, 8.76954400e-07, 1.96540893e-06,\n",
       "        2.01443373e-06, 2.12020575e-06, 3.12562926e-04, 9.66863415e-01,\n",
       "        3.93215027e-04, 5.01914946e-06, 4.10170465e-04, 1.36794128e-02],\n",
       "       [5.50888332e-04, 6.65976573e-06, 3.96642278e-06, 5.05721845e-06,\n",
       "        3.66960968e-06, 5.16049492e-04, 9.14317469e-06, 3.12411772e-06,\n",
       "        1.54711121e-06, 9.54539797e-01, 1.59751116e-06, 3.58030326e-06,\n",
       "        3.66960968e-06, 3.86229016e-06, 3.96642278e-06, 3.83253818e-04,\n",
       "        5.32995405e-04, 9.14317469e-06, 3.76722360e-02, 5.74579273e-03],\n",
       "       [3.77489356e-06, 1.33910567e-03, 3.97844615e-06, 5.07254834e-06,\n",
       "        3.68073333e-06, 2.83280236e-06, 9.17089029e-06, 3.13358782e-06,\n",
       "        1.55180095e-06, 2.01889081e-06, 1.60235368e-06, 3.59115619e-06,\n",
       "        3.68073333e-06, 3.87399787e-06, 9.98593962e-01, 1.75479538e-06,\n",
       "        3.13358782e-06, 9.17089029e-06, 1.63792595e-06, 3.27258013e-06],\n",
       "       [2.81305015e-06, 4.97790033e-06, 6.04489169e-04, 3.78006230e-06,\n",
       "        2.74288195e-06, 2.11100392e-06, 6.83414614e-06, 9.12787720e-01,\n",
       "        1.15640185e-06, 1.50447715e-06, 1.19407373e-06, 2.67612909e-06,\n",
       "        8.61068695e-02, 2.88690267e-06, 4.54108061e-04, 1.30767327e-06,\n",
       "        2.33514920e-06, 6.83414614e-06, 1.22058218e-06, 2.43872625e-06],\n",
       "       [2.74320719e-04, 4.11913567e-06, 2.45327452e-06, 3.12794320e-06,\n",
       "        2.26969247e-06, 6.41082533e-02, 5.65515042e-06, 1.93229991e-06,\n",
       "        9.56904676e-07, 2.45584471e-03, 9.88077580e-07, 2.21445550e-06,\n",
       "        2.26969247e-06, 2.38886739e-06, 2.45327452e-06, 1.90739875e-04,\n",
       "        2.65347977e-04, 5.65515042e-06, 9.32549092e-01, 1.19917858e-04],\n",
       "       [1.63890269e-06, 5.82259583e-04, 1.72727680e-06, 2.20229073e-06,\n",
       "        1.59802221e-06, 1.22988564e-06, 9.99390935e-01, 1.36047425e-06,\n",
       "        6.73727803e-07, 8.76518906e-07, 6.95675706e-07, 1.55913152e-06,\n",
       "        1.59802221e-06, 1.68192968e-06, 1.72727680e-06, 7.61859588e-07,\n",
       "        1.36047425e-06, 3.98162133e-06, 7.11119715e-07, 1.42081897e-06],\n",
       "       [4.52982908e-04, 5.51216503e-06, 3.28293484e-06, 4.18576627e-06,\n",
       "        3.03726813e-06, 4.24331909e-04, 7.56763674e-06, 2.58577451e-06,\n",
       "        1.28051536e-06, 8.84826082e-01, 1.32223047e-06, 2.96335085e-06,\n",
       "        3.03726813e-06, 3.19674620e-06, 3.28293484e-06, 3.15136144e-04,\n",
       "        1.02176106e-01, 7.56763674e-06, 1.15588351e-02, 1.97703170e-04],\n",
       "       [2.85585314e-04, 2.66748649e-06, 1.58870140e-06, 2.02560607e-06,\n",
       "        1.46981660e-06, 2.67607780e-04, 3.66218512e-06, 1.25132657e-06,\n",
       "        6.19676189e-07, 2.38312350e-02, 6.39863264e-07, 1.43404603e-06,\n",
       "        1.46981660e-06, 1.54699238e-06, 1.58870140e-06, 1.98785228e-04,\n",
       "        9.66697643e-01, 3.66218512e-06, 8.57107180e-03, 1.24445094e-04],\n",
       "       [1.48014474e-06, 2.61922561e-06, 1.55995820e-06, 9.77376081e-01,\n",
       "        1.69726397e-04, 2.19884217e-02, 3.59592789e-06, 1.22868723e-06,\n",
       "        6.08464842e-07, 7.91611888e-07, 6.28286687e-07, 1.40810088e-06,\n",
       "        1.69726397e-04, 1.51900378e-06, 1.55995820e-06, 6.88059439e-07,\n",
       "        1.22868723e-06, 3.59592789e-06, 7.56007133e-05, 1.97931999e-04],\n",
       "       [5.95493913e-06, 1.05377053e-05, 6.27604574e-06, 8.00200485e-06,\n",
       "        5.80640025e-06, 4.46877915e-06, 1.44671876e-05, 4.94327175e-06,\n",
       "        2.44798431e-06, 3.18482407e-06, 2.52773183e-06, 5.66509127e-06,\n",
       "        5.80640025e-06, 6.11127735e-06, 6.27604574e-06, 9.99880367e-01,\n",
       "        4.94327175e-06, 1.44671876e-05, 2.58384751e-06, 5.16253377e-06],\n",
       "       [2.51252700e-06, 4.44610238e-06, 2.64800933e-06, 3.37623153e-06,\n",
       "        2.44985500e-06, 1.60134609e-04, 6.10404216e-06, 2.08568106e-06,\n",
       "        1.03286138e-06, 1.34375118e-06, 1.06650871e-06, 2.39023346e-06,\n",
       "        2.44985500e-06, 2.57848972e-06, 2.64800933e-06, 1.30488595e-02,\n",
       "        2.08568106e-06, 6.10404216e-06, 1.09018522e-06, 9.86744594e-01],\n",
       "       [4.69987088e-06, 8.31676918e-06, 4.95330077e-06, 6.31549521e-06,\n",
       "        1.64626210e-03, 3.52693529e-06, 1.14180703e-05, 3.90142341e-06,\n",
       "        9.68388359e-01, 2.51358773e-06, 2.60248776e-02, 4.47111161e-06,\n",
       "        4.58263818e-06, 1.30073270e-03, 4.95330077e-06, 2.18477993e-06,\n",
       "        3.90142341e-06, 2.56791648e-03, 2.03927351e-06, 4.07447357e-06],\n",
       "       [2.47319473e-06, 4.37650103e-06, 2.60655616e-06, 3.32337843e-06,\n",
       "        5.16173469e-04, 1.85596541e-06, 6.00848665e-06, 2.05303084e-06,\n",
       "        1.01669249e-06, 1.32271547e-06, 1.04981309e-06, 2.71560704e-02,\n",
       "        1.48904528e-02, 9.57396182e-01, 2.60655616e-06, 1.14968823e-06,\n",
       "        2.05303084e-06, 6.00848665e-06, 1.07311895e-06, 2.14409435e-06],\n",
       "       [1.83456589e-06, 3.24640006e-06, 1.93349070e-06, 2.46521498e-06,\n",
       "        1.78880483e-06, 1.37671765e-06, 4.45697402e-06, 8.41315518e-03,\n",
       "        7.54161952e-07, 9.81163618e-07, 7.78730143e-07, 2.66964456e-02,\n",
       "        9.56354789e-01, 8.50484115e-03, 1.93349070e-06, 8.52815501e-07,\n",
       "        1.52289680e-06, 4.45697402e-06, 7.96017961e-07, 1.59044587e-06],\n",
       "       [2.62181698e-06, 4.63949908e-06, 6.32882484e-04, 3.52309095e-06,\n",
       "        3.67174974e-04, 1.96749636e-06, 6.36955598e-06, 4.36445791e-04,\n",
       "        1.07778882e-06, 1.40220171e-06, 1.11289974e-06, 2.49420391e-06,\n",
       "        2.55641887e-06, 2.69064895e-06, 9.98067901e-01, 4.53183191e-04,\n",
       "        2.17640408e-06, 6.36955598e-06, 1.13760613e-06, 2.27293989e-06],\n",
       "       [9.71795725e-01, 2.46270217e-06, 1.46673598e-06, 1.87009925e-06,\n",
       "        1.35697802e-06, 2.67360291e-02, 3.38103728e-06, 1.62304976e-04,\n",
       "        5.72103329e-07, 2.27276551e-04, 5.90740631e-07, 1.32395357e-06,\n",
       "        1.35697802e-06, 1.42822897e-06, 1.46673598e-06, 2.36925833e-04,\n",
       "        3.29322970e-04, 3.38103728e-06, 3.43670293e-04, 1.48088132e-04],\n",
       "       [2.44585086e-06, 4.32811402e-06, 2.57773783e-06, 3.28663485e-06,\n",
       "        2.38484202e-06, 1.83544568e-06, 5.94205625e-06, 2.03033234e-06,\n",
       "        1.00545184e-06, 1.30809141e-06, 1.03820626e-06, 9.52503228e-01,\n",
       "        3.00118436e-02, 1.74418773e-02, 2.57773783e-06, 1.13697716e-06,\n",
       "        2.03033234e-06, 5.94205625e-06, 1.06125445e-06, 2.12038904e-06],\n",
       "       [2.23808874e-06, 3.96046357e-06, 2.35877260e-06, 3.00745256e-06,\n",
       "        2.18226227e-06, 1.67953426e-06, 5.43730993e-06, 1.85786632e-06,\n",
       "        9.20044014e-07, 1.19697594e-06, 9.50016114e-07, 9.68145530e-01,\n",
       "        2.01077522e-02, 1.17073231e-02, 2.35877260e-06, 1.04039695e-06,\n",
       "        1.85786632e-06, 5.43730993e-06, 9.71106483e-07, 1.94027318e-06],\n",
       "       [1.65031000e-01, 4.08325810e-06, 2.43190656e-06, 2.77121895e-02,\n",
       "        3.20460871e-04, 7.84620923e-01, 5.60589421e-06, 1.91546963e-06,\n",
       "        9.48570061e-07, 2.21432951e-04, 9.79471449e-07, 2.19516765e-06,\n",
       "        3.20460871e-04, 2.36806041e-06, 2.43190656e-06, 2.30745667e-04,\n",
       "        3.20908274e-04, 5.60589421e-06, 2.10485378e-02, 1.44775547e-04],\n",
       "       [9.60901204e-01, 2.53647406e-06, 1.51067303e-06, 1.92611932e-06,\n",
       "        1.39762721e-06, 3.73343833e-02, 3.48231851e-06, 1.96655878e-04,\n",
       "        5.89241066e-07, 2.73468549e-04, 6.08436661e-07, 1.36361349e-06,\n",
       "        1.39762721e-06, 1.47101253e-06, 1.51067303e-06, 2.85101386e-04,\n",
       "        3.96241677e-04, 3.48231851e-06, 4.13609003e-04, 1.78060326e-04],\n",
       "       [4.07879419e-06, 7.21772803e-06, 4.29873393e-06, 5.48091763e-06,\n",
       "        9.98244408e-01, 3.06085923e-06, 9.90919966e-06, 3.38585965e-06,\n",
       "        1.67672984e-06, 2.18142312e-06, 1.73135236e-06, 3.88026491e-06,\n",
       "        3.97705351e-06, 4.18587696e-06, 8.61159274e-04, 8.20766598e-04,\n",
       "        3.38585965e-06, 9.90919966e-06, 1.76978840e-06, 3.53604164e-06]])"
      ]
     },
     "execution_count": 22,
     "metadata": {},
     "output_type": "execute_result"
    }
   ],
   "source": [
    "topics"
   ]
  },
  {
   "cell_type": "code",
   "execution_count": 24,
   "id": "flying-stress",
   "metadata": {},
   "outputs": [],
   "source": [
    "import numpy as np\n",
    "import pyLDAvis\n",
    "from biterm.btm import oBTM \n",
    "from sklearn.feature_extraction.text import CountVectorizer\n",
    "from biterm.utility import vec_to_biterms, topic_summuary # helper functions"
   ]
  },
  {
   "cell_type": "code",
   "execution_count": 27,
   "id": "tested-aruba",
   "metadata": {},
   "outputs": [
    {
     "name": "stderr",
     "output_type": "stream",
     "text": [
      "/Users/gary/opt/anaconda3/envs/analyzer/lib/python3.8/site-packages/ipykernel/ipkernel.py:287: DeprecationWarning: `should_run_async` will not call `transform_cell` automatically in the future. Please pass the result to `transformed_cell` argument and any exception that happen during thetransform in `preprocessing_exc_tuple` in IPython 7.17 and above.\n",
      "  and should_run_async(code)\n",
      "  0%|          | 0/50 [00:00<?, ?it/s]"
     ]
    },
    {
     "name": "stdout",
     "output_type": "stream",
     "text": [
      "\n",
      "\n",
      " Train Online BTM ..\n"
     ]
    },
    {
     "name": "stderr",
     "output_type": "stream",
     "text": [
      "100%|██████████| 50/50 [00:14<00:00,  3.43it/s]\n",
      "100%|██████████| 50/50 [00:17<00:00,  2.78it/s]\n",
      "100%|██████████| 50/50 [00:15<00:00,  3.21it/s]\n",
      "100%|██████████| 50/50 [00:13<00:00,  3.64it/s]\n"
     ]
    },
    {
     "name": "stdout",
     "output_type": "stream",
     "text": [
      "\n",
      "\n",
      " Visualize Topics ..\n",
      "\n",
      "\n",
      " Topic coherence ..\n",
      "Topic 0 | Coherence=-79.73 | Top words= mother teresa india nuns new russia vote successor succession order\n",
      "Topic 1 | Coherence=-88.41 | Top words= usa death yeltsin russia comes courage alabama award heart clinton\n",
      "Topic 2 | Coherence=-81.80 | Top words= usa new feature clarence dies 85 kelley director fbi ireland\n",
      "Topic 3 | Coherence=-86.32 | Top words= usa germany berlin wife flynt poster larry report bishops parliament\n",
      "Topic 4 | Coherence=-79.07 | Top words= uk royal charles lover camilla british prince french holds canada\n",
      "Topic 5 | Coherence=-95.90 | Top words= pope poland nobel feature vatican poles day russia parents moments\n",
      "Topic 6 | Coherence=-99.18 | Top words= uk charles camilla usa farewell bids calif queen life says\n",
      "Topic 7 | Coherence=-70.18 | Top words= usa new auction versace continues bring high prices glamorous says\n",
      "Topic 8 | Coherence=-110.94 | Top words= italy usa surgery pope appendix uk british thursday mass royals\n",
      "Topic 9 | Coherence=-85.31 | Top words= romania ex dies king minister new kidder leader banker beetham\n",
      "Topic 10 | Coherence=-108.69 | Top words= usa ex pope vatican china dies official marks mass king\n",
      "Topic 11 | Coherence=-70.10 | Top words= uk bishop britain runaway weds church film plan west fred\n",
      "Topic 12 | Coherence=-91.65 | Top words= pope poland france italy trip health vatican helicopter assassination takes\n",
      "Topic 13 | Coherence=-61.78 | Top words= south feature oasis despite korea africa seoul jackson marry israel\n",
      "Topic 14 | Coherence=-92.43 | Top words= usa reward elvis feature lives uk seeks gets post loyalty\n",
      "Topic 15 | Coherence=-92.12 | Top words= germany uk return dies diana bertil prince sweden archbishop german\n",
      "Topic 16 | Coherence=-65.18 | Top words= uk feature festival violence edinburgh ancient fringe abbey rock buries\n",
      "Topic 17 | Coherence=-98.26 | Top words= usa harriman france pamela church denies clinton leader paris affair\n",
      "Topic 18 | Coherence=-112.86 | Top words= usa art italy russia cardinal chicago russian uk million calls\n",
      "Topic 19 | Coherence=-103.85 | Top words= india teresa mother usa feature end nuns mccartney presley uk\n",
      "\n",
      "\n",
      " Texts & Topics ..\n",
      "UK: Prince Charles spearheads British royal revolution. (topic: 4)\n",
      "GERMANY: Historic Dresden church rising from WW2 ashes. (topic: 11)\n",
      "INDIA: Mother Teresa's condition said still unstable. (topic: 0)\n",
      "UK: Palace warns British weekly over Charles pictures. (topic: 4)\n",
      "INDIA: Mother Teresa, slightly stronger, blesses nuns. (topic: 0)\n",
      "INDIA: Mother Teresa's condition unchanged, thousands pray. (topic: 0)\n",
      "INDIA: Mother Teresa shows signs of strength, blesses nuns. (topic: 19)\n",
      "INDIA: Mother Teresa's condition improves, many pray. (topic: 0)\n",
      "INDIA: Mother Teresa improves, nuns pray for \"miracle\". (topic: 0)\n",
      "UK: Charles under fire over prospect of Queen Camilla. (topic: 6)\n",
      "UK: Britain tells Charles to forget Camilla. (topic: 6)\n",
      "COTE D'IVOIRE: FEATURE - Quiet homecoming for reprieved Ivory Coast maid. (topic: 19)\n",
      "INDIA: Mother Teresa (\"I want to go home\") sits and prays. (topic: 19)\n",
      "INDIA: Mother Teresa nears end of crisis, nuns rejoice. (topic: 19)\n",
      "UK: Prosaic end for marriage of Charles and Diana. (topic: 18)\n",
      "UK: No respite for British royals despite divorce. (topic: 8)\n",
      "UK: Camilla, love of Charles' life, an unlikely queen. (topic: 6)\n",
      "UK: Diana sets out on new life as single woman. (topic: 15)\n",
      "USA: O.J. Simpson attacks media, hints at lawsuits. (topic: 14)\n",
      "USA: U.S. Cardinal Bernardin has one year or less to live. (topic: 7)\n",
      "USA: U.S. Cardinal Bernardin says has terminal cancer. (topic: 7)\n",
      "ROMANIA: German architect wins Bucharest rebuilding prize. (topic: 15)\n",
      "ARGENTINA: Argentina's \"Blond Angel\" finally quits Navy. (topic: 13)\n",
      "UK: Disney lights up Pocahontas resting place. (topic: 1)\n",
      "HUNGARY: POPE LEAVES HUNGARY AFTER DEMANDING TWO-DAY VISIT. (topic: 5)\n",
      "HUNGARY: Pope says mass in Hungary, health in spotlight. (topic: 10)\n",
      "UK: Prince Charles' love will not wed him, paper says. (topic: 6)\n",
      "UK: Ex-archbishop calls Princess Diana actress-schemer. (topic: 15)\n",
      "USA: Politics discussed backstage at Emmys, no airplay. (topic: 1)\n",
      "UK: Diana angered by ex-archbishop's \"schemer\" jibe. (topic: 15)\n",
      "UK: Queen Elizabeth to hold \"royal summit\" - report. (topic: 18)\n",
      "BRAZIL: Nobel Prize winner sides with Brazil's landless. (topic: 5)\n",
      "VATICAN: FEATURE - Papal health in spotlight amid talk of Parkinson's. (topic: 12)\n",
      "UK: Cool it with Camilla, Major tells Charles - paper. (topic: 6)\n",
      "ROMANIA: Romania \"royalty\" wedding draws business barons. (topic: 9)\n",
      "UK: British royal family holds meeting on future. (topic: 4)\n",
      "UK: Scandal-battered British royals debate future role. (topic: 8)\n",
      "SOUTH AFRICA: It's wonderful I've found Nelson, says new love. (topic: 7)\n",
      "CHILE: Chilean economist Felipe Herrera dies at 74. (topic: 13)\n",
      "GREECE: Princess Diana joins in funeral on Greek island. (topic: 11)\n",
      "USA: U.S. House of Representatives honors Mother Teresa. (topic: 1)\n",
      "FRANCE: Jewish-born cardinal is Pope's key man in France. (topic: 12)\n",
      "VATICAN: Pope's health will figure large on trip to France. (topic: 12)\n",
      "PHILIPPINES: FEATURE - Ex-actor eyes Philippine presidency. (topic: 9)\n",
      "UK: Runaway bishop had child, Catholic church admits. (topic: 11)\n",
      "FRANCE: Pope skirts religious controversy in France. (topic: 12)\n",
      "FRANCE: Pope visits western France religious stronghold. (topic: 3)\n",
      "UK: \"I still love him\" says runaway bishop's mistress. (topic: 11)\n",
      "UK: Church appeals to runaway Scottish bishop. (topic: 11)\n",
      "SWITZERLAND: Romanian ex-king's daughter marries. (topic: 10)\n",
      "SWITZERLAND: ROMANIAN EX-KING'S DAUGHTER MARRIES. (topic: 10)\n",
      "UK: Errant Catholic bishop wants to marry divorcee. (topic: 11)\n",
      "FRANCE: Pope speaks of death with \"a smile\"-Cardinal. (topic: 12)\n",
      "USA: Actress Dorothy Lamour dead at 81. (topic: 3)\n",
      "USA: South Georgia resort kept Kennedy wedding secret. (topic: 17)\n",
      "FRANCE: FEATURE - Bardot tells all - for the love of animals. (topic: 6)\n",
      "FRANCE: Bardot tells all - for the love of animals. (topic: 6)\n",
      "AUSTRALIA: Quiet Buddhist farewell for mercy death Australian. (topic: 1)\n",
      "AUSTRALIA: Australia mercy death man joked until the end. (topic: 1)\n",
      "BELGIUM: Famed Belgian battlefield site makes its mark. (topic: 6)\n",
      "REPUBLIC OF IRELAND: Ireland's Cardinal Daly steps down at 79. (topic: 2)\n",
      "CANADA: Former Quebec premier fought for Canadian unity. (topic: 4)\n",
      "GERMANY: Feminist Hite seeks European parliament platform. (topic: 3)\n",
      "UK: Prince Charles aide out after gaffes over Camilla. (topic: 4)\n",
      "GERMANY: Vargas Llosa urges sanctions on rights abuses. (topic: 16)\n",
      "VATICAN: Tired Pope calls for prayers before operation. (topic: 18)\n",
      "ITALY: Pope ready for appendix surgery. (topic: 8)\n",
      "FRANCE: FEATURE - \"Who's Who\" sounds requiem for French intellectuals. (topic: 16)\n",
      "USA: Clinton wishes Pope \"speedy recovery\". (topic: 1)\n",
      "ITALY: \"Textbook\" papal appendix surgery excludes tumour. (topic: 8)\n",
      "ITALY: Pope gets clean bill of health after appendectomy. (topic: 12)\n",
      "UK: Runaway UK bishop to marry, apologises to church. (topic: 11)\n",
      "ITALY: Pope's surgery a success, doctors say no tumour. (topic: 8)\n",
      "UK: Runaway Scottish bishop to marry lover. (topic: 11)\n",
      "ITALY: Pope has appendix removed, no problems. (topic: 8)\n",
      "ITALY: Tranquil Pope has appendix surgery. (topic: 8)\n",
      "ITALY: Pope's operation starts - hospital sources. (topic: 18)\n",
      "SOUTH KOREA: \"King of Pop\" Michael Jackson arrives in Seoul. (topic: 13)\n",
      "SOUTH KOREA: Jackson takes to stage in Seoul despite protests. (topic: 13)\n",
      "INDONESIA: Nobel peace awards put East Timor in spotlight. (topic: 10)\n",
      "NORWAY: Nobel peace award wins praise outside indonesia. (topic: 5)\n",
      "VATICAN: Bishop's Nobel prize sweet satisfaction for Pope. (topic: 10)\n",
      "NORWAY: Winners of Nobel Peace Prize since 1970. (topic: 5)\n",
      "SOUTH AFRICA: FEATURE - Germans cling to little oasis in rural South Africa. (topic: 13)\n",
      "GERMANY: German publisher of Stern magazine dies. (topic: 9)\n",
      "ITALY: Joking Pope appears in public after surgery. (topic: 8)\n",
      "INDONESIA: Nobel laureate invited to gathering for Suharto. (topic: 5)\n",
      "VATICAN: After appendectomy, Papal trembling in spotlight. (topic: 12)\n",
      "USA: Material Girl Madonna becomes a mother. (topic: 17)\n",
      "USA: Madonna as mother - the next chapter. (topic: 17)\n",
      "REPUBLIC OF IRELAND: Irish aid agency pulls out of concert over singer. (topic: 2)\n",
      "UK: British writer seeks reward on Nazi gold-raid book. (topic: 14)\n",
      "UK: Mahatma Ghandi's letters go on sale in London. (topic: 11)\n",
      "UK: Mahatma Gandhi's letters go on sale in London. (topic: 11)\n",
      "USA: FEATURE-Haitian voodoo - more than dolls and zombies. (topic: 16)\n",
      "VATICAN: Pope to celebrate public mass on Sunday. (topic: 10)\n",
      "VATICAN: Pope greets pilgrims, resumes full duties Sunday. (topic: 5)\n",
      "SPAIN: Spanish bishops attack minister's lavish wedding. (topic: 9)\n",
      "INDIA: Former Gandhi aide has second thoughts on auction. (topic: 7)\n",
      "UK: ENGLISH PASTOR DEFENDS MEMORIAL SERVICE FOR MONKEY. (topic: 4)\n",
      "VATICAN: Pope gradually resumes activity after operation. (topic: 10)\n",
      "RUSSIA: Russia presents archives to U.S. Holocaust museum. (topic: 5)\n",
      "USA: Municipal industry mourns James Augenthaler. (topic: 7)\n",
      "UK: U.S. actor berates archbishop over smacking. (topic: 15)\n",
      "USA: Author who denied Japanese-Americans interned dies. (topic: 19)\n",
      "VATICAN: Pope to publish brief memoirs. (topic: 17)\n",
      "VATICAN: Pope marks 50 years as priest, announces memoirs. (topic: 17)\n",
      "VATICAN: FEATURE - Pope marks 50th anniversary of priesthood. (topic: 17)\n",
      "ROMANIA: Romanians enjoy colourful choice of candidates. (topic: 9)\n",
      "RUSSIA: Veil of secrecy thickens as Yeltsin surgery nears. (topic: 1)\n",
      "RUSSIA: Yeltsin in good form as heart operation nears. (topic: 1)\n",
      "RUSSIA: Yeltsin op looks imminent, security tightened. (topic: 18)\n",
      "RUSSIA: FEATURE - Provincial museum fights to stay open in Russia. (topic: 0)\n",
      "ARGENTINA: FEATURE - Erstwhile angel Cavallo bedevils government. (topic: 10)\n",
      "RUSSIA: YELTSIN COMES THROUGH SEVEN-HOUR HEART OPERATION. (topic: 1)\n",
      "RUSSIA: Russia on edge as Yeltsin surgery goes to plan. (topic: 18)\n",
      "RUSSIA: Yeltsin comes through seven-hour heart operation. (topic: 1)\n",
      "ITALY: Real-life Don Camillo won't toll bells for red. (topic: 12)\n",
      "VATICAN: Pope celebrates priesthood, to resume all activity. (topic: 10)\n",
      "USA: Chicago's Cardinal Bernardin reported near death. (topic: 18)\n",
      "USA: Church, lay leaders mourn Chicago cardinal. (topic: 18)\n",
      "USA: Bishops recall Bernardin's humble leadership. (topic: 3)\n",
      "USA: Cardinal led Chicago archdiocese for 14 years. (topic: 18)\n",
      "USA: Chicago's Cardinal Bernardin dead at age 68. (topic: 18)\n",
      "VATICAN: Pope saddened over Bernardin death. (topic: 18)\n",
      "CROATIA: Croatian doctor says Tudjman \"feeling excellent\". (topic: 13)\n",
      "INDONESIA: Norway issues Timorese Nobel laureate a visa. (topic: 5)\n",
      "INDIA: Mother Teresa becomes honorary American citizen. (topic: 19)\n",
      "VATICAN: Pope warms up for Castro by meeting Gorbachev. (topic: 4)\n",
      "USA: Final services for Cardinal Bernardin of Chicago. (topic: 18)\n",
      "UK: India saves Gandhi papers from jaws of commerce. (topic: 19)\n",
      "USA: Simpson's life story defies imagination. SANTA MONICA, Calif. (topic: 6)\n",
      "INDIA: Mother Teresa \"comfortable\" after heart failure. (topic: 0)\n",
      "INDIA: Mother Teresa in hospital with heart problem. (topic: 0)\n",
      "FRANCE: France pays tribute to writer Malraux on Saturday. (topic: 1)\n",
      "USA: S. Carolina Klan museum claims to teach history. LAURENS, S.C. (topic: 11)\n",
      "USA: Ex-hostage Waite still keeps symbolic ticket. (topic: 10)\n",
      "UK: Cluedo's final mystery solved at inventor's grave. (topic: 16)\n",
      "MOLDOVA: Moldova's new leader has Moscow past, western goals. (topic: 15)\n",
      "VATICAN: Belgian cardinal Hamer dies. (topic: 12)\n",
      "UK: Papers show Duke of Windsor was royal loose cannon. (topic: 19)\n",
      "FRANCE: Acclaimed French historian Georges Duby dies at 77. (topic: 15)\n",
      "CENTRAL AFRICAN REPUBLIC: State burial for African emperor Bokassa cancelled. (topic: 13)\n",
      "INDIA: Mother Teresa seeks foster homes for 4,000 children. (topic: 0)\n",
      "USA: Abortion foe Salvi buried, victim attends funeral. (topic: 10)\n",
      "ITALY: Nobel laureate Belo says peace will be his message. (topic: 5)\n",
      "VIETNAM: Hanoi declares dissident temple a national site. (topic: 8)\n",
      "GREECE: SALONIKA TO SHOW OFF BYZANTINE LEGACY IN 1997. (topic: 14)\n",
      "GREECE: SALONIKA TO SHOW OFF BYZANTINE LEGACY IN 1997. (topic: 14)\n",
      "RUSSIA: Cash-strapped Kremlin to start charging visitors. (topic: 0)\n",
      "VATICAN: Ageing Pope to skip Christmas Day mass this year. (topic: 5)\n",
      "NORWAY: East Timor activist shares peace prize. (topic: 10)\n",
      "UK: FEATURE - Duke's reputation sinks 60 years after abdication. (topic: 13)\n",
      "SOUTH AFRICA: S.Africa's Boesak charged with theft of aid funds. (topic: 13)\n",
      "ITALY: Italy's Dossetti, political figure, dies. (topic: 12)\n",
      "GREECE: FEATURE - Salonika to show off Byzantine legacy in 1997. (topic: 14)\n",
      "NETHERLANDS: Hermitage treasures on show in Amsterdam. (topic: 14)\n",
      "RUSSIA: Russian Orthodox leader taken to hospital. (topic: 18)\n",
      "FRANCE: Bardot denies racism charge in Paris court. (topic: 17)\n",
      "FRANCE: Paris bids emotional farewell to Mastroianni. (topic: 1)\n",
      "ITALY: Italy says \"Ciao Marcello,\" thanks for sweet life. (topic: 6)\n",
      "PERU: Peru rebel chief is angry, violent revolutionary. (topic: 6)\n",
      "CUBA: Santa Claus skips Cuba, at least officially. (topic: 2)\n",
      "ISRAEL: Israel takes shine off Christmas in Bethlehem. (topic: 13)\n",
      "RUSSIA: FEATURE - Moscow to celebrate 850th birthday in grand style. (topic: 5)\n",
      "UK: Fred West film plan angers British MPs, relatives. (topic: 11)\n",
      "INDIA: Israel president shrugs off illness. (topic: 0)\n",
      "UK: Britain to review law after Fred West film plan. (topic: 11)\n",
      "UK: Britain to review law after Fred West film plan. (topic: 11)\n",
      "USA: Mother Teresa \"miracle\" bun takes to the Internet. NASHVILLE, Tenn. (topic: 0)\n",
      "SWEDEN: Sweden's honourable Prince Bertil dies, aged 84. (topic: 15)\n",
      "SWEDEN: Sweden's Prince Bertil dies. (topic: 15)\n",
      "RUSSIA: Kremlin slams report on return of Tsar's heir. (topic: 15)\n",
      "RUSSIA: Yeltsin spends Russian Christmas in bed with cold. (topic: 18)\n",
      "SOUTH KOREA: Under plastic awning, veteran newsman leads strikes. (topic: 16)\n",
      "RUSSIA: FEATURE - Russian historian seeks real Stalin behind myth. (topic: 14)\n",
      "GERMANY: Hollywood stars blast Germany over Scientologists. (topic: 3)\n",
      "Germany: Kohl dismisses Hollywood stars' rebuke of Germany. (topic: 3)\n",
      "UK: Buckingham Palace to campaign for Charles as king. (topic: 4)\n",
      "CANADA: FEATURE-Canada's Ben Heppner -- the Fourth Tenor?. (topic: 2)\n",
      "GERMANY: Germany rebuffs stars' accusations over Scientology. (topic: 3)\n",
      "RUSSIA: FEATURE - Russian artists say forging evidence is kids' stuff. (topic: 5)\n",
      "USA: Houston moves to rein in topless nightclubs. (topic: 7)\n",
      "SWEDEN: Sweden, European royalty mourn Prince Bertil. (topic: 15)\n",
      "GERMANY: German Jewish leader slams Scientology letter. (topic: 15)\n",
      "PHILIPPINES: FEATURE - Festivals bring buried Philippine towns back to life. (topic: 9)\n",
      "SWEDEN: European royalty join Sweden to mourn Prince Bertil. (topic: 15)\n",
      "AUSTRALIA: RTRS-TIMELINES-Today in History - Jan 15. (topic: 6)\n",
      "DENMARK: Danish queen mourns, marks 25 years as monarch. (topic: 10)\n",
      "SOUTH AFRICA: S.Africa's moral conscience, Tutu, battles cancer. (topic: 7)\n",
      "USA: Debate over King legacy dampens Atlanta festivities. (topic: 17)\n",
      "USA: Church marks legacy of Martin Luther King Jr.. (topic: 17)\n",
      "USA: U.S. Sen. Tsongas to be buried on Thursday. (topic: 8)\n",
      "USA: Friends line up to pay respects to Tsongas. LOWELL, Mass. (topic: 8)\n",
      "USA: John Phillips dies, ex-First Boston muni official. (topic: 10)\n",
      "FRANCE: France's Bardot cleared of racist slur. (topic: 17)\n",
      "LIBERIA: Liberia's Taylor remarries, offers toast for peace. (topic: 3)\n",
      "TAIWAN: Taiwan president soul-searches with Hollywood hunk. (topic: 14)\n",
      "COLOMBIA: Gays beat Church ban, parade in Colombian carnival. (topic: 4)\n",
      "FRANCE: U.S. ambassador to France has brain haemorrhage. (topic: 17)\n",
      "GERMANY: Berlin festival quells Scientology boycott fears. (topic: 3)\n",
      "USA: U.S. envoy to France seriously ill. (topic: 17)\n",
      "USA: U.S. envoy to France said to be near death. (topic: 12)\n",
      "FRANCE: U.S. Paris envoy Harriman in serious condition. (topic: 12)\n",
      "FRANCE: U.S. ambassador to France has brain haemorrhage. (topic: 17)\n",
      "FRANCE: U.S. ambassador to France ill in hospital. (topic: 12)\n",
      "USA: Pamela Harriman eulogized by Clinton, Democrats. (topic: 17)\n",
      "USA: Clinton, Democrats laud Pamela Harriman. (topic: 17)\n",
      "FRANCE: U.S. envoy Pamela Harriman dies in Paris. (topic: 17)\n",
      "FRANCE: Pamela Harriman's life a mix of wealth and power. (topic: 12)\n",
      "USA: Clinton lauds Harriman as gifted public servant. (topic: 10)\n",
      "USA: O.J. Simpson's incredible reversal of fortune. SANTA MONICA, Calif. (topic: 6)\n",
      "FRANCE: U.S. ambassador to Paris Harriman dead at 76. (topic: 17)\n",
      "FRANCE: Pamela Harriman, U.S. envoy to France, dead at 76. (topic: 17)\n",
      "FRANCE: U.S. ambassador to France condition still serious. (topic: 12)\n",
      "FRANCE: Chirac to honour late U.S. envoy Pamela Harriman. (topic: 12)\n",
      "USA: FEATURE - Marsalis conjures soul from slavery. (topic: 14)\n",
      "UK: Oasis singer Liam Gallagher set to marry next week. (topic: 13)\n",
      "USA: Harriman's body returned to Washington. (topic: 17)\n",
      "SWITZERLAND: FEATURE - Troubleshooting Swiss diplomat keeps low profile. (topic: 1)\n",
      "USA: Clinton recalls Harriman as elegant, indomitable. (topic: 14)\n",
      "USA: Funeral for baby allegedly killed by British nanny. BROOKLINE, Mass. (topic: 8)\n",
      "VATICAN: Historian of Vatican policy towards Nazis dies. (topic: 15)\n",
      "UK: UK watchdog halts ads over epileptic seizure risk. (topic: 9)\n",
      "PHILIPPINES: Air crash follows bishop's funeral in Philippines. (topic: 11)\n",
      "HONG KONG: China, Taiwan, HK stocks rocked by Deng worries. (topic: 8)\n",
      "UK: Albright looks back to war years on London visit. (topic: 1)\n",
      "USA: Harriman son, estranged wife inherit - report. (topic: 3)\n",
      "FRANCE: French judges refuse to ban \"Larry Flynt\" posters. (topic: 4)\n",
      "GERMANY: Bavarians outraged at exhibition on Hitler's army. (topic: 15)\n",
      "SWITZERLAND: Swiss bishops blast Larry Flynt film poster. (topic: 3)\n",
      "ROMANIA: Romania king, citizenship restored, to visit home. (topic: 9)\n",
      "CHINA: China Catholics pray for Deng as church silent. (topic: 10)\n",
      "ROMANIA: Romania flashy \"Gypsy King\" dies of heart attack. (topic: 9)\n",
      "USA: Rev. Benjamin Chavis joins Farrakhan group. (topic: 17)\n",
      "INDIA: Mother Teresa succession vote soon, order says. (topic: 0)\n",
      "INDIA: Mother Teresa succession vote imminent, order says. (topic: 0)\n",
      "GERMANY: \"English Patient\" favourite for Berlin Golden Bear. (topic: 3)\n",
      "FRANCE: Berlin-winner Forman drops Larry Flynt poster. (topic: 3)\n",
      "GERMANY: Bavarians protest against exhibit on Hitler's army. (topic: 15)\n",
      "GERMANY: \"English Patient\" tipped for Berlin festival prize. (topic: 3)\n",
      "ROMANIA: Romanians honour memory of Gypsy King. (topic: 9)\n",
      "ROMANIA: Romania to use King as envoy to boost NATO chances. (topic: 15)\n",
      "ITALY: Sicily archbishop on trial for corruption, EU fraud. (topic: 18)\n",
      "VATICAN: St Peter's in Rome to get facelift for 2000. (topic: 7)\n",
      "ROMANIA: Romania's exiled king backs reforms. (topic: 9)\n",
      "ROMANIA: Small crowds greet Romanian king, patriarch. (topic: 9)\n",
      "USA: Forbes seeks to shape U.S. agenda, could run again. (topic: 3)\n",
      "INDIA: Mother Teresa successor vote soon - church official. (topic: 0)\n",
      "POLAND: Polish bishops condemn Larry Flynt film poster. (topic: 3)\n",
      "USA: Ex-president Reagan, wife mark 45th anniversary. (topic: 7)\n",
      "BULGARIA: Bulgarian patriarch vows to stay on despite ruling. (topic: 10)\n",
      "INDIA: Nuns to elect Mother Teresa's successor any day. (topic: 0)\n",
      "UK: UK Cardinal offers cash help to women not to abort. (topic: 6)\n",
      "UK: Charles and Diana reunited for son's confirmation. (topic: 6)\n",
      "INDIA: Mother Teresa's order grappling with succession. (topic: 0)\n",
      "RUSSIA: FEATURE - Russians still squabbling over tsar's bones. (topic: 14)\n",
      "USA: Pamela Harriman's estate to be auctioned off. (topic: 17)\n",
      "USA: FEATURE-Grammy Winner Brecker owes it all to Philadelphia. (topic: 8)\n",
      "INDIA: Hindu Brahmin convert to succeed Mother Teresa. (topic: 19)\n",
      "INDIA: Shy nun emerges from Mother Teresa's shadow. (topic: 0)\n",
      "GERMANY: German home of 'lost Gospel' may hold other finds. (topic: 15)\n",
      "SPAIN: FEATURE - Spanish fiestas stir animal groups into fury. (topic: 9)\n",
      "INDIA: Mother Teresa's successor faces bumpy start. (topic: 0)\n",
      "SLOVAKIA: SLOVAK STUDENTS PRESS FOR MINISTER TO QUIT. (topic: 0)\n",
      "JAMAICA: Former Jamaica prime minister Manley laid to rest. (topic: 19)\n",
      "UK: FEATURE-Maverick Leigh strikes blow for independent film makers. (topic: 2)\n",
      "USA: Fans swarm New York procession for slain rapper. (topic: 2)\n",
      "USA: Hundreds swarm New York motorcade for slain rapper. (topic: 2)\n",
      "USA: FEATURE - John Tesh - music is entertainment tonight. (topic: 16)\n",
      "UK: Thatcher's archive to go to Churchill College. (topic: 8)\n",
      "EGYPT: Egypt moves ahead with church restoration project. (topic: 0)\n",
      "PHILIPPINES: Ramos says N.Korean defector in Philppines for short time. (topic: 7)\n",
      "UK: Archbishop of Canterbury speaks of retiring. (topic: 11)\n",
      "ZIMBABWE: Mrs Clinton sees Zimbabwe efforts to help people. (topic: 6)\n",
      "ITALY: Dutch-Flemish show goes to roots of modern art. (topic: 18)\n",
      "USA: Clinton adjusts to slower-paced life. (topic: 6)\n",
      "RUSSIA: Lenin niece opposes re-burial of Communist leader. (topic: 6)\n",
      "INDONESIA: Seventeen detained after riot on Indonesia's Java. (topic: 10)\n",
      "VENEZUELA: FEATURE-Andean hermit acrobat wins artist fame. (topic: 19)\n",
      "VATICAN: FEATURE - Pope marks 19th Easter season looking tired, frail. (topic: 5)\n",
      "PORTUGAL: FEATURE - Portugal's Cinderella city gets its reward. (topic: 3)\n",
      "FRANCE: Christian Dior denies rupture with actress Beart. (topic: 12)\n",
      "SPAIN: Spanish princess to wed handball player - reports. (topic: 16)\n",
      "UK: Defiant Princess Anne to return for Grand National. (topic: 15)\n",
      "USA: Writer Patricia Cornwell admits lesbian affair. [CORRECTED 21:20 GMT]. (topic: 1)\n",
      "USA: Joe Kennedy's ex-wife to appeal annulment - report. (topic: 3)\n",
      "USA: Ex-wife of US Sen. Kerry fights annulment - report. (topic: 3)\n",
      "RUSSIA: Top Russian official meets royal relative. (topic: 18)\n",
      "USA: Farrakhan blames Catholics Church for hate crimes. (topic: 17)\n",
      "AUSTRALIA: RTRS-Australia's Colston released from hospital. (topic: 8)\n",
      "UK: FEATURE - Britain hosts major Thomas Becket exhibition. (topic: 16)\n",
      "USA: Brooke Shields and Andre Agassi marry. MONTEREY, Calif. (topic: 13)\n",
      "UK: China's HK General perfect choice, says tutor. (topic: 10)\n",
      "USA: U.S. Christian Coalition leader to step down. (topic: 17)\n",
      "USA: Ralph Reed steps down from U.S. Christian Coalition. (topic: 17)\n",
      "EGYPT: U.S. pilot heads to Asia on Earhart tribute trip. (topic: 4)\n",
      "USA: Alabama judge wins Kennedy \"Courage\" award. (topic: 1)\n",
      "PHILIPPINES: Philippines buries Marcos predecessor Macapagal. (topic: 7)\n",
      "USA: 'Ellen' comes out, gays across U.S. celebrate. (topic: 1)\n",
      "USA: 'Ellen' comes out, gays across U.S. celebrate. (topic: 1)\n",
      "UK: Worldwide Advertising & Media Digest - May 2. (topic: 14)\n",
      "UK: Ex-wife of Yorkshire Ripper weds again in Britain. (topic: 11)\n",
      "NEW ZEALAND: Former NZ Social Credit leader Bruce Beetham dies. (topic: 9)\n",
      "ITALY: Italy unveils plan to protect art treasures. (topic: 18)\n",
      "UK: Eurosceptic Redwood bids to lead UK Conservatives. (topic: 18)\n",
      "GERMANY: Germany's Herzog urges Europeans to back unity. (topic: 18)\n",
      "USA: American civil rights leader to be buried in Harlem. (topic: 6)\n",
      "USA: Kempton honored by New York writers, mayor. (topic: 7)\n",
      "VATICAN: Glamorous ex-model swaps catwalk for convent. (topic: 7)\n",
      "RUSSIA: Russian parliament votes no changes to Red Square. (topic: 3)\n",
      "AUSTRIA: FEATURE - \"Sound of Music\" makes Austrian cash tills ring. (topic: 2)\n",
      "AUSTRALIA: TIMELINES-Today in History - May 19. (topic: 6)\n",
      "ITALY: Pope, on birthday, says wants to live to 100. (topic: 5)\n",
      "USA: Pamela Harriman's estate goes on sale. (topic: 17)\n",
      "USA: Stallone married in London, publicist confirms. (topic: 1)\n",
      "UK: Germans ran systematic wartime plunder campaign. (topic: 4)\n",
      "USA: Harriman auction continues to bring high prices. (topic: 7)\n",
      "MEXICO: Mexico bids awkward farewell to controversial cleric. (topic: 15)\n",
      "USA: Notebook contains early Lennon-McCartney tunes. (topic: 19)\n",
      "USA: Harriman auction continues to bring high prices. (topic: 7)\n",
      "ITALY: Healthy looking Mother Teresa initiates new nuns. (topic: 0)\n",
      "USA: Mother Teresa in New York to initiate new nuns. (topic: 0)\n",
      "USA: Leona Helmsley makes $1 million donation. (topic: 18)\n",
      "USA: Alabama judge accepts Kennedy \"Courage\" award. (topic: 1)\n",
      "RUSSIA: Would-be Russian tsar to return for family ceremony. (topic: 15)\n",
      "POLAND: Pope in Poland tries to allay health concerns. (topic: 12)\n",
      "UK: Britain plans glittering royal golden wedding. (topic: 4)\n",
      "FRANCE: Vaillant gets loyalty reward in French cabinet post. (topic: 14)\n",
      "POLAND: POPE TAKES HELICOPTER TRIP ON REST DAY. (topic: 12)\n",
      "POLAND: Pope takes helicopter trip over beloved mountains. (topic: 12)\n",
      "POLAND: Pope rests at halfway mark as Poles mull message. (topic: 5)\n",
      "POLAND: Pope has moving reunion with with old schoolmates. (topic: 5)\n",
      "UK: Oasis songwriter Noel Gallagher weds in Las Vegas. (topic: 11)\n",
      "POLAND: Pope gives thanks for surviving assassination bid. (topic: 12)\n",
      "POLAND: Pope emotionally recalls assassination attempt. (topic: 12)\n",
      "POLAND: Pope to spend few moments at parents' grave. (topic: 5)\n",
      "POLAND: Pope spends moments of silence at parents' grave. (topic: 5)\n",
      "POLAND: Poles flock to big mass on last day of Papal visit. (topic: 5)\n",
      "ITALY: Mussolini descendants gather for son's funeral. (topic: 17)\n",
      "ISRAEL: Sinead quits Jerusalem concert after death threats. (topic: 1)\n",
      "USA: U.S. church boycotts \"Gay friendly\" Disney. (topic: 3)\n",
      "RUSSIA: Russia's Patriarch urges caution on Lenin removal. (topic: 8)\n",
      "GERMANY: Fragments of rare Gutenberg bible found in Germany. (topic: 11)\n",
      "UK: UK ex-minister quits as Queen's adviser - reports. (topic: 9)\n",
      "GERMANY: Boris Becker threatens Scientology over Internet. (topic: 15)\n",
      "CHINA: China's top Catholic church official dies at 80. (topic: 10)\n",
      "UK: Westminster Abbey to charge entry fee - paper. (topic: 16)\n",
      "UK: Freemasons launch magazine to improve image. (topic: 17)\n",
      "UK: FEATURE-Orange and Green, the colours of N.Ireland conflict. (topic: 2)\n",
      "COLOMBIA: Colombia recovers church art worth $1.5 million. (topic: 18)\n",
      "UK: Rare show of sympathy for UK's royal mistress. (topic: 11)\n",
      "USA: Hollywood bids farewell to actor Jimmy Stewart. BEVERLY HILLS, Calif. (topic: 6)\n",
      "ITALY: Pope begins private mountain retreat in Italy Alps. (topic: 12)\n",
      "UK: FEATURE - UK royals try to relaunch after decade \"horribilis\". (topic: 11)\n",
      "USA: Black church leader denies affair. ST. PETERSBURG, Fla. (topic: 17)\n",
      "ALBANIA: FEATURE - Albania violence threatens treasured ancient city. (topic: 16)\n",
      "ITALY: Jovial Pope seems invigorated by mountain break. (topic: 18)\n",
      "UK: Churchill's World War One letters up for auction. (topic: 11)\n",
      "UK: Prince Charles holds 50th bash for lover Camilla. (topic: 4)\n",
      "GERMANY: Russian minister criticises Bonn on art booty. (topic: 18)\n",
      "UK: Churchill letters sell for three times estimate. (topic: 10)\n",
      "USA: Miami police probe new killing, Versace cremated. (topic: 2)\n",
      "USA: Versace ashes to be flown to Italy Thursday. (topic: 8)\n",
      "ISRAEL: FEATURE - Despite Vanunu, no nuclear debate in Israel. (topic: 13)\n",
      "USA: Miami Beach bids farewell to Versace. MIAMI BEACH, Fla. (topic: 6)\n",
      "ITALY: Lakeside villa was hideaway for glamorous Versace. (topic: 7)\n",
      "USA: Miami Beach bids farewell to Versace. MIAMI BEACH, Fla. (topic: 6)\n",
      "USA: Clinton will speak at Arkansas friend's funeral. (topic: 1)\n",
      "USA: Versace service set; new murder seen as unrelated. (topic: 7)\n",
      "UK: Camilla steps out of shadows as royal lover. (topic: 4)\n",
      "INDIA: Mother Teresa returns, pleased with foreign trip. (topic: 0)\n",
      "VIETNAM: Senior Vietnam Buddhist dies. (topic: 9)\n",
      "RUSSIA: Yeltsin revels in good health, backs new reforms. (topic: 0)\n",
      "PHILIPPINES: Aunt calls Versace killer \"nice, quiet boy\". (topic: 18)\n",
      "VIETNAM: Thousands mourn death of top Vietnam Buddhist. (topic: 9)\n",
      "UK: UK's Blair says Charles can wed Camilla - report. (topic: 6)\n",
      "UK: UK's Blair dismisses Charles and Camilla reports. (topic: 6)\n",
      "USA: Clinton delivers eulogy at Brennan's funeral. (topic: 17)\n",
      "USA: California memorial service held for Andrew Cunanan. (topic: 18)\n",
      "CROATIA: Croatia's Tudjman sworn in for second 5-year term. (topic: 5)\n",
      "USA: Former FBI Director Clarence Kelley dies at 85. KANSAS CITY, Mo. (topic: 2)\n",
      "UK: Most Britons oppose idea of \"Queen Camilla\"-poll. (topic: 6)\n",
      "USA: Clarence Kelley, former FBI director, dies at 85. (topic: 2)\n",
      "UK: Britain's \"top people\" back Charles marrying - poll. (topic: 6)\n",
      "UK: Scotland kicks off world's biggest arts festival. (topic: 6)\n",
      "UK: Fringe chases audiences in Edinburgh festival month. (topic: 16)\n",
      "USA: Even in death, Elvis lives. (topic: 14)\n",
      "USA: EVEN IN DEATH, ELVIS LIVES. (topic: 14)\n",
      "USA: EVEN IN DEATH, ELVIS LIVES. (topic: 14)\n",
      "CANADA: FEATURE - French-speaking Quebec celebrates Irish heritage. (topic: 4)\n",
      "BULGARIA: FEATURE - Bulgarian opera stars are enduring export. (topic: 7)\n",
      "USA: Fans end Elvis Presley fete with concert. (topic: 19)\n",
      "UK: Volcano buries studio where rock legends recorded. (topic: 16)\n",
      "USA: Joseph Vostal, ex-Kidder muni banker, dead at 88. (topic: 9)\n"
     ]
    }
   ],
   "source": [
    "texts = open('./data/reuters.titles').read().splitlines() # path of data file\n",
    "\n",
    "# vectorize texts\n",
    "vec = CountVectorizer(stop_words='english')\n",
    "X = vec.fit_transform(texts).toarray()\n",
    "\n",
    "# get vocabulary\n",
    "vocab = np.array(vec.get_feature_names())\n",
    "\n",
    "# get biterms\n",
    "biterms = vec_to_biterms(X)\n",
    "\n",
    "# create btm\n",
    "btm = oBTM(num_topics=20, V=vocab)\n",
    "\n",
    "print(\"\\n\\n Train Online BTM ..\")\n",
    "for i in range(0, len(biterms), 100): # prozess chunk of 200 texts\n",
    "    biterms_chunk = biterms[i:i + 100]\n",
    "    btm.fit(biterms_chunk, iterations=50)\n",
    "topics = btm.transform(biterms)\n",
    "\n",
    "print(\"\\n\\n Visualize Topics ..\")\n",
    "vis = pyLDAvis.prepare(btm.phi_wz.T, topics, np.count_nonzero(X, axis=1), vocab, np.sum(X, axis=0))\n",
    "pyLDAvis.save_html(vis, './vis/online_btm.html')  # path to output\n",
    "\n",
    "print(\"\\n\\n Topic coherence ..\")\n",
    "topic_summuary(btm.phi_wz.T, X, vocab, 10)\n",
    "\n",
    "print(\"\\n\\n Texts & Topics ..\")\n",
    "for i in range(len(texts)):\n",
    "    print(\"{} (topic: {})\".format(texts[i], topics[i].argmax()))"
   ]
  },
  {
   "cell_type": "code",
   "execution_count": 43,
   "id": "bacterial-discharge",
   "metadata": {},
   "outputs": [
    {
     "name": "stderr",
     "output_type": "stream",
     "text": [
      "/Users/gary/opt/anaconda3/envs/analyzer/lib/python3.8/site-packages/ipykernel/ipkernel.py:287: DeprecationWarning: `should_run_async` will not call `transform_cell` automatically in the future. Please pass the result to `transformed_cell` argument and any exception that happen during thetransform in `preprocessing_exc_tuple` in IPython 7.17 and above.\n",
      "  and should_run_async(code)\n"
     ]
    },
    {
     "data": {
      "text/plain": [
       "array([[0, 0, 0, ..., 0, 0, 0],\n",
       "       [0, 0, 0, ..., 0, 0, 0],\n",
       "       [0, 0, 0, ..., 0, 0, 0],\n",
       "       ...,\n",
       "       [0, 0, 0, ..., 0, 0, 0],\n",
       "       [0, 0, 0, ..., 0, 0, 0],\n",
       "       [0, 0, 0, ..., 0, 0, 0]])"
      ]
     },
     "execution_count": 43,
     "metadata": {},
     "output_type": "execute_result"
    }
   ],
   "source": [
    "X"
   ]
  },
  {
   "cell_type": "code",
   "execution_count": 44,
   "id": "aboriginal-public",
   "metadata": {},
   "outputs": [
    {
     "name": "stderr",
     "output_type": "stream",
     "text": [
      "/Users/gary/opt/anaconda3/envs/analyzer/lib/python3.8/site-packages/ipykernel/ipkernel.py:287: DeprecationWarning: `should_run_async` will not call `transform_cell` automatically in the future. Please pass the result to `transformed_cell` argument and any exception that happen during thetransform in `preprocessing_exc_tuple` in IPython 7.17 and above.\n",
      "  and should_run_async(code)\n"
     ]
    },
    {
     "data": {
      "text/plain": [
       "array(['000', '100', '14', ..., 'zealand', 'zimbabwe', 'zombies'],\n",
       "      dtype='<U15')"
      ]
     },
     "execution_count": 44,
     "metadata": {},
     "output_type": "execute_result"
    }
   ],
   "source": [
    "vocab"
   ]
  },
  {
   "cell_type": "code",
   "execution_count": 35,
   "id": "alien-replication",
   "metadata": {},
   "outputs": [
    {
     "name": "stderr",
     "output_type": "stream",
     "text": [
      "/Users/gary/opt/anaconda3/envs/analyzer/lib/python3.8/site-packages/ipykernel/ipkernel.py:287: DeprecationWarning: `should_run_async` will not call `transform_cell` automatically in the future. Please pass the result to `transformed_cell` argument and any exception that happen during thetransform in `preprocessing_exc_tuple` in IPython 7.17 and above.\n",
      "  and should_run_async(code)\n"
     ]
    }
   ],
   "source": [
    "import os\n",
    "import sys\n",
    "DIR_PATH = os.getcwd()\n",
    "parent_dir = os.path.dirname(DIR_PATH)\n",
    "sys.path.append(parent_dir)\n",
    "\n",
    "from db_func import query_from_db, insert_to_db, bulk_insert_to_db"
   ]
  },
  {
   "cell_type": "code",
   "execution_count": 174,
   "id": "compliant-thesis",
   "metadata": {},
   "outputs": [
    {
     "name": "stderr",
     "output_type": "stream",
     "text": [
      "/Users/gary/opt/anaconda3/envs/analyzer/lib/python3.8/site-packages/ipykernel/ipkernel.py:287: DeprecationWarning: `should_run_async` will not call `transform_cell` automatically in the future. Please pass the result to `transformed_cell` argument and any exception that happen during thetransform in `preprocessing_exc_tuple` in IPython 7.17 and above.\n",
      "  and should_run_async(code)\n"
     ]
    }
   ],
   "source": [
    "df = query_from_db(\"\"\"\n",
    "SELECT ftv.news_id, ftv.news_title, JSON_ARRAYAGG(ntw.word) as words FROM news_db.all_financial_title_view ftv\n",
    "LEFT JOIN news_db.news_title_words ntw ON ftv.news_id = ntw.news_id\n",
    "WHERE ftv.published_date = '2021-04-01'\n",
    "GROUP BY ftv.news_id, ftv.news_title\n",
    "\"\"\")"
   ]
  },
  {
   "cell_type": "code",
   "execution_count": 175,
   "id": "administrative-diagnosis",
   "metadata": {},
   "outputs": [
    {
     "name": "stderr",
     "output_type": "stream",
     "text": [
      "/Users/gary/opt/anaconda3/envs/analyzer/lib/python3.8/site-packages/ipykernel/ipkernel.py:287: DeprecationWarning: `should_run_async` will not call `transform_cell` automatically in the future. Please pass the result to `transformed_cell` argument and any exception that happen during thetransform in `preprocessing_exc_tuple` in IPython 7.17 and above.\n",
      "  and should_run_async(code)\n"
     ]
    }
   ],
   "source": [
    "df_orgs = query_from_db(\"\"\"\n",
    "SELECT ftv.news_id, JSON_ARRAYAGG(ntn.ent_text) as org_names FROM news_db.all_financial_title_view ftv\n",
    "LEFT JOIN news_db.news_title_ners ntn ON ftv.news_id = ntn.news_id and ntn.ent_type = 'ORG'\n",
    "WHERE ftv.published_date = '2021-04-01'\n",
    "GROUP BY ftv.news_id, ftv.news_title\n",
    "\"\"\")"
   ]
  },
  {
   "cell_type": "code",
   "execution_count": 176,
   "id": "accredited-logic",
   "metadata": {},
   "outputs": [
    {
     "name": "stderr",
     "output_type": "stream",
     "text": [
      "/Users/gary/opt/anaconda3/envs/analyzer/lib/python3.8/site-packages/ipykernel/ipkernel.py:287: DeprecationWarning: `should_run_async` will not call `transform_cell` automatically in the future. Please pass the result to `transformed_cell` argument and any exception that happen during thetransform in `preprocessing_exc_tuple` in IPython 7.17 and above.\n",
      "  and should_run_async(code)\n"
     ]
    },
    {
     "data": {
      "text/html": [
       "<div>\n",
       "<style scoped>\n",
       "    .dataframe tbody tr th:only-of-type {\n",
       "        vertical-align: middle;\n",
       "    }\n",
       "\n",
       "    .dataframe tbody tr th {\n",
       "        vertical-align: top;\n",
       "    }\n",
       "\n",
       "    .dataframe thead th {\n",
       "        text-align: right;\n",
       "    }\n",
       "</style>\n",
       "<table border=\"1\" class=\"dataframe\">\n",
       "  <thead>\n",
       "    <tr style=\"text-align: right;\">\n",
       "      <th></th>\n",
       "      <th>news_id</th>\n",
       "      <th>org_names</th>\n",
       "    </tr>\n",
       "  </thead>\n",
       "  <tbody>\n",
       "    <tr>\n",
       "      <th>0</th>\n",
       "      <td>454848</td>\n",
       "      <td>[null]</td>\n",
       "    </tr>\n",
       "    <tr>\n",
       "      <th>1</th>\n",
       "      <td>454849</td>\n",
       "      <td>[null]</td>\n",
       "    </tr>\n",
       "    <tr>\n",
       "      <th>2</th>\n",
       "      <td>454851</td>\n",
       "      <td>[null]</td>\n",
       "    </tr>\n",
       "    <tr>\n",
       "      <th>3</th>\n",
       "      <td>454853</td>\n",
       "      <td>[\"BBC\"]</td>\n",
       "    </tr>\n",
       "    <tr>\n",
       "      <th>4</th>\n",
       "      <td>454855</td>\n",
       "      <td>[\"聯電集團\"]</td>\n",
       "    </tr>\n",
       "    <tr>\n",
       "      <th>...</th>\n",
       "      <td>...</td>\n",
       "      <td>...</td>\n",
       "    </tr>\n",
       "    <tr>\n",
       "      <th>1533</th>\n",
       "      <td>461074</td>\n",
       "      <td>[null]</td>\n",
       "    </tr>\n",
       "    <tr>\n",
       "      <th>1534</th>\n",
       "      <td>461075</td>\n",
       "      <td>[null]</td>\n",
       "    </tr>\n",
       "    <tr>\n",
       "      <th>1535</th>\n",
       "      <td>461153</td>\n",
       "      <td>[null]</td>\n",
       "    </tr>\n",
       "    <tr>\n",
       "      <th>1536</th>\n",
       "      <td>461275</td>\n",
       "      <td>[\"台積電\"]</td>\n",
       "    </tr>\n",
       "    <tr>\n",
       "      <th>1537</th>\n",
       "      <td>487275</td>\n",
       "      <td>[\"教育部\", \"中國科大影視系\"]</td>\n",
       "    </tr>\n",
       "  </tbody>\n",
       "</table>\n",
       "<p>1538 rows × 2 columns</p>\n",
       "</div>"
      ],
      "text/plain": [
       "      news_id           org_names\n",
       "0      454848              [null]\n",
       "1      454849              [null]\n",
       "2      454851              [null]\n",
       "3      454853             [\"BBC\"]\n",
       "4      454855            [\"聯電集團\"]\n",
       "...       ...                 ...\n",
       "1533   461074              [null]\n",
       "1534   461075              [null]\n",
       "1535   461153              [null]\n",
       "1536   461275             [\"台積電\"]\n",
       "1537   487275  [\"教育部\", \"中國科大影視系\"]\n",
       "\n",
       "[1538 rows x 2 columns]"
      ]
     },
     "execution_count": 176,
     "metadata": {},
     "output_type": "execute_result"
    }
   ],
   "source": [
    "df_orgs"
   ]
  },
  {
   "cell_type": "code",
   "execution_count": 177,
   "id": "reliable-rover",
   "metadata": {},
   "outputs": [
    {
     "name": "stderr",
     "output_type": "stream",
     "text": [
      "/Users/gary/opt/anaconda3/envs/analyzer/lib/python3.8/site-packages/ipykernel/ipkernel.py:287: DeprecationWarning: `should_run_async` will not call `transform_cell` automatically in the future. Please pass the result to `transformed_cell` argument and any exception that happen during thetransform in `preprocessing_exc_tuple` in IPython 7.17 and above.\n",
      "  and should_run_async(code)\n"
     ]
    }
   ],
   "source": [
    "df_persons = query_from_db(\"\"\"\n",
    "SELECT ftv.news_id, JSON_ARRAYAGG(ntn.ent_text) as person_names FROM news_db.all_financial_title_view ftv\n",
    "LEFT JOIN news_db.news_title_ners ntn ON ftv.news_id = ntn.news_id and ntn.ent_type = 'PERSON'\n",
    "WHERE ftv.published_date = '2021-04-01'\n",
    "GROUP BY ftv.news_id, ftv.news_title\n",
    "\"\"\")"
   ]
  },
  {
   "cell_type": "code",
   "execution_count": 178,
   "id": "northern-benjamin",
   "metadata": {},
   "outputs": [
    {
     "name": "stderr",
     "output_type": "stream",
     "text": [
      "/Users/gary/opt/anaconda3/envs/analyzer/lib/python3.8/site-packages/ipykernel/ipkernel.py:287: DeprecationWarning: `should_run_async` will not call `transform_cell` automatically in the future. Please pass the result to `transformed_cell` argument and any exception that happen during thetransform in `preprocessing_exc_tuple` in IPython 7.17 and above.\n",
      "  and should_run_async(code)\n"
     ]
    },
    {
     "data": {
      "text/html": [
       "<div>\n",
       "<style scoped>\n",
       "    .dataframe tbody tr th:only-of-type {\n",
       "        vertical-align: middle;\n",
       "    }\n",
       "\n",
       "    .dataframe tbody tr th {\n",
       "        vertical-align: top;\n",
       "    }\n",
       "\n",
       "    .dataframe thead th {\n",
       "        text-align: right;\n",
       "    }\n",
       "</style>\n",
       "<table border=\"1\" class=\"dataframe\">\n",
       "  <thead>\n",
       "    <tr style=\"text-align: right;\">\n",
       "      <th></th>\n",
       "      <th>news_id</th>\n",
       "      <th>person_names</th>\n",
       "    </tr>\n",
       "  </thead>\n",
       "  <tbody>\n",
       "    <tr>\n",
       "      <th>0</th>\n",
       "      <td>454848</td>\n",
       "      <td>[\"布林肯\"]</td>\n",
       "    </tr>\n",
       "    <tr>\n",
       "      <th>1</th>\n",
       "      <td>454849</td>\n",
       "      <td>[null]</td>\n",
       "    </tr>\n",
       "    <tr>\n",
       "      <th>2</th>\n",
       "      <td>454851</td>\n",
       "      <td>[null]</td>\n",
       "    </tr>\n",
       "    <tr>\n",
       "      <th>3</th>\n",
       "      <td>454853</td>\n",
       "      <td>[null]</td>\n",
       "    </tr>\n",
       "    <tr>\n",
       "      <th>4</th>\n",
       "      <td>454855</td>\n",
       "      <td>[\"謝金河\"]</td>\n",
       "    </tr>\n",
       "    <tr>\n",
       "      <th>...</th>\n",
       "      <td>...</td>\n",
       "      <td>...</td>\n",
       "    </tr>\n",
       "    <tr>\n",
       "      <th>1533</th>\n",
       "      <td>461074</td>\n",
       "      <td>[null]</td>\n",
       "    </tr>\n",
       "    <tr>\n",
       "      <th>1534</th>\n",
       "      <td>461075</td>\n",
       "      <td>[null]</td>\n",
       "    </tr>\n",
       "    <tr>\n",
       "      <th>1535</th>\n",
       "      <td>461153</td>\n",
       "      <td>[null]</td>\n",
       "    </tr>\n",
       "    <tr>\n",
       "      <th>1536</th>\n",
       "      <td>461275</td>\n",
       "      <td>[\"黃仁昭\"]</td>\n",
       "    </tr>\n",
       "    <tr>\n",
       "      <th>1537</th>\n",
       "      <td>487275</td>\n",
       "      <td>[null]</td>\n",
       "    </tr>\n",
       "  </tbody>\n",
       "</table>\n",
       "<p>1538 rows × 2 columns</p>\n",
       "</div>"
      ],
      "text/plain": [
       "      news_id person_names\n",
       "0      454848      [\"布林肯\"]\n",
       "1      454849       [null]\n",
       "2      454851       [null]\n",
       "3      454853       [null]\n",
       "4      454855      [\"謝金河\"]\n",
       "...       ...          ...\n",
       "1533   461074       [null]\n",
       "1534   461075       [null]\n",
       "1535   461153       [null]\n",
       "1536   461275      [\"黃仁昭\"]\n",
       "1537   487275       [null]\n",
       "\n",
       "[1538 rows x 2 columns]"
      ]
     },
     "execution_count": 178,
     "metadata": {},
     "output_type": "execute_result"
    }
   ],
   "source": [
    "df_persons"
   ]
  },
  {
   "cell_type": "code",
   "execution_count": 182,
   "id": "weighted-furniture",
   "metadata": {},
   "outputs": [
    {
     "name": "stderr",
     "output_type": "stream",
     "text": [
      "/Users/gary/opt/anaconda3/envs/analyzer/lib/python3.8/site-packages/ipykernel/ipkernel.py:287: DeprecationWarning: `should_run_async` will not call `transform_cell` automatically in the future. Please pass the result to `transformed_cell` argument and any exception that happen during thetransform in `preprocessing_exc_tuple` in IPython 7.17 and above.\n",
      "  and should_run_async(code)\n"
     ]
    }
   ],
   "source": [
    "df_gpes = query_from_db(\"\"\"\n",
    "SELECT ftv.news_id, JSON_ARRAYAGG(ntn.ent_text) as gpe_names FROM news_db.all_financial_title_view ftv\n",
    "LEFT JOIN news_db.news_title_ners ntn ON ftv.news_id = ntn.news_id and ntn.ent_type = 'GPE'\n",
    "WHERE ftv.published_date = '2021-04-01'\n",
    "GROUP BY ftv.news_id, ftv.news_title\n",
    "\"\"\")"
   ]
  },
  {
   "cell_type": "code",
   "execution_count": 183,
   "id": "alike-testing",
   "metadata": {},
   "outputs": [
    {
     "name": "stderr",
     "output_type": "stream",
     "text": [
      "/Users/gary/opt/anaconda3/envs/analyzer/lib/python3.8/site-packages/ipykernel/ipkernel.py:287: DeprecationWarning: `should_run_async` will not call `transform_cell` automatically in the future. Please pass the result to `transformed_cell` argument and any exception that happen during thetransform in `preprocessing_exc_tuple` in IPython 7.17 and above.\n",
      "  and should_run_async(code)\n"
     ]
    },
    {
     "data": {
      "text/html": [
       "<div>\n",
       "<style scoped>\n",
       "    .dataframe tbody tr th:only-of-type {\n",
       "        vertical-align: middle;\n",
       "    }\n",
       "\n",
       "    .dataframe tbody tr th {\n",
       "        vertical-align: top;\n",
       "    }\n",
       "\n",
       "    .dataframe thead th {\n",
       "        text-align: right;\n",
       "    }\n",
       "</style>\n",
       "<table border=\"1\" class=\"dataframe\">\n",
       "  <thead>\n",
       "    <tr style=\"text-align: right;\">\n",
       "      <th></th>\n",
       "      <th>news_id</th>\n",
       "      <th>gpe_names</th>\n",
       "    </tr>\n",
       "  </thead>\n",
       "  <tbody>\n",
       "    <tr>\n",
       "      <th>0</th>\n",
       "      <td>454848</td>\n",
       "      <td>[\"香港\", \"香港\"]</td>\n",
       "    </tr>\n",
       "    <tr>\n",
       "      <th>1</th>\n",
       "      <td>454849</td>\n",
       "      <td>[\"澳洲\"]</td>\n",
       "    </tr>\n",
       "    <tr>\n",
       "      <th>2</th>\n",
       "      <td>454851</td>\n",
       "      <td>[null]</td>\n",
       "    </tr>\n",
       "    <tr>\n",
       "      <th>3</th>\n",
       "      <td>454853</td>\n",
       "      <td>[\"北京\", \"台灣\"]</td>\n",
       "    </tr>\n",
       "    <tr>\n",
       "      <th>4</th>\n",
       "      <td>454855</td>\n",
       "      <td>[null]</td>\n",
       "    </tr>\n",
       "    <tr>\n",
       "      <th>...</th>\n",
       "      <td>...</td>\n",
       "      <td>...</td>\n",
       "    </tr>\n",
       "    <tr>\n",
       "      <th>1533</th>\n",
       "      <td>461074</td>\n",
       "      <td>[null]</td>\n",
       "    </tr>\n",
       "    <tr>\n",
       "      <th>1534</th>\n",
       "      <td>461075</td>\n",
       "      <td>[null]</td>\n",
       "    </tr>\n",
       "    <tr>\n",
       "      <th>1535</th>\n",
       "      <td>461153</td>\n",
       "      <td>[null]</td>\n",
       "    </tr>\n",
       "    <tr>\n",
       "      <th>1536</th>\n",
       "      <td>461275</td>\n",
       "      <td>[null]</td>\n",
       "    </tr>\n",
       "    <tr>\n",
       "      <th>1537</th>\n",
       "      <td>487275</td>\n",
       "      <td>[null]</td>\n",
       "    </tr>\n",
       "  </tbody>\n",
       "</table>\n",
       "<p>1538 rows × 2 columns</p>\n",
       "</div>"
      ],
      "text/plain": [
       "      news_id     gpe_names\n",
       "0      454848  [\"香港\", \"香港\"]\n",
       "1      454849        [\"澳洲\"]\n",
       "2      454851        [null]\n",
       "3      454853  [\"北京\", \"台灣\"]\n",
       "4      454855        [null]\n",
       "...       ...           ...\n",
       "1533   461074        [null]\n",
       "1534   461075        [null]\n",
       "1535   461153        [null]\n",
       "1536   461275        [null]\n",
       "1537   487275        [null]\n",
       "\n",
       "[1538 rows x 2 columns]"
      ]
     },
     "execution_count": 183,
     "metadata": {},
     "output_type": "execute_result"
    }
   ],
   "source": [
    "df_geps"
   ]
  },
  {
   "cell_type": "code",
   "execution_count": 204,
   "id": "suitable-inspector",
   "metadata": {},
   "outputs": [
    {
     "name": "stderr",
     "output_type": "stream",
     "text": [
      "/Users/gary/opt/anaconda3/envs/analyzer/lib/python3.8/site-packages/ipykernel/ipkernel.py:287: DeprecationWarning: `should_run_async` will not call `transform_cell` automatically in the future. Please pass the result to `transformed_cell` argument and any exception that happen during thetransform in `preprocessing_exc_tuple` in IPython 7.17 and above.\n",
      "  and should_run_async(code)\n"
     ]
    }
   ],
   "source": [
    "df_ners = query_from_db(\"\"\"\n",
    "SELECT ftv.news_id, JSON_ARRAYAGG(ntn.ent_text) as ner_names FROM news_db.all_financial_title_view ftv\n",
    "JOIN news_db.news_title_ners ntn ON ftv.news_id = ntn.news_id and ntn.ent_type in ('PERSON', 'ORG', 'GPE')\n",
    "WHERE ftv.published_date = '2021-04-01'\n",
    "GROUP BY ftv.news_id, ftv.news_title\n",
    "\"\"\")"
   ]
  },
  {
   "cell_type": "code",
   "execution_count": 205,
   "id": "junior-intention",
   "metadata": {},
   "outputs": [
    {
     "name": "stderr",
     "output_type": "stream",
     "text": [
      "/Users/gary/opt/anaconda3/envs/analyzer/lib/python3.8/site-packages/ipykernel/ipkernel.py:287: DeprecationWarning: `should_run_async` will not call `transform_cell` automatically in the future. Please pass the result to `transformed_cell` argument and any exception that happen during thetransform in `preprocessing_exc_tuple` in IPython 7.17 and above.\n",
      "  and should_run_async(code)\n"
     ]
    },
    {
     "data": {
      "text/html": [
       "<div>\n",
       "<style scoped>\n",
       "    .dataframe tbody tr th:only-of-type {\n",
       "        vertical-align: middle;\n",
       "    }\n",
       "\n",
       "    .dataframe tbody tr th {\n",
       "        vertical-align: top;\n",
       "    }\n",
       "\n",
       "    .dataframe thead th {\n",
       "        text-align: right;\n",
       "    }\n",
       "</style>\n",
       "<table border=\"1\" class=\"dataframe\">\n",
       "  <thead>\n",
       "    <tr style=\"text-align: right;\">\n",
       "      <th></th>\n",
       "      <th>news_id</th>\n",
       "      <th>ner_names</th>\n",
       "    </tr>\n",
       "  </thead>\n",
       "  <tbody>\n",
       "    <tr>\n",
       "      <th>0</th>\n",
       "      <td>454848</td>\n",
       "      <td>[\"布林肯\", \"香港\", \"香港\"]</td>\n",
       "    </tr>\n",
       "    <tr>\n",
       "      <th>1</th>\n",
       "      <td>454849</td>\n",
       "      <td>[\"澳洲\"]</td>\n",
       "    </tr>\n",
       "    <tr>\n",
       "      <th>2</th>\n",
       "      <td>454853</td>\n",
       "      <td>[\"BBC\", \"北京\", \"台灣\"]</td>\n",
       "    </tr>\n",
       "    <tr>\n",
       "      <th>3</th>\n",
       "      <td>454855</td>\n",
       "      <td>[\"聯電集團\", \"謝金河\"]</td>\n",
       "    </tr>\n",
       "    <tr>\n",
       "      <th>4</th>\n",
       "      <td>454857</td>\n",
       "      <td>[\"宜蘭\", \"台積電\"]</td>\n",
       "    </tr>\n",
       "    <tr>\n",
       "      <th>...</th>\n",
       "      <td>...</td>\n",
       "      <td>...</td>\n",
       "    </tr>\n",
       "    <tr>\n",
       "      <th>1026</th>\n",
       "      <td>461040</td>\n",
       "      <td>[\"台股\"]</td>\n",
       "    </tr>\n",
       "    <tr>\n",
       "      <th>1027</th>\n",
       "      <td>461056</td>\n",
       "      <td>[\"中芯\"]</td>\n",
       "    </tr>\n",
       "    <tr>\n",
       "      <th>1028</th>\n",
       "      <td>461057</td>\n",
       "      <td>[\"德國\"]</td>\n",
       "    </tr>\n",
       "    <tr>\n",
       "      <th>1029</th>\n",
       "      <td>461275</td>\n",
       "      <td>[\"台積電\", \"黃仁昭\"]</td>\n",
       "    </tr>\n",
       "    <tr>\n",
       "      <th>1030</th>\n",
       "      <td>487275</td>\n",
       "      <td>[\"教育部\", \"中國科大影視系\"]</td>\n",
       "    </tr>\n",
       "  </tbody>\n",
       "</table>\n",
       "<p>1031 rows × 2 columns</p>\n",
       "</div>"
      ],
      "text/plain": [
       "      news_id            ner_names\n",
       "0      454848  [\"布林肯\", \"香港\", \"香港\"]\n",
       "1      454849               [\"澳洲\"]\n",
       "2      454853  [\"BBC\", \"北京\", \"台灣\"]\n",
       "3      454855      [\"聯電集團\", \"謝金河\"]\n",
       "4      454857        [\"宜蘭\", \"台積電\"]\n",
       "...       ...                  ...\n",
       "1026   461040               [\"台股\"]\n",
       "1027   461056               [\"中芯\"]\n",
       "1028   461057               [\"德國\"]\n",
       "1029   461275       [\"台積電\", \"黃仁昭\"]\n",
       "1030   487275   [\"教育部\", \"中國科大影視系\"]\n",
       "\n",
       "[1031 rows x 2 columns]"
      ]
     },
     "execution_count": 205,
     "metadata": {},
     "output_type": "execute_result"
    }
   ],
   "source": [
    "df_ners"
   ]
  },
  {
   "cell_type": "code",
   "execution_count": 206,
   "id": "clinical-notion",
   "metadata": {},
   "outputs": [
    {
     "name": "stderr",
     "output_type": "stream",
     "text": [
      "/Users/gary/opt/anaconda3/envs/analyzer/lib/python3.8/site-packages/ipykernel/ipkernel.py:287: DeprecationWarning: `should_run_async` will not call `transform_cell` automatically in the future. Please pass the result to `transformed_cell` argument and any exception that happen during thetransform in `preprocessing_exc_tuple` in IPython 7.17 and above.\n",
      "  and should_run_async(code)\n"
     ]
    }
   ],
   "source": [
    "import ast\n",
    "df_ners['ner_names'] = df_ners['ner_names'].apply(ast.literal_eval)"
   ]
  },
  {
   "cell_type": "code",
   "execution_count": 207,
   "id": "southern-valuable",
   "metadata": {},
   "outputs": [
    {
     "name": "stderr",
     "output_type": "stream",
     "text": [
      "/Users/gary/opt/anaconda3/envs/analyzer/lib/python3.8/site-packages/ipykernel/ipkernel.py:287: DeprecationWarning: `should_run_async` will not call `transform_cell` automatically in the future. Please pass the result to `transformed_cell` argument and any exception that happen during thetransform in `preprocessing_exc_tuple` in IPython 7.17 and above.\n",
      "  and should_run_async(code)\n"
     ]
    }
   ],
   "source": [
    "import pandas as pd\n",
    "from functools import reduce\n",
    "df_final = pd.merge(df, df_ners, on = 'news_id', how = 'left')"
   ]
  },
  {
   "cell_type": "code",
   "execution_count": 208,
   "id": "right-description",
   "metadata": {},
   "outputs": [
    {
     "name": "stderr",
     "output_type": "stream",
     "text": [
      "/Users/gary/opt/anaconda3/envs/analyzer/lib/python3.8/site-packages/ipykernel/ipkernel.py:287: DeprecationWarning: `should_run_async` will not call `transform_cell` automatically in the future. Please pass the result to `transformed_cell` argument and any exception that happen during thetransform in `preprocessing_exc_tuple` in IPython 7.17 and above.\n",
      "  and should_run_async(code)\n"
     ]
    },
    {
     "data": {
      "text/html": [
       "<div>\n",
       "<style scoped>\n",
       "    .dataframe tbody tr th:only-of-type {\n",
       "        vertical-align: middle;\n",
       "    }\n",
       "\n",
       "    .dataframe tbody tr th {\n",
       "        vertical-align: top;\n",
       "    }\n",
       "\n",
       "    .dataframe thead th {\n",
       "        text-align: right;\n",
       "    }\n",
       "</style>\n",
       "<table border=\"1\" class=\"dataframe\">\n",
       "  <thead>\n",
       "    <tr style=\"text-align: right;\">\n",
       "      <th></th>\n",
       "      <th>news_id</th>\n",
       "      <th>news_title</th>\n",
       "      <th>words</th>\n",
       "      <th>ner_names</th>\n",
       "    </tr>\n",
       "  </thead>\n",
       "  <tbody>\n",
       "    <tr>\n",
       "      <th>0</th>\n",
       "      <td>454848</td>\n",
       "      <td>布林肯再發香港政策法報告 認定香港不再高度自治</td>\n",
       "      <td>[\"布林肯\", \"再\", \"發\", \"香港\", \"政策法\", \"報告\", \" \", \"認定\"...</td>\n",
       "      <td>[布林肯, 香港, 香港]</td>\n",
       "    </tr>\n",
       "    <tr>\n",
       "      <th>1</th>\n",
       "      <td>454849</td>\n",
       "      <td>若普遍配戴驅鯊裝置 估50年間澳洲可少1063人被咬</td>\n",
       "      <td>[\"若\", \"普遍\", \"配戴\", \"驅\", \"鯊\", \"裝置\", \" \", \"估\", \"5...</td>\n",
       "      <td>[澳洲]</td>\n",
       "    </tr>\n",
       "    <tr>\n",
       "      <th>2</th>\n",
       "      <td>454851</td>\n",
       "      <td>拜登2.25兆美元基礎建設及租稅計畫一覽</td>\n",
       "      <td>[\"拜登\", \"2.25兆\", \"美元\", \"基礎\", \"建設\", \"及\", \"租稅\", \"...</td>\n",
       "      <td>NaN</td>\n",
       "    </tr>\n",
       "    <tr>\n",
       "      <th>3</th>\n",
       "      <td>454853</td>\n",
       "      <td>BBC駐北京記者前往台灣 稱受到威脅趨烈</td>\n",
       "      <td>[\"BBC\", \"駐\", \"北京\", \"記者\", \"前往\", \"台灣\", \" \", \"稱\",...</td>\n",
       "      <td>[BBC, 北京, 台灣]</td>\n",
       "    </tr>\n",
       "    <tr>\n",
       "      <th>4</th>\n",
       "      <td>454855</td>\n",
       "      <td>聯電集團還有戲？謝金河：股利政策看出企業力度</td>\n",
       "      <td>[\"聯電\", \"集團\", \"還\", \"有\", \"戲\", \"？\", \"謝金河\", \"：\", \"...</td>\n",
       "      <td>[聯電集團, 謝金河]</td>\n",
       "    </tr>\n",
       "    <tr>\n",
       "      <th>...</th>\n",
       "      <td>...</td>\n",
       "      <td>...</td>\n",
       "      <td>...</td>\n",
       "      <td>...</td>\n",
       "    </tr>\n",
       "    <tr>\n",
       "      <th>1533</th>\n",
       "      <td>461074</td>\n",
       "      <td>自我管理／做你所愛 愛你所做</td>\n",
       "      <td>[\"自我\", \"管理\", \"／\", \"做\", \"你\", \"所\", \"愛\", \" \", \"愛\"...</td>\n",
       "      <td>NaN</td>\n",
       "    </tr>\n",
       "    <tr>\n",
       "      <th>1534</th>\n",
       "      <td>461075</td>\n",
       "      <td>管理前哨站／企業管理高層的兩大職責</td>\n",
       "      <td>[\"管理\", \"前哨站\", \"／\", \"企業\", \"管理\", \"高層\", \"的\", \"兩\",...</td>\n",
       "      <td>NaN</td>\n",
       "    </tr>\n",
       "    <tr>\n",
       "      <th>1535</th>\n",
       "      <td>461153</td>\n",
       "      <td>港建前2月純益年增76% EPS為0.84元</td>\n",
       "      <td>[\"港\", \"建\", \"前\", \"2月\", \"純益\", \"年增\", \"76%\", \" \", ...</td>\n",
       "      <td>NaN</td>\n",
       "    </tr>\n",
       "    <tr>\n",
       "      <th>1536</th>\n",
       "      <td>461275</td>\n",
       "      <td>想進台積電？財務長黃仁昭：先學會這四大工作守則！</td>\n",
       "      <td>[\"想\", \"進\", \"台積電\", \"？\", \"財務長\", \"黃仁昭\", \"：\", \"先\",...</td>\n",
       "      <td>[台積電, 黃仁昭]</td>\n",
       "    </tr>\n",
       "    <tr>\n",
       "      <th>1537</th>\n",
       "      <td>487275</td>\n",
       "      <td>教育部社區職場體驗賽 中國科大影視系獲佳績</td>\n",
       "      <td>[\"教育部\", \"社區\", \"職場\", \"體驗賽\", \" \", \"中國\", \"科大\", \"影...</td>\n",
       "      <td>[教育部, 中國科大影視系]</td>\n",
       "    </tr>\n",
       "  </tbody>\n",
       "</table>\n",
       "<p>1538 rows × 4 columns</p>\n",
       "</div>"
      ],
      "text/plain": [
       "      news_id                  news_title  \\\n",
       "0      454848     布林肯再發香港政策法報告 認定香港不再高度自治   \n",
       "1      454849  若普遍配戴驅鯊裝置 估50年間澳洲可少1063人被咬   \n",
       "2      454851        拜登2.25兆美元基礎建設及租稅計畫一覽   \n",
       "3      454853        BBC駐北京記者前往台灣 稱受到威脅趨烈   \n",
       "4      454855      聯電集團還有戲？謝金河：股利政策看出企業力度   \n",
       "...       ...                         ...   \n",
       "1533   461074              自我管理／做你所愛 愛你所做   \n",
       "1534   461075           管理前哨站／企業管理高層的兩大職責   \n",
       "1535   461153      港建前2月純益年增76% EPS為0.84元   \n",
       "1536   461275    想進台積電？財務長黃仁昭：先學會這四大工作守則！   \n",
       "1537   487275       教育部社區職場體驗賽 中國科大影視系獲佳績   \n",
       "\n",
       "                                                  words       ner_names  \n",
       "0     [\"布林肯\", \"再\", \"發\", \"香港\", \"政策法\", \"報告\", \" \", \"認定\"...   [布林肯, 香港, 香港]  \n",
       "1     [\"若\", \"普遍\", \"配戴\", \"驅\", \"鯊\", \"裝置\", \" \", \"估\", \"5...            [澳洲]  \n",
       "2     [\"拜登\", \"2.25兆\", \"美元\", \"基礎\", \"建設\", \"及\", \"租稅\", \"...             NaN  \n",
       "3     [\"BBC\", \"駐\", \"北京\", \"記者\", \"前往\", \"台灣\", \" \", \"稱\",...   [BBC, 北京, 台灣]  \n",
       "4     [\"聯電\", \"集團\", \"還\", \"有\", \"戲\", \"？\", \"謝金河\", \"：\", \"...     [聯電集團, 謝金河]  \n",
       "...                                                 ...             ...  \n",
       "1533  [\"自我\", \"管理\", \"／\", \"做\", \"你\", \"所\", \"愛\", \" \", \"愛\"...             NaN  \n",
       "1534  [\"管理\", \"前哨站\", \"／\", \"企業\", \"管理\", \"高層\", \"的\", \"兩\",...             NaN  \n",
       "1535  [\"港\", \"建\", \"前\", \"2月\", \"純益\", \"年增\", \"76%\", \" \", ...             NaN  \n",
       "1536  [\"想\", \"進\", \"台積電\", \"？\", \"財務長\", \"黃仁昭\", \"：\", \"先\",...      [台積電, 黃仁昭]  \n",
       "1537  [\"教育部\", \"社區\", \"職場\", \"體驗賽\", \" \", \"中國\", \"科大\", \"影...  [教育部, 中國科大影視系]  \n",
       "\n",
       "[1538 rows x 4 columns]"
      ]
     },
     "execution_count": 208,
     "metadata": {},
     "output_type": "execute_result"
    }
   ],
   "source": [
    "df_final"
   ]
  },
  {
   "cell_type": "code",
   "execution_count": 149,
   "id": "found-catering",
   "metadata": {},
   "outputs": [
    {
     "name": "stderr",
     "output_type": "stream",
     "text": [
      "/Users/gary/opt/anaconda3/envs/analyzer/lib/python3.8/site-packages/ipykernel/ipkernel.py:287: DeprecationWarning: `should_run_async` will not call `transform_cell` automatically in the future. Please pass the result to `transformed_cell` argument and any exception that happen during thetransform in `preprocessing_exc_tuple` in IPython 7.17 and above.\n",
      "  and should_run_async(code)\n"
     ]
    }
   ],
   "source": [
    "import ast\n",
    "df['words'] = df['words'].apply(ast.literal_eval)"
   ]
  },
  {
   "cell_type": "code",
   "execution_count": 150,
   "id": "quiet-administrator",
   "metadata": {},
   "outputs": [
    {
     "name": "stderr",
     "output_type": "stream",
     "text": [
      "/Users/gary/opt/anaconda3/envs/analyzer/lib/python3.8/site-packages/ipykernel/ipkernel.py:287: DeprecationWarning: `should_run_async` will not call `transform_cell` automatically in the future. Please pass the result to `transformed_cell` argument and any exception that happen during thetransform in `preprocessing_exc_tuple` in IPython 7.17 and above.\n",
      "  and should_run_async(code)\n"
     ]
    },
    {
     "data": {
      "text/html": [
       "<div>\n",
       "<style scoped>\n",
       "    .dataframe tbody tr th:only-of-type {\n",
       "        vertical-align: middle;\n",
       "    }\n",
       "\n",
       "    .dataframe tbody tr th {\n",
       "        vertical-align: top;\n",
       "    }\n",
       "\n",
       "    .dataframe thead th {\n",
       "        text-align: right;\n",
       "    }\n",
       "</style>\n",
       "<table border=\"1\" class=\"dataframe\">\n",
       "  <thead>\n",
       "    <tr style=\"text-align: right;\">\n",
       "      <th></th>\n",
       "      <th>news_id</th>\n",
       "      <th>news_title</th>\n",
       "      <th>words</th>\n",
       "    </tr>\n",
       "  </thead>\n",
       "  <tbody>\n",
       "    <tr>\n",
       "      <th>0</th>\n",
       "      <td>454848</td>\n",
       "      <td>布林肯再發香港政策法報告 認定香港不再高度自治</td>\n",
       "      <td>[布林肯, 再, 發, 香港, 政策法, 報告,  , 認定, 香港, 不再, 高度, 自治]</td>\n",
       "    </tr>\n",
       "    <tr>\n",
       "      <th>1</th>\n",
       "      <td>454849</td>\n",
       "      <td>若普遍配戴驅鯊裝置 估50年間澳洲可少1063人被咬</td>\n",
       "      <td>[若, 普遍, 配戴, 驅, 鯊, 裝置,  , 估, 50年, 間, 澳洲, 可, 少, ...</td>\n",
       "    </tr>\n",
       "    <tr>\n",
       "      <th>2</th>\n",
       "      <td>454851</td>\n",
       "      <td>拜登2.25兆美元基礎建設及租稅計畫一覽</td>\n",
       "      <td>[拜登, 2.25兆, 美元, 基礎, 建設, 及, 租稅, 計畫, 一, 覽]</td>\n",
       "    </tr>\n",
       "    <tr>\n",
       "      <th>3</th>\n",
       "      <td>454853</td>\n",
       "      <td>BBC駐北京記者前往台灣 稱受到威脅趨烈</td>\n",
       "      <td>[BBC, 駐, 北京, 記者, 前往, 台灣,  , 稱, 受到, 威脅, 趨, 烈]</td>\n",
       "    </tr>\n",
       "    <tr>\n",
       "      <th>4</th>\n",
       "      <td>454855</td>\n",
       "      <td>聯電集團還有戲？謝金河：股利政策看出企業力度</td>\n",
       "      <td>[聯電, 集團, 還, 有, 戲, ？, 謝金河, ：, 股利, 政策, 看出, 企業, 力度]</td>\n",
       "    </tr>\n",
       "    <tr>\n",
       "      <th>...</th>\n",
       "      <td>...</td>\n",
       "      <td>...</td>\n",
       "      <td>...</td>\n",
       "    </tr>\n",
       "    <tr>\n",
       "      <th>1533</th>\n",
       "      <td>461074</td>\n",
       "      <td>自我管理／做你所愛 愛你所做</td>\n",
       "      <td>[自我, 管理, ／, 做, 你, 所, 愛,  , 愛, 你, 所, 做]</td>\n",
       "    </tr>\n",
       "    <tr>\n",
       "      <th>1534</th>\n",
       "      <td>461075</td>\n",
       "      <td>管理前哨站／企業管理高層的兩大職責</td>\n",
       "      <td>[管理, 前哨站, ／, 企業, 管理, 高層, 的, 兩, 大, 職責]</td>\n",
       "    </tr>\n",
       "    <tr>\n",
       "      <th>1535</th>\n",
       "      <td>461153</td>\n",
       "      <td>港建前2月純益年增76% EPS為0.84元</td>\n",
       "      <td>[港, 建, 前, 2月, 純益, 年增, 76%,  , EPS, 為, 0.84, 元]</td>\n",
       "    </tr>\n",
       "    <tr>\n",
       "      <th>1536</th>\n",
       "      <td>461275</td>\n",
       "      <td>想進台積電？財務長黃仁昭：先學會這四大工作守則！</td>\n",
       "      <td>[想, 進, 台積電, ？, 財務長, 黃仁昭, ：, 先, 學會, 這, 四, 大, 工作...</td>\n",
       "    </tr>\n",
       "    <tr>\n",
       "      <th>1537</th>\n",
       "      <td>487275</td>\n",
       "      <td>教育部社區職場體驗賽 中國科大影視系獲佳績</td>\n",
       "      <td>[教育部, 社區, 職場, 體驗賽,  , 中國, 科大, 影視系, 獲, 佳績]</td>\n",
       "    </tr>\n",
       "  </tbody>\n",
       "</table>\n",
       "<p>1538 rows × 3 columns</p>\n",
       "</div>"
      ],
      "text/plain": [
       "      news_id                  news_title  \\\n",
       "0      454848     布林肯再發香港政策法報告 認定香港不再高度自治   \n",
       "1      454849  若普遍配戴驅鯊裝置 估50年間澳洲可少1063人被咬   \n",
       "2      454851        拜登2.25兆美元基礎建設及租稅計畫一覽   \n",
       "3      454853        BBC駐北京記者前往台灣 稱受到威脅趨烈   \n",
       "4      454855      聯電集團還有戲？謝金河：股利政策看出企業力度   \n",
       "...       ...                         ...   \n",
       "1533   461074              自我管理／做你所愛 愛你所做   \n",
       "1534   461075           管理前哨站／企業管理高層的兩大職責   \n",
       "1535   461153      港建前2月純益年增76% EPS為0.84元   \n",
       "1536   461275    想進台積電？財務長黃仁昭：先學會這四大工作守則！   \n",
       "1537   487275       教育部社區職場體驗賽 中國科大影視系獲佳績   \n",
       "\n",
       "                                                  words  \n",
       "0       [布林肯, 再, 發, 香港, 政策法, 報告,  , 認定, 香港, 不再, 高度, 自治]  \n",
       "1     [若, 普遍, 配戴, 驅, 鯊, 裝置,  , 估, 50年, 間, 澳洲, 可, 少, ...  \n",
       "2              [拜登, 2.25兆, 美元, 基礎, 建設, 及, 租稅, 計畫, 一, 覽]  \n",
       "3          [BBC, 駐, 北京, 記者, 前往, 台灣,  , 稱, 受到, 威脅, 趨, 烈]  \n",
       "4      [聯電, 集團, 還, 有, 戲, ？, 謝金河, ：, 股利, 政策, 看出, 企業, 力度]  \n",
       "...                                                 ...  \n",
       "1533             [自我, 管理, ／, 做, 你, 所, 愛,  , 愛, 你, 所, 做]  \n",
       "1534              [管理, 前哨站, ／, 企業, 管理, 高層, 的, 兩, 大, 職責]  \n",
       "1535     [港, 建, 前, 2月, 純益, 年增, 76%,  , EPS, 為, 0.84, 元]  \n",
       "1536  [想, 進, 台積電, ？, 財務長, 黃仁昭, ：, 先, 學會, 這, 四, 大, 工作...  \n",
       "1537          [教育部, 社區, 職場, 體驗賽,  , 中國, 科大, 影視系, 獲, 佳績]  \n",
       "\n",
       "[1538 rows x 3 columns]"
      ]
     },
     "execution_count": 150,
     "metadata": {},
     "output_type": "execute_result"
    }
   ],
   "source": [
    "df"
   ]
  },
  {
   "cell_type": "code",
   "execution_count": 161,
   "id": "norman-syndrome",
   "metadata": {},
   "outputs": [
    {
     "name": "stderr",
     "output_type": "stream",
     "text": [
      "/Users/gary/opt/anaconda3/envs/analyzer/lib/python3.8/site-packages/ipykernel/ipkernel.py:287: DeprecationWarning: `should_run_async` will not call `transform_cell` automatically in the future. Please pass the result to `transformed_cell` argument and any exception that happen during thetransform in `preprocessing_exc_tuple` in IPython 7.17 and above.\n",
      "  and should_run_async(code)\n"
     ]
    }
   ],
   "source": [
    "df.to_csv('test_df.csv', index = False)"
   ]
  },
  {
   "cell_type": "code",
   "execution_count": 152,
   "id": "equipped-chapel",
   "metadata": {},
   "outputs": [
    {
     "name": "stderr",
     "output_type": "stream",
     "text": [
      "/Users/gary/opt/anaconda3/envs/analyzer/lib/python3.8/site-packages/ipykernel/ipkernel.py:287: DeprecationWarning: `should_run_async` will not call `transform_cell` automatically in the future. Please pass the result to `transformed_cell` argument and any exception that happen during thetransform in `preprocessing_exc_tuple` in IPython 7.17 and above.\n",
      "  and should_run_async(code)\n"
     ]
    }
   ],
   "source": [
    "import numpy as np\n",
    "def count_vectorizer(list_of_strings):\n",
    "    current_index = 0\n",
    "    vocab = []\n",
    "    vocab_dict = {}\n",
    "    for lst in list_of_strings:\n",
    "        for string in lst:\n",
    "            string = string.strip()\n",
    "            if string not in vocab_dict and string.isalpha():\n",
    "                vocab_dict[string] = current_index\n",
    "                vocab.append(string)\n",
    "                current_index += 1\n",
    "    res_matrix = np.zeros([len(list_of_strings), len(vocab_dict)])\n",
    "    for index, lst in enumerate(list_of_strings):\n",
    "        for string in lst:\n",
    "            string = string.strip()\n",
    "            if string in vocab_dict:\n",
    "                res_matrix[index][vocab_dict[string]]+= 1\n",
    "    return res_matrix, np.array(vocab)\n",
    "                "
   ]
  },
  {
   "cell_type": "code",
   "execution_count": 153,
   "id": "ecological-attraction",
   "metadata": {},
   "outputs": [
    {
     "name": "stderr",
     "output_type": "stream",
     "text": [
      "/Users/gary/opt/anaconda3/envs/analyzer/lib/python3.8/site-packages/ipykernel/ipkernel.py:287: DeprecationWarning: `should_run_async` will not call `transform_cell` automatically in the future. Please pass the result to `transformed_cell` argument and any exception that happen during thetransform in `preprocessing_exc_tuple` in IPython 7.17 and above.\n",
      "  and should_run_async(code)\n"
     ]
    }
   ],
   "source": [
    "X, vocab = count_vectorizer(df['words'].values.tolist())"
   ]
  },
  {
   "cell_type": "code",
   "execution_count": 154,
   "id": "interpreted-lawyer",
   "metadata": {},
   "outputs": [
    {
     "name": "stderr",
     "output_type": "stream",
     "text": [
      "/Users/gary/opt/anaconda3/envs/analyzer/lib/python3.8/site-packages/ipykernel/ipkernel.py:287: DeprecationWarning: `should_run_async` will not call `transform_cell` automatically in the future. Please pass the result to `transformed_cell` argument and any exception that happen during thetransform in `preprocessing_exc_tuple` in IPython 7.17 and above.\n",
      "  and should_run_async(code)\n"
     ]
    },
    {
     "name": "stdout",
     "output_type": "stream",
     "text": [
      "\n",
      "\n",
      " Train BTM ..\n"
     ]
    },
    {
     "name": "stderr",
     "output_type": "stream",
     "text": [
      "100%|██████████| 100/100 [37:28<00:00, 22.48s/it]\n"
     ]
    },
    {
     "name": "stdout",
     "output_type": "stream",
     "text": [
      "\n",
      "\n",
      " Visualize Topics ..\n",
      "\n",
      "\n",
      " Topic coherence ..\n",
      "Topic 0 | Coherence=-88.98 | Top words= 台股 漲 點 新高 元 創 指數 台積電 逾 大\n",
      "Topic 1 | Coherence=-130.05 | Top words= 國際 拜登 創 有 一 新 大陸 新高 計畫 美元\n",
      "Topic 2 | Coherence=-133.77 | Top words= 中國 美 產業 市場 未 再 國際 台灣 一 高雄\n",
      "Topic 3 | Coherence=-127.93 | Top words= 元 每 股 泡泡 旅遊 全 科技 首 漢民 台\n",
      "Topic 4 | Coherence=-106.88 | Top words= 年 大 去年 最 高 賺 創 今年 元 逾\n",
      "Topic 5 | Coherence=-121.51 | Top words= 不 東元 的 大 新 併 金管會 將 是 保德信\n",
      "Topic 6 | Coherence=-134.74 | Top words= 大 不 多 台 盼 連假 愚人節 有 將 一\n",
      "Topic 7 | Coherence=-129.18 | Top words= 不 新 美 是 政府 下 個 市場 月 打\n",
      "Topic 8 | Coherence=-131.56 | Top words= 台積電 產業 年 半導體 大 這 經濟 台灣 新 發展\n",
      "Topic 9 | Coherence=-111.77 | Top words= 永豐餘 美 中 退出 董事會 元 千萬 買 中獎 發票\n"
     ]
    },
    {
     "data": {
      "text/plain": [
       "{'coherence': [-88.97568884038314,\n",
       "  -130.05084610224176,\n",
       "  -133.77192820366875,\n",
       "  -127.92957745661701,\n",
       "  -106.87956465619891,\n",
       "  -121.51424468520038,\n",
       "  -134.74340195557588,\n",
       "  -129.18363916922323,\n",
       "  -131.5560247437403,\n",
       "  -111.76825549214425],\n",
       " 'top_words': [array(['台股', '漲', '點', '新高', '元', '創', '指數', '台積電', '逾', '大'],\n",
       "        dtype='<U11'),\n",
       "  array(['國際', '拜登', '創', '有', '一', '新', '大陸', '新高', '計畫', '美元'],\n",
       "        dtype='<U11'),\n",
       "  array(['中國', '美', '產業', '市場', '未', '再', '國際', '台灣', '一', '高雄'],\n",
       "        dtype='<U11'),\n",
       "  array(['元', '每', '股', '泡泡', '旅遊', '全', '科技', '首', '漢民', '台'], dtype='<U11'),\n",
       "  array(['年', '大', '去年', '最', '高', '賺', '創', '今年', '元', '逾'], dtype='<U11'),\n",
       "  array(['不', '東元', '的', '大', '新', '併', '金管會', '將', '是', '保德信'],\n",
       "        dtype='<U11'),\n",
       "  array(['大', '不', '多', '台', '盼', '連假', '愚人節', '有', '將', '一'], dtype='<U11'),\n",
       "  array(['不', '新', '美', '是', '政府', '下', '個', '市場', '月', '打'], dtype='<U11'),\n",
       "  array(['台積電', '產業', '年', '半導體', '大', '這', '經濟', '台灣', '新', '發展'],\n",
       "        dtype='<U11'),\n",
       "  array(['永豐餘', '美', '中', '退出', '董事會', '元', '千萬', '買', '中獎', '發票'],\n",
       "        dtype='<U11')]}"
      ]
     },
     "execution_count": 154,
     "metadata": {},
     "output_type": "execute_result"
    }
   ],
   "source": [
    "biterms = vec_to_biterms(X)\n",
    "\n",
    "# create btm\n",
    "btm = oBTM(num_topics=10, V=vocab)\n",
    "\n",
    "print(\"\\n\\n Train BTM ..\")\n",
    "topics = btm.fit_transform(biterms, iterations=100)\n",
    "\n",
    "print(\"\\n\\n Visualize Topics ..\")\n",
    "vis = pyLDAvis.prepare(btm.phi_wz.T, topics, np.count_nonzero(X, axis=1), vocab, np.sum(X, axis=0))\n",
    "pyLDAvis.save_html(vis, './vis/simple_btm_10.html')\n",
    "\n",
    "print(\"\\n\\n Topic coherence ..\")\n",
    "topic_summuary(btm.phi_wz.T, X, vocab, 10)"
   ]
  },
  {
   "cell_type": "code",
   "execution_count": 223,
   "id": "delayed-weight",
   "metadata": {},
   "outputs": [
    {
     "name": "stderr",
     "output_type": "stream",
     "text": [
      "/Users/gary/opt/anaconda3/envs/analyzer/lib/python3.8/site-packages/ipykernel/ipkernel.py:287: DeprecationWarning: `should_run_async` will not call `transform_cell` automatically in the future. Please pass the result to `transformed_cell` argument and any exception that happen during thetransform in `preprocessing_exc_tuple` in IPython 7.17 and above.\n",
      "  and should_run_async(code)\n"
     ]
    }
   ],
   "source": [
    "from collections import defaultdict\n",
    "topic_id_dict = defaultdict(list)\n",
    "topic_words_dict = defaultdict(list)\n",
    "words_id_dict = defaultdict(lambda: defaultdict(set))\n",
    "\n",
    "for i in range(len(texts)):\n",
    "    current_id = df_final.iloc[i]['news_id']\n",
    "    current_topic = topics[i].argmax()\n",
    "    topic_id_dict[current_topic].append(current_id)\n",
    "    if not isinstance(df_final.iloc[i]['ner_names'], float):\n",
    "        for ner_name in df_final.iloc[i]['ner_names']:\n",
    "            topic_words_dict[current_topic].append(ner_name)\n",
    "        for words in df_final.iloc[i]['ner_names']:\n",
    "            if words:\n",
    "                words_id_dict[current_topic][words].add(current_id)"
   ]
  },
  {
   "cell_type": "code",
   "execution_count": 226,
   "id": "related-provision",
   "metadata": {},
   "outputs": [
    {
     "name": "stdout",
     "output_type": "stream",
     "text": [
      "Topic 2\n",
      "0    布林肯再發香港政策法報告 認定香港不再高度自治\n",
      "Name: news_title, dtype: object\n",
      "333    路透：字節跳動擬安排抖音赴紐約或香港上市\n",
      "Name: news_title, dtype: object\n",
      "186    維持川普政策！ 布林肯向國會認證香港不再享特殊待遇\n",
      "Name: news_title, dtype: object\n",
      "38    台陸澳人士入境香港  須做兩次新冠病毒檢測\n",
      "Name: news_title, dtype: object\n",
      "Topic 2\n",
      "94    美股科技股走揚 那指、標普500收紅\n",
      "Name: news_title, dtype: object\n",
      "125    美股科技股走揚 那指、標普500收紅\n",
      "Name: news_title, dtype: object\n",
      "62    美股科技股走揚 那指、標普500收紅\n",
      "Name: news_title, dtype: object\n",
      "Topic 2\n",
      "Topic 2\n",
      "178    【外資重手賣股2】護國群山淪提款機 分析師：台積電欠缺大漲條件\n",
      "Name: news_title, dtype: object\n",
      "230    取消明年價格折讓、投資千億美元 台積電抗缺對策震撼業界\n",
      "Name: news_title, dtype: object\n",
      "271    台積電砸3兆全球蓋新廠 大舉招募人才\n",
      "Name: news_title, dtype: object\n",
      "361    台積電擬3年砸1000億美元增產 支持客戶需求\n",
      "Name: news_title, dtype: object\n",
      "384    台積電計劃砸逾2.86兆擴產！　總裁透露「產能供不應求」\n",
      "Name: news_title, dtype: object\n",
      "389    台積電擬3年砸1000億美元增產 支持客戶需求\n",
      "Name: news_title, dtype: object\n",
      "Topic 2\n",
      "345    帛琉總統惠恕仁抵達桃機  陳時中陪伴採檢\n",
      "Name: news_title, dtype: object\n",
      "250    帛琉旅遊首發 旅行泡泡險防疫外\n",
      "Name: news_title, dtype: object\n",
      "104    帛琉團人氣淡 泡泡吹不動\n",
      "Name: news_title, dtype: object\n",
      "306    華航首飛帛琉旅遊泡泡 客艙服務滿滿海島風情\n",
      "Name: news_title, dtype: object\n",
      "342    華航首飛帛琉旅遊泡泡 客艙服務滿滿海島風情\n",
      "Name: news_title, dtype: object\n",
      "Topic 2\n",
      "196    美貿易報告 關切萊豬原產地公告暗示食安疑慮\n",
      "Name: news_title, dtype: object\n",
      "237    美日韓國安高層將首度會晤 就印太安全交換意見\n",
      "Name: news_title, dtype: object\n",
      "234    美疫苗廠工人搞混原料！1500萬劑嬌生疫苗報廢\n",
      "Name: news_title, dtype: object\n",
      "Topic 2\n",
      "180    東元公司派 拚11席董事全拿\n",
      "Name: news_title, dtype: object\n",
      "16    東元公司派董事名單 留下三個問號\n",
      "Name: news_title, dtype: object\n",
      "Topic 2\n",
      "392    快新聞／台積電領軍漲逾1.5% 台股早盤一度攀升至16602點再創新高\n",
      "Name: news_title, dtype: object\n",
      "319    台積電漲11元 台股早盤大漲171點創新高\n",
      "Name: news_title, dtype: object\n",
      "390    台積電走堅 台股早盤大漲171點再創盤中新高\n",
      "Name: news_title, dtype: object\n",
      "242    美科技股走揚 法人：清明連假前台股區間震盪\n",
      "Name: news_title, dtype: object\n",
      "252    美科技股走揚 法人：清明連假前台股區間震盪\n",
      "Name: news_title, dtype: object\n",
      "177    【外資重手賣股1】外資今年賣超台股逾3300億元 法人：長多格局未變\n",
      "Name: news_title, dtype: object\n",
      "376    聯電ADR31日上漲0.22美元漲幅2.47%折台股51.98元\n",
      "Name: news_title, dtype: object\n",
      "377    中華電信ADR31日上漲0.02美元漲幅0.05%折台股111.67元\n",
      "Name: news_title, dtype: object\n",
      "378    台積電ADR31日上漲3.21美元漲幅2.79%折台股674.93元\n",
      "Name: news_title, dtype: object\n",
      "379    友達ADR31日下跌0.10美元跌幅1.32%折台股21.40元\n",
      "Name: news_title, dtype: object\n",
      "380    日月光投控ADR31日下跌0.08美元跌幅1.03%折台股109.84元\n",
      "Name: news_title, dtype: object\n",
      "312    台積電走堅 台股早盤大漲171點再創盤中新高\n",
      "Name: news_title, dtype: object\n",
      "197    台積電ADR大漲2.8% 較台股溢價率擴大至14%\n",
      "Name: news_title, dtype: object\n",
      "290    台積電走堅 台股早盤大漲171點再創盤中新高\n",
      "Name: news_title, dtype: object\n",
      "Topic 2\n",
      "49    中信銀八大優勢 滿足投資需求\n",
      "Name: news_title, dtype: object\n",
      "50    中信銀高資產財管服務升級 瞄準億元級客戶\n",
      "Name: news_title, dtype: object\n",
      "Topic 2\n",
      "187    新疆血棉花風波繼續 H&M預計今年關中國20家店\n",
      "Name: news_title, dtype: object\n",
      "124    稱大陸市場很重要 H＆M避提新疆棉\n",
      "Name: news_title, dtype: object\n"
     ]
    },
    {
     "name": "stderr",
     "output_type": "stream",
     "text": [
      "/Users/gary/opt/anaconda3/envs/analyzer/lib/python3.8/site-packages/ipykernel/ipkernel.py:287: DeprecationWarning: `should_run_async` will not call `transform_cell` automatically in the future. Please pass the result to `transformed_cell` argument and any exception that happen during thetransform in `preprocessing_exc_tuple` in IPython 7.17 and above.\n",
      "  and should_run_async(code)\n"
     ]
    }
   ],
   "source": [
    "from collections import Counter\n",
    "for topic, items in topic_words_dict.items():\n",
    "    print('Topic {}'.format(key))\n",
    "    word, count = Counter(items).most_common(1)[0]\n",
    "    if count > 1:\n",
    "        news_ids = words_id_dict[topic][word]\n",
    "        for news_id in list(news_ids):\n",
    "            print(df_final[df_final['news_id'] == news_id]['news_title'])"
   ]
  },
  {
   "cell_type": "code",
   "execution_count": 193,
   "id": "collectible-disease",
   "metadata": {},
   "outputs": [
    {
     "name": "stderr",
     "output_type": "stream",
     "text": [
      "/Users/gary/opt/anaconda3/envs/analyzer/lib/python3.8/site-packages/ipykernel/ipkernel.py:287: DeprecationWarning: `should_run_async` will not call `transform_cell` automatically in the future. Please pass the result to `transformed_cell` argument and any exception that happen during thetransform in `preprocessing_exc_tuple` in IPython 7.17 and above.\n",
      "  and should_run_async(code)\n"
     ]
    }
   ],
   "source": [
    "for key, items in topic_id_dict.items():\n",
    "    print(\"Topic {}:\".format(key))\n",
    "    print(\"Topic count {}\".format(len(items)))\n",
    "    print(items)"
   ]
  },
  {
   "cell_type": "code",
   "execution_count": 98,
   "id": "random-thing",
   "metadata": {
    "collapsed": true,
    "jupyter": {
     "outputs_hidden": true
    }
   },
   "outputs": [
    {
     "name": "stderr",
     "output_type": "stream",
     "text": [
      "/Users/gary/opt/anaconda3/envs/analyzer/lib/python3.8/site-packages/ipykernel/ipkernel.py:287: DeprecationWarning: `should_run_async` will not call `transform_cell` automatically in the future. Please pass the result to `transformed_cell` argument and any exception that happen during thetransform in `preprocessing_exc_tuple` in IPython 7.17 and above.\n",
      "  and should_run_async(code)\n"
     ]
    },
    {
     "name": "stdout",
     "output_type": "stream",
     "text": [
      "\n",
      "\n",
      " Train BTM ..\n"
     ]
    },
    {
     "name": "stderr",
     "output_type": "stream",
     "text": [
      "100%|██████████| 100/100 [33:54<00:00, 20.34s/it]\n"
     ]
    },
    {
     "name": "stdout",
     "output_type": "stream",
     "text": [
      "\n",
      "\n",
      " Visualize Topics ..\n",
      "\n",
      "\n",
      " Topic coherence ..\n",
      "Topic 0 | Coherence=-387.83 | Top words= 太魯閣號 手機 事故 擬 科技 震盪 Fed 東林 收低 美股 董事長 等待 財報季 和 前景 經濟 陳睿謙 汽車 對 展望\n",
      "Topic 1 | Coherence=-467.88 | Top words= 新 看 美元 疫苗 品牌 晶圓 再 片 每 吋 家 小米 外資 雷軍 法人 全球 中國 公費 流感 之\n",
      "Topic 2 | Coherence=-456.41 | Top words= 疫苗 接種 AZ 有 勞動部 推動 與 施打 建議 布局 大陸 東元 持續 最 再 商機 台北 可 企業 新\n",
      "Topic 3 | Coherence=-532.04 | Top words= 營收 新高 創 元 台股 同 期 點 季 為 高 年增 歷史 首 漲 指數 次 寫 續 雙\n",
      "Topic 4 | Coherence=-384.34 | Top words= 需求 改善 採購 經部 開罰 台灣 中火 有 水塔 增加 媒合 籲 科大 經濟 調度 事故 台鐵 經濟部 工程車 李義祥\n",
      "Topic 5 | Coherence=-537.77 | Top words= 元 每 股 新高 推出 一 擬 不 盈餘 永大 創 單日 規劃 現金 去年 確診 將 例 後 新增\n",
      "Topic 6 | Coherence=-430.71 | Top words= 受 擬 鴻海 要聞 印表機 各 報 可 小金雞 人 惠普 最 大 演習 影響 證交所 水 製造 旗下 將\n",
      "Topic 7 | Coherence=-384.03 | Top words= 全 水 平台 拚 首 用 成長 座 台電 微水力 中火 滴 次 頂級 蘭陽 電廠 轉型 蘋果 六福 重啟\n",
      "Topic 8 | Coherence=-499.59 | Top words= 年 有 將 新 半 設計 應 AZ 送 看 倍 母親節 血栓 營收 營運 高 的 關聯 IC 疫苗\n",
      "Topic 9 | Coherence=-424.37 | Top words= 東芝 收購 與 基金 英國 戴永輝 往來 元 資金 逾 蔡衍明 無 豪宅 蔡明忠 CVC 了 星媒 是 私人 求償\n",
      "Topic 10 | Coherence=-481.43 | Top words= 市場 房地 合一 年 櫃買 最 上路 股市 買超 名 前 元 券商 日 台股 半 增 美 擬 認證\n",
      "Topic 11 | Coherence=-439.35 | Top words= 人 等 在 涉 集結 黎智英 不 美國 大陸 港 年 疫情 未 擴大 REITs 漲聲 的 逾 下 全球\n",
      "Topic 12 | Coherence=-531.96 | Top words= 元 月 營收 年 經濟 國際 連 最 逾 外資 季 大 個 今年 升 新台幣 創 高 新高 全\n",
      "Topic 13 | Coherence=-492.39 | Top words= 科技 新 監管 公司 疫情 中國 有 高 創 大 永續 的 緊 不 在 太魯閣號 IPO 銀行 下 趨\n",
      "Topic 14 | Coherence=-540.79 | Top words= 全球 國際 大 不 一 台灣 美國 數位 的 北京 產業 通過 對 冬奧 商機 美 後 年 將 數據\n",
      "Topic 15 | Coherence=-468.46 | Top words= 台鐵 太魯閣號 事故 改革 內 個 年 勞檢 月 罹難 家屬 總統 央行 出書 理事 大 傷者 就 者 在\n",
      "Topic 16 | Coherence=-425.71 | Top words= 經濟 台灣 GDP 至 成長率 今年 上調 成長 可能 打 渣打 大 達 不 IMF 上修 疫苗 星展銀 星展 嚴\n",
      "Topic 17 | Coherence=-417.07 | Top words= 大 郭台銘 投資 最 金融 台康 基金 公股 鬆綁 董總 人才 薪資 生技 香港 財政部 漲停 前 盼 趨勢 上限\n",
      "Topic 18 | Coherence=-478.98 | Top words= 美 全 台 台開 新疆 棉 元 今年 明年 中國 再 風暴 共軍 漲 額 交割 買 將 恐 奔\n",
      "Topic 19 | Coherence=-370.23 | Top words= 應用 中心 電子 中火 上市 四 與 元太 電子紙 標籤 貨架 推 中市府 色 技術 全新 號 攜手 智能 中國\n"
     ]
    },
    {
     "data": {
      "text/plain": [
       "{'coherence': [-387.8335833924291,\n",
       "  -467.87581855408365,\n",
       "  -456.4084825861986,\n",
       "  -532.0351168759956,\n",
       "  -384.33632188355284,\n",
       "  -537.7749006772132,\n",
       "  -430.70641151745383,\n",
       "  -384.0296588466093,\n",
       "  -499.58751341077016,\n",
       "  -424.3730934374205,\n",
       "  -481.4291981099686,\n",
       "  -439.3542453091225,\n",
       "  -531.9605258867791,\n",
       "  -492.3880914090239,\n",
       "  -540.7949512623976,\n",
       "  -468.4553263802704,\n",
       "  -425.70833685364255,\n",
       "  -417.0724549917268,\n",
       "  -478.97808558010075,\n",
       "  -370.2310740661868],\n",
       " 'top_words': [array(['太魯閣號', '手機', '事故', '擬', '科技', '震盪', 'Fed', '東林', '收低', '美股',\n",
       "         '董事長', '等待', '財報季', '和', '前景', '經濟', '陳睿謙', '汽車', '對', '展望'],\n",
       "        dtype='<U13'),\n",
       "  array(['新', '看', '美元', '疫苗', '品牌', '晶圓', '再', '片', '每', '吋', '家', '小米',\n",
       "         '外資', '雷軍', '法人', '全球', '中國', '公費', '流感', '之'], dtype='<U13'),\n",
       "  array(['疫苗', '接種', 'AZ', '有', '勞動部', '推動', '與', '施打', '建議', '布局', '大陸',\n",
       "         '東元', '持續', '最', '再', '商機', '台北', '可', '企業', '新'], dtype='<U13'),\n",
       "  array(['營收', '新高', '創', '元', '台股', '同', '期', '點', '季', '為', '高', '年增',\n",
       "         '歷史', '首', '漲', '指數', '次', '寫', '續', '雙'], dtype='<U13'),\n",
       "  array(['需求', '改善', '採購', '經部', '開罰', '台灣', '中火', '有', '水塔', '增加', '媒合',\n",
       "         '籲', '科大', '經濟', '調度', '事故', '台鐵', '經濟部', '工程車', '李義祥'],\n",
       "        dtype='<U13'),\n",
       "  array(['元', '每', '股', '新高', '推出', '一', '擬', '不', '盈餘', '永大', '創', '單日',\n",
       "         '規劃', '現金', '去年', '確診', '將', '例', '後', '新增'], dtype='<U13'),\n",
       "  array(['受', '擬', '鴻海', '要聞', '印表機', '各', '報', '可', '小金雞', '人', '惠普', '最',\n",
       "         '大', '演習', '影響', '證交所', '水', '製造', '旗下', '將'], dtype='<U13'),\n",
       "  array(['全', '水', '平台', '拚', '首', '用', '成長', '座', '台電', '微水力', '中火', '滴',\n",
       "         '次', '頂級', '蘭陽', '電廠', '轉型', '蘋果', '六福', '重啟'], dtype='<U13'),\n",
       "  array(['年', '有', '將', '新', '半', '設計', '應', 'AZ', '送', '看', '倍', '母親節',\n",
       "         '血栓', '營收', '營運', '高', '的', '關聯', 'IC', '疫苗'], dtype='<U13'),\n",
       "  array(['東芝', '收購', '與', '基金', '英國', '戴永輝', '往來', '元', '資金', '逾', '蔡衍明',\n",
       "         '無', '豪宅', '蔡明忠', 'CVC', '了', '星媒', '是', '私人', '求償'], dtype='<U13'),\n",
       "  array(['市場', '房地', '合一', '年', '櫃買', '最', '上路', '股市', '買超', '名', '前', '元',\n",
       "         '券商', '日', '台股', '半', '增', '美', '擬', '認證'], dtype='<U13'),\n",
       "  array(['人', '等', '在', '涉', '集結', '黎智英', '不', '美國', '大陸', '港', '年', '疫情',\n",
       "         '未', '擴大', 'REITs', '漲聲', '的', '逾', '下', '全球'], dtype='<U13'),\n",
       "  array(['元', '月', '營收', '年', '經濟', '國際', '連', '最', '逾', '外資', '季', '大',\n",
       "         '個', '今年', '升', '新台幣', '創', '高', '新高', '全'], dtype='<U13'),\n",
       "  array(['科技', '新', '監管', '公司', '疫情', '中國', '有', '高', '創', '大', '永續', '的',\n",
       "         '緊', '不', '在', '太魯閣號', 'IPO', '銀行', '下', '趨'], dtype='<U13'),\n",
       "  array(['全球', '國際', '大', '不', '一', '台灣', '美國', '數位', '的', '北京', '產業', '通過',\n",
       "         '對', '冬奧', '商機', '美', '後', '年', '將', '數據'], dtype='<U13'),\n",
       "  array(['台鐵', '太魯閣號', '事故', '改革', '內', '個', '年', '勞檢', '月', '罹難', '家屬',\n",
       "         '總統', '央行', '出書', '理事', '大', '傷者', '就', '者', '在'], dtype='<U13'),\n",
       "  array(['經濟', '台灣', 'GDP', '至', '成長率', '今年', '上調', '成長', '可能', '打', '渣打',\n",
       "         '大', '達', '不', 'IMF', '上修', '疫苗', '星展銀', '星展', '嚴'], dtype='<U13'),\n",
       "  array(['大', '郭台銘', '投資', '最', '金融', '台康', '基金', '公股', '鬆綁', '董總', '人才',\n",
       "         '薪資', '生技', '香港', '財政部', '漲停', '前', '盼', '趨勢', '上限'], dtype='<U13'),\n",
       "  array(['美', '全', '台', '台開', '新疆', '棉', '元', '今年', '明年', '中國', '再', '風暴',\n",
       "         '共軍', '漲', '額', '交割', '買', '將', '恐', '奔'], dtype='<U13'),\n",
       "  array(['應用', '中心', '電子', '中火', '上市', '四', '與', '元太', '電子紙', '標籤', '貨架',\n",
       "         '推', '中市府', '色', '技術', '全新', '號', '攜手', '智能', '中國'], dtype='<U13')]}"
      ]
     },
     "execution_count": 98,
     "metadata": {},
     "output_type": "execute_result"
    }
   ],
   "source": [
    "biterms = vec_to_biterms(X)\n",
    "\n",
    "# create btm\n",
    "btm = oBTM(num_topics=20, V=vocab)\n",
    "\n",
    "print(\"\\n\\n Train BTM ..\")\n",
    "topics = btm.fit_transform(biterms, iterations=100)\n",
    "\n",
    "print(\"\\n\\n Visualize Topics ..\")\n",
    "vis = pyLDAvis.prepare(btm.phi_wz.T, topics, np.count_nonzero(X, axis=1), vocab, np.sum(X, axis=0))\n",
    "pyLDAvis.save_html(vis, './vis/simple_btm_20.html')\n",
    "\n",
    "print(\"\\n\\n Topic coherence ..\")\n",
    "topic_summuary(btm.phi_wz.T, X, vocab, 20)"
   ]
  },
  {
   "cell_type": "code",
   "execution_count": 99,
   "id": "suspected-elimination",
   "metadata": {},
   "outputs": [
    {
     "name": "stdout",
     "output_type": "stream",
     "text": [
      "\n",
      "\n",
      " Texts & Topics ..\n",
      "美國推動全球性最低企業稅制 德法IMF表支持 (topic: 2)\n",
      "人行打炒房 收縮市場資金 (topic: 16)\n",
      "合肥八條新政 打擊炒房歪風 (topic: 5)\n",
      "恒大首季銷售 逾6,600億元 (topic: 12)\n",
      "羅比尼：金融斷頭 還有未爆彈 (topic: 13)\n",
      "Clubhouse 推出打賞功能 (topic: 5)\n",
      "英特爾CEO將參與白宮會議 商討車用晶片短缺難題 (topic: 16)\n",
      "美國推動全球性最低企業稅制 德法IMF表支持 (topic: 2)\n",
      "日本執政黨關注台海局勢 謝長廷應邀交換意見 (topic: 15)\n",
      "新興債有潛利 分批進場 (topic: 11)\n",
      "Q2投資 掌握NEW策略 (topic: 2)\n",
      "投資級企業債 湧錢潮 (topic: 3)\n",
      "全球高收債 伺機布局 (topic: 1)\n",
      "美平衡型基金 攻守兼備 (topic: 17)\n",
      "富坦穩定月收益 績優 (topic: 4)\n",
      "亞股動能強 上漲空間大 (topic: 16)\n",
      "特別股回穩 後市不淡 (topic: 6)\n",
      "越股投資價值浮現 (topic: 17)\n",
      "陸股擁政策利多 分批買 (topic: 11)\n",
      "印度債券殖利率誘人 (topic: 12)\n",
      "大中華基金 定期定額優選 (topic: 17)\n",
      "美股基金 重登吸金王 (topic: 3)\n",
      "韓台泰越股 外資青睞 (topic: 17)\n",
      "IC封測、設備族 動能強 (topic: 16)\n",
      "大立光營運 法人看淡 (topic: 12)\n",
      "大量、天鈺 買盤敲進 (topic: 19)\n",
      "幸福城市第14站／台灣人壽張峻榮：小額終老險 輕鬆享保障 (topic: 17)\n",
      "幸福城市第14站／林明溱拚經濟 號召青年返鄉 (topic: 7)\n",
      "人民幣走強 攀近兩周高點 (topic: 12)\n",
      "深交所主板、中小板 合體 (topic: 9)\n",
      "最牛一輪／大成鋼看俏 元大07靚 (topic: 17)\n",
      "聯詠 挑逾三個月 (topic: 12)\n",
      "台玻 選價內外10% (topic: 0)\n",
      "力山 押中長天期 (topic: 12)\n",
      "京鼎、迅得 認購吸睛 (topic: 8)\n",
      "南帝、申豐 四檔搶鏡 (topic: 12)\n",
      "為升利多 瞄準價平 (topic: 12)\n",
      "台開亮警訊 打入全額交割 (topic: 18)\n",
      "台開籌銀彈 擬辦30億元聯貸 (topic: 18)\n",
      "海龍風場環差案 有條件過關 (topic: 18)\n",
      "宏碁：亞太區看旺 未見轉折點 (topic: 18)\n",
      "金管會緊盯金融股息的四原因 (topic: 17)\n",
      "資金匯回投資 退稅四步驟 (topic: 16)\n",
      "退回金額已逾2,100萬 (topic: 10)\n",
      "易利委App 外國人適用 (topic: 18)\n",
      "企業呆帳回收 兩方式報稅 (topic: 1)\n",
      "趨勢觀察／微軟亞太創新中心總座葉怡君 建立數位迴圈 四管齊下 (topic: 14)\n",
      "老園丁耕讀筆記／心的訓練 凝聚企業共識 (topic: 19)\n",
      "憲生說法／下一個真的比較好？ (topic: 5)\n",
      "董事長說故事／縮在安全殼 永遠長不大 (topic: 8)\n",
      "新光R1明開受益人大會 (topic: 15)\n",
      "京城銀Q1每股賺2.17元 (topic: 5)\n",
      "利差縮水 國銀前二月獲利探低 (topic: 12)\n",
      "太魯閣號事故 理賠衝6.5億 (topic: 2)\n",
      "北富銀 推轉帳新功能 (topic: 5)\n",
      "中信銀 強打社群購物Pay (topic: 1)\n",
      "華銀副總許柏林 接任將來銀行總座 (topic: 16)\n",
      "央行理事出書 論辯彭淮南20年 (topic: 15)\n",
      "央行理事出書引發茶壺內風暴 央行：問題已詳細說明 (topic: 15)\n",
      "中小板走過16年 功成身退 (topic: 9)\n",
      "上月業績快報／材料+20% 歷來新高 (topic: 12)\n",
      "聚陽接單猛 營收增12% (topic: 3)\n",
      "鮮活營收強彈138% 同期新高 (topic: 3)\n",
      "亞德客營收勁揚37% 寫紀錄 (topic: 3)\n",
      "上月業績快報／美喆+7% 本季樂觀 (topic: 12)\n",
      "上月業績快報／和勤+37% 逐季向上 (topic: 12)\n",
      "吉茂營收躍升51% 全年拚攻頂 (topic: 12)\n",
      "上月業績快報／GIS+67% 趕工新iPad (topic: 12)\n",
      "新普營收 雙喜臨門 (topic: 8)\n",
      "中揚光今年業績看增15% (topic: 12)\n",
      "上月業績快報／群電+25% 全年展望佳 (topic: 12)\n",
      "上月業績快報／群光+33% 連三月攀高 (topic: 12)\n",
      "大亞訂單 看到下半年 (topic: 12)\n",
      "勤凱3月營收增4% 旺季效應可期 (topic: 3)\n",
      "宏達電3月營收增99% VR新品助攻 (topic: 10)\n",
      "台光電、騰輝 3月營收同寫新猷 (topic: 3)\n",
      "威剛3月營收增19% 兩年半來最佳 (topic: 12)\n",
      "中菲行業績大升40% Q2看旺 (topic: 12)\n",
      "大量3月營收增39% 客戶需求強勁 (topic: 12)\n",
      "安特羅3月業績 大增370% (topic: 12)\n",
      "加密幣市值 衝上2兆美元 (topic: 1)\n",
      "布林肯：研議與他國分享疫苗 (topic: 2)\n",
      "美伊間接談判 不被看好 (topic: 4)\n",
      "葉倫透露：美正重返全球舞台 (topic: 1)\n",
      "美日擬聯手抗中 推印太版一帶一路 (topic: 1)\n",
      "庫克暗示 蘋果打造自駕技術平台 (topic: 7)\n",
      "蘋果明年推MR／AR 台廠受惠 (topic: 14)\n",
      "蘋果CEO庫克：「可能不會再做十年」 (topic: 16)\n",
      "美海軍醫護兵開槍射傷兩人 逃往陸軍基地遭擊斃 (topic: 2)\n",
      "面板、航運 漲價題材熱 (topic: 10)\n",
      "搶當台積電百萬股東 這幾檔ETF「含積量」最高 (topic: 8)\n",
      "台積填息 花了13天 (topic: 14)\n",
      "台股4月天 三個好兆頭 (topic: 3)\n",
      "幸福城市第14站／南投在地創生 強攻觀光 (topic: 7)\n",
      "大成鋼期 價差操作 (topic: 0)\n",
      "生技期 中性偏多 (topic: 3)\n",
      "台指期 外資減碼空單 (topic: 10)\n",
      "權王富爸爸加持 台積小金雞采鈺登興櫃股王 (topic: 6)\n",
      "用電高峰期 中火突襲式重啟 (topic: 7)\n",
      "再生水廠趕工 助中南部解渴 (topic: 16)\n",
      "富比世榜 郭台銘是台灣首富 (topic: 15)\n",
      "環保署：台電重啟中火 無違法 (topic: 4)\n",
      "五缺解方 考驗重重 (topic: 8)\n",
      "郭台銘擴張大健康版圖 跨步 (topic: 12)\n",
      "郭台銘大手筆投資台康 三大原因 (topic: 17)\n",
      "郭台銘砸50億 入股台康 (topic: 17)\n",
      "Q2不看淡 高盛上修聯發科目標價至1,362元 (topic: 16)\n",
      "半導體產能供不應求 8吋代工競標衝上每片1,000美元 (topic: 1)\n",
      "市場需求火爆 四大晶圓廠獲利衝高 (topic: 12)\n",
      "鴻海3月旺 催出最強Q1 (topic: 12)\n",
      "人才戰備競賽 和泰車強槓科技業 (topic: 8)\n",
      "和泰車搶人 要調高起薪 (topic: 8)\n",
      "我GDP增幅 IMF上修至4.7% (topic: 16)\n",
      "大師智庫論壇21日登場 黃男州：邁向超越銀行的銀行 (topic: 13)\n",
      "臺銀關懷台鐵案 提供民眾金融協助 (topic: 5)\n",
      "邑錡3月營收增19.3% 品牌營收創20月高 (topic: 3)\n",
      "歐盟將公布AZ疫苗新評估 世衛：接種益處超過風險 (topic: 8)\n",
      "IMF上修全球經濟成長率 歐股收紅 (topic: 16)\n",
      "殼牌拚能源轉型 投資永續航空燃料公司 (topic: 7)\n",
      "股神搭檔出手 間接持有阿里股權 (topic: 0)\n",
      "美線上支付平台進軍中東 Stripe總部落腳杜拜 (topic: 18)\n",
      "越南加強監管數位市場 擬透過稅務、數據雙管齊下 (topic: 17)\n",
      "普亭修憲 允許自己再當兩任總統 (topic: 2)\n",
      "北韓決定不參加東京奧運 成全球第一個退出國家 (topic: 14)\n",
      "紐澳旅遊泡泡成形 相互免除入境隔離限制 (topic: 19)\n",
      "歐盟新冠疫苗嚴重短缺 禁止AZ 310萬劑運往澳洲 (topic: 18)\n",
      "上交會下周登場 逾千企業參展 創新高 (topic: 1)\n",
      "法拉第未來赴美上市 預計Q2在那斯達克掛牌 (topic: 17)\n",
      "北京軌道交通年底開通七條線 共計54.5公里 創紀錄 (topic: 8)\n",
      "遼寧省府發布十四五規劃 推動鋼企重組 打造一流企業 (topic: 9)\n",
      "蘭州水墨丹霞景區五一開放 擁有十個觀景平台 (topic: 15)\n",
      "廈門第一所華僑創辦大學 廈大慶祝建校100年 (topic: 8)\n",
      "深圳灣區之光摩天輪18日迎賓 可俯瞰寶安區、沿江美景 (topic: 1)\n",
      "香港旅行網領頭羊 攜程通過港交所上市聆訊 (topic: 14)\n",
      "比亞迪新能源車熱銷 今辦新車發布會 (topic: 8)\n",
      "IMF上修全球經濟成長率 歐股收紅 (topic: 16)\n",
      "影／太魯閣號撞車事故第八節車廂 凌晨拖離現場 (topic: 0)\n",
      "兆勁3月、1Q營收齊登同期新高 (topic: 3)\n",
      "多頭續熱 Q1台股漲逾12% 泰、越漲1成 (topic: 3)\n",
      "新光R1受益人大會 管理機構提說明 (topic: 15)\n",
      "美喆-KY 3月營收年增16.32% (topic: 3)\n",
      "IMF上修全球經濟成長率 歐股收紅 (topic: 16)\n",
      "【歐股盤後】收紅 (topic: 16)\n",
      "新疆棉風暴  紐時：歐美中國對立服飾商陷兩難 (topic: 18)\n",
      "新疆棉風暴  紐時：歐美中國對立服飾商陷兩難 (topic: 18)\n",
      "戰狼外交踢鐵板 駐土大使被召喚使館推特被灌爆 (topic: 0)\n",
      "0407 指標焦點股 (topic: 3)\n",
      "綠否決調閱委員會 藍揚言倒閣 (topic: 1)\n",
      "AZ接種對象 擬再擴大 (topic: 2)\n",
      "中火空汙戰 中台灣選戰火藥庫 (topic: 7)\n",
      "工程車滑落軌 疑因救援怪手鬆脫 (topic: 4)\n",
      "結構性失靈一再重演 台鐵有多少未爆彈 (topic: 9)\n",
      "運安會戳破李義祥謊言…工程車開動 卡樹滑落 (topic: 8)\n",
      "抵制明年北京冬奧？ 美：將與盟友討論 (topic: 14)\n",
      "等待財報季和Fed對經濟前景展望 美股震盪收低 (topic: 0)\n",
      "美中經濟數據報喜 國際油價反彈上揚 (topic: 12)\n",
      "中火3號機重啟》中市批惡意 經部︰完全合法 (topic: 7)\n",
      "台電︰3號機回歸備戰 (topic: 19)\n",
      "美財長揪G20 共推跨國企業最低稅率 (topic: 10)\n",
      "美最高法院裁定》甲骨文告Google侵權敗訴 安卓危機解除 (topic: 18)\n",
      "IMF認錯！上修今年台灣GDP成長至4.7％ (topic: 16)\n",
      "搶標8吋晶圓產能 每片1千美元創新天價 (topic: 1)\n",
      "缺晶片未解 聯發科傳4月續漲價 (topic: 16)\n",
      "鴻海Q1營收1.34兆 歷年同期新高 (topic: 3)\n",
      "財經觀測站》這個國家隊漏氣了！ (topic: 8)\n",
      "實質投資稅率減半》 海外資金專法 首例個人退稅 (topic: 16)\n",
      "宅經濟發燒 特力屋、寶家加速展店 (topic: 9)\n",
      "新制勞退月退休金新算法 1156人受影響 (topic: 6)\n",
      "開行倒數 LINE Bank 祭早鳥抽獎衝開戶 (topic: 13)\n",
      "證券行情表、證券表格 (topic: 12)\n",
      "等待財報季和Fed對經濟前景展望 美股震盪收低 (topic: 0)\n",
      "美中經濟數據報喜 國際油價反彈上揚 (topic: 12)\n",
      "4月6日 期交所夜盤行情 (topic: 19)\n",
      "台積電填息 台股創新高拚萬七 (topic: 3)\n",
      "國人持有高風險債基金破兆元 (topic: 16)\n",
      "大陸服務業回升 就業大躍進 (topic: 11)\n",
      "房市→股市 大陸人資產配置轉向 (topic: 5)\n",
      "林佳龍夫婦 身家逾3億 (topic: 15)\n",
      "淘帝未交財報 今起暫停買賣 (topic: 5)\n",
      "等待財報季和Fed對經濟前景展望 美股震盪收低 (topic: 0)\n",
      "等待財報季和Fed對經濟前景展望 美股震盪收低 (topic: 0)\n",
      "美中經濟數據報喜 國際油價反彈上揚 (topic: 12)\n",
      "美中經濟數據報喜 國際油價反彈上揚 (topic: 12)\n",
      "美財長籲 制定全球最低企業稅率 (topic: 10)\n",
      "資金專法匯回 台商退稅百萬 (topic: 16)\n",
      "面板業產值翻紅 躍居世界第2 (topic: 4)\n",
      "【美股盤後】震盪收低 (topic: 0)\n",
      "【能源盤後】反彈上揚 (topic: 12)\n",
      "最糟時期還沒過 拜登：變種病毒蔓延 19日起全面打疫苗 (topic: 16)\n",
      "反北京冬奧聲浪漲 美國不排除聯合盟友發動抵制 (topic: 14)\n",
      "標普500指數自歷史新峰小跌 投資人觀望企業財報季 (topic: 3)\n",
      "當局評估AZ疫苗與血栓關聯 牛津大學暫停兒童試驗 (topic: 8)\n",
      "台積電ADR跌1.7% 隨費半下跌 (topic: 3)\n",
      "4月7日 五件財經大事搶先看 (topic: 8)\n",
      "台康拚國產疫苗 郭台銘成最大股東 (topic: 17)\n",
      "台開亮警訊 打入全額交割 (topic: 18)\n",
      "台開籌銀彈 擬辦30億元聯貸 (topic: 18)\n",
      "太魯閣號事故 理賠衝6.5億 (topic: 2)\n",
      "央行理事出書引發茶壺內風暴 央行：問題已詳細說明 (topic: 15)\n",
      "央行理事出書 論辯彭淮南20年 (topic: 15)\n",
      "【東元黃育仁專訪1】提名台積電前高層當董事 黃育仁出招讓外資買單 (topic: 17)\n",
      "【東元黃育仁專訪2】揭錯過與特斯拉合作內幕 黃育仁超扼腕 (topic: 17)\n",
      "〈美股盤後〉美股獲利了結 四大指數集體收黑 (topic: 12)\n",
      "〈貴金屬盤後〉全球前景更強 美債殖利率、美元下降 黃金連漲4日 登5週高點 (topic: 12)\n",
      "阿水講股／股市阿水：台積電重回買超 IC類股轉熱 (topic: 10)\n",
      "【金屬盤後】金銅價漲 (topic: 4)\n",
      "慘！港版國安法+疫情 香港60公司停牌、近百公司發不出2020財報 (topic: 13)\n",
      "半導體「前置時間」拉長至16周 分析師憂重複下單疑慮 (topic: 16)\n",
      "疫苗接種提前  拜登：4/19所有成年人都能施打 (topic: 2)\n",
      "美元回落至兩周低點 因獲利回吐和美債殖利率下跌 (topic: 12)\n",
      "首席觀點／美元及美元利率走勢牽動金融市場敏感神經 (topic: 5)\n",
      "太魯閣愛心專戶已收兩億 陳時中親上火線說明下周開會 (topic: 18)\n",
      "李安奪英國奧斯卡終身成就獎 心繫花蓮受難者曝心情 (topic: 16)\n",
      "海運熱 慧洋-KY首季賺贏去年全年 (topic: 12)\n",
      "訂單暢旺 豪展今年獲利拚次高 (topic: 12)\n",
      "台積填息 外資續挺挑戰800元 (topic: 3)\n",
      "宏碁旗下首家海外小金雞 海柏特Q4回台IPO (topic: 6)\n",
      "三月及首季不淡 鴻海營收雙創同期新高 (topic: 3)\n",
      "采鈺主攻CIS元件 訂單看到下半年 (topic: 13)\n",
      "鴻海3月營收雙升 攜Q1齊登同期高 (topic: 3)\n",
      "榮成 Q1每股稅前盈餘0.51元 (topic: 5)\n",
      "王文洋奇招爭千億產　「王永慶與3婦女9孩子造成一個不幸家庭」 (topic: 5)\n",
      "【Yahoo論壇／葉家興】美國大放水，通膨鳴警訊？ (topic: 15)\n",
      "對沖基金破產害瑞信大虧47億美金 末日博士示警：斷頭事件將再現... (topic: 13)\n",
      "〈能源盤後〉中美經濟前景改善 美伊核協無進展 支撐原油漲逾1% (topic: 4)\n",
      "《台北股市》4月7日股市備忘錄 (topic: 10)\n",
      "《各報要聞》擬修營業秘密法 防堵境外委託境內竊密漏洞 (topic: 6)\n",
      "《各報要聞》雙王合擊 台股攻頂一路發 (topic: 18)\n",
      "《櫃買市場券商買超前30名 3-1》光洋科(2028)、良維(1133) (topic: 10)\n",
      "《櫃買市場券商買超前30名 3-2》大田(479)、友威科(398) (topic: 10)\n",
      "《櫃買市場券商買超前30名 3-3》安國(217)、勤凱(217) (topic: 10)\n",
      "《櫃買市場券商賣超前30名 3-1》立碁(-2485)、旺玖(-1477) (topic: 10)\n",
      "《櫃買市場券商賣超前30名 3-2》穩懋(-593)、信昌電(-576) (topic: 10)\n",
      "《櫃買市場券商賣超前30名 3-3》晶宏(-379)、典範(-375) (topic: 10)\n",
      "《櫃買市場券商賣超比前30名 3-3》穩懋(-16.40) (topic: 10)\n",
      "《貴金屬》美元及美債殖利率回落 COMEX黃金上漲0.8% (topic: 12)\n",
      "《熱門族群》台積、聯發科雙王回神 ETF沾光 (topic: 1)\n",
      "《金融》國人瘋高收債基金 金管會提醒3大風險 (topic: 17)\n",
      "《台北股市》上市櫃企業去年獲利增逾2成 淘帝最快11月下市 (topic: 12)\n",
      "《各報要聞》三月及首季不淡 鴻海營收雙創同期新高 (topic: 3)\n",
      "《各報要聞》八千金閃現 二梯隊成形 (topic: 19)\n",
      "《各報要聞》台積填息 外資續挺挑戰800元 (topic: 3)\n",
      "《各報要聞》宏碁旗下首家海外小金雞 海柏特Q4回台IPO (topic: 6)\n",
      "《各報要聞》工程車釀禍 不排除聲押更多人 (topic: 6)\n",
      "《各報要聞》證交所今線上引資 規模空前 (topic: 6)\n",
      "《各報要聞》離職後競業禁止 境內外適用 (topic: 18)\n",
      "《各報要聞》Intel在台徵才 擴大代工合作 (topic: 11)\n",
      "《國際產業》受Archegos砍倉風暴重創 瑞信大虧47億美元 (topic: 18)\n",
      "《國際經濟》葉倫籲訂全球最低企業稅率 (topic: 10)\n",
      "《國際經濟》IMF上修今年全球經濟成長率 (topic: 16)\n",
      "《國際金融》加密貨幣市值 首破2兆美元 (topic: 12)\n",
      "《國際金融》星國接受IATA護照 亞太航空股飆 (topic: 13)\n",
      "《國際金融》美SPAC投資熱 知名球星搶上車 (topic: 12)\n",
      "《國際金融》走出疫情陰霾 歐股創新高 (topic: 12)\n",
      "《科技》英特爾創新科技總經理謝承儒：提供員工國際化舞台 (topic: 13)\n",
      "《興櫃股》台積小金雞 采鈺登錄首日寫興櫃四驚奇 (topic: 11)\n",
      "《興櫃股》采鈺主攻CIS元件 訂單看到下半年 (topic: 13)\n",
      "《造紙股》榮成 Q1每股稅前盈餘0.51元 (topic: 5)\n",
      "E3展睽違一年線上回歸 任天堂、微軟參戰獨缺索尼 (topic: 14)\n",
      "市場觀望財報季 美股4大指數收黑 (topic: 3)\n",
      "台股盤前》指標均有利多頭 短線仍有高點可期 (topic: 3)\n",
      "IMF提高經濟前景預測 黃金創2月底來最高收盤價 (topic: 12)\n",
      "美、中經濟數據強勁 國際油價漲約1％ (topic: 12)\n",
      "日經：東芝接到CVC逾200億美元收購並下市之議 (topic: 9)\n",
      "共軍在台周邊演習  美國防部監控中 (topic: 18)\n",
      "倫敦銅價補漲 油價走高 金價升至逾一周最高 (topic: 12)\n",
      "參賽者不服！暴怒衝上台扯「斯里蘭卡小姐」皇冠遭打臉 (topic: 13)\n",
      "專家：巴西必須全國封城才能防止疫情惡化 (topic: 1)\n",
      "不畏德州廠冰封受損 三星電子第1季獲利優於預期 (topic: 19)\n",
      "4月7日重要財經行事曆 (topic: 14)\n",
      "今日台股盤前重點掃描 (topic: 10)\n",
      "4月7日盤前／指數續攻新高，擇優偏多布局 (topic: 3)\n",
      "監控遼寧號在台海附近演訓 美國防部重申挺台自我防衛 (topic: 18)\n",
      "AZ疫苗擴大施打對象 高雄醫護有人想再等等 (topic: 2)\n",
      "阿瘦推「動齡保養」搶攻母親節商機 (topic: 7)\n",
      "太魯閣事故  勞保局：傷病給付、喪葬津貼從速從寬辦理 (topic: 9)\n",
      "未來1周2鋒面 吳德榮：明午後鋒面無法解旱象 (topic: 14)\n",
      "太魯閣號撞車事故 殘破的第八車廂暫時停放和仁車站 (topic: 0)\n",
      "鋒面8日下午報到 北部東半部轉有雨 (topic: 8)\n",
      "工業局搭橋 觀光工廠攻國旅商機 (topic: 0)\n",
      "泰山營運績優 每股盈餘1.75元 (topic: 5)\n",
      "吳昇澈掌TEAA 推動跨業跨心交流 (topic: 17)\n",
      "TOYOTA一車一樹校園競賽 開跑 (topic: 1)\n",
      "美股拉回 法人：台股短線震盪偏多 (topic: 3)\n",
      "宅經濟續發威 德微3月營收1.61億元創新高 (topic: 3)\n",
      "為保公民隱私！白宮表態：美國政府「不簽發」疫苗護照 (topic: 11)\n",
      "加州2000萬人接種疫苗 訂6月15日生活重返正常 (topic: 2)\n",
      "友通3月營收為7.42億元，年減12.78% (topic: 3)\n",
      "星通3月營收為0.39億元，年增14.00% (topic: 3)\n",
      "中揚光兩岸啟動大擴產 (topic: 16)\n",
      "宏碁：泛亞H2需求續旺 (topic: 3)\n",
      "毅嘉上季業績年增逾四成 (topic: 3)\n",
      "群光、群電 首季營收強強滾 (topic: 12)\n",
      "懷特3月營收為0.09億元，年增37.67% (topic: 3)\n",
      "森鉅3月營收為4.31億元，年增59.48% (topic: 3)\n",
      "一次轉帳15萬都行！北富銀放寬非約定轉帳限額　推出「一鍵調額」 (topic: 5)\n",
      "太魯閣號理賠逾6.5億 4人信用卡購票獲7千萬 (topic: 16)\n",
      "愈陌生漲愈兇？台積電旗下采鈺直衝興櫃股王 還有這些小金雞後市可期 (topic: 6)\n",
      "【日盛投顧】盤前分析 (topic: 3)\n",
      "獨／台股擁2支柱！他曝3族群超強勢 (topic: 4)\n",
      "申報綜所稅手機嘛ㄟ通 限用本人月租型門號 (topic: 15)\n",
      "盤前財經大事搶先讀2021年04月07日 (topic: 8)\n",
      "美股拉回 法人：台股短線震盪偏多 (topic: 3)\n",
      "【郭董生技大投資】郭台銘豪砸50億元 當乳癌新藥廠台康生技最大股東 (topic: 17)\n",
      "1年漲20倍！飆股金麗科遭狙擊 是主力摜壓吃貨...還是另有故事？ (topic: 9)\n",
      "人口紅利終了！中國製造業陷缺工、漲工資困境 (topic: 7)\n",
      "庫克：AR對蘋果的未來至關重要 (topic: 14)\n",
      "上市前放利多！Coinbase預計Q1收入年增逾9倍 (topic: 12)\n",
      "傳Clubhouse擬融資 估值達約1150億 (topic: 1)\n",
      "電子股領軍 台股漲逾70點來到16816點再登高 (topic: 3)\n",
      "股匯同升！台幣升4.1分來到28.445元 (topic: 12)\n",
      "減災座談剛結束就出事... 勞動部清查台鐵223處工地 (topic: 4)\n",
      "和泰大金空調 科技防疫環境永續 (topic: 13)\n",
      "大陸昨新增確診12例 其中本土2例在雲南 (topic: 11)\n",
      "黎智英等3人涉參與未經批准集結 港法院今開審 (topic: 11)\n",
      "美議員致函教長 籲推台灣華語教育取代孔子學院 (topic: 8)\n",
      "拜登基建計畫激勵 美股資金動能穩居全球之冠 (topic: 12)\n",
      "4月7日 新冠肺炎全球最新情報一次看 (topic: 5)\n",
      "美學者：北京避免正面衝突 非武力脅迫施壓台灣人 (topic: 10)\n",
      "性別歧視？歐盟高層會見厄多安 執委會女主席沒椅子坐 (topic: 18)\n",
      "蘋果29日公布財報 聚焦Apple Car和印度製造 (topic: 7)\n",
      "星媒爆料蔡衍明家族62億元掃貨豪宅 整棟20戶全包了 (topic: 9)\n",
      "新台幣開盤貶0.4分 為28.49元 (topic: 12)\n",
      "市場情緒轉佳 高收益債動能改善 (topic: 3)\n",
      "彭博：經濟數據強勁、基建計畫利多 股票型資產獲追捧 (topic: 12)\n",
      "富邦期貨：台股第2季仍有機會續創新高 (topic: 3)\n",
      "台康生開盤漲停 逾萬張搶進 (topic: 17)\n",
      "台股再攀高 漲31點開在16,771點 (topic: 3)\n",
      "八千金股再現 富邦媒拚準千金 (topic: 13)\n",
      "郭台銘將入股 台康生技漲停鎖死、逾萬張排隊等買 (topic: 17)\n",
      "台股開盤漲31.48點 (topic: 3)\n",
      "權值股助攻 台股攻16816.34點盤中創新高 (topic: 3)\n",
      "利多匯集、價值股當道 美國REITs漲聲響起 (topic: 11)\n",
      "台股八千金再現 聯發科1,005元開盤、重返千元大關 (topic: 1)\n",
      "太魯閣號50死 林佳龍再致歉：心痛不已、會永遠陪伴 (topic: 17)\n",
      "立院今質詢太魯閣號意外 林佳龍、立委集體默哀1分鐘 (topic: 13)\n",
      "勞動部長：1個月內 全面勞檢台鐵233個工程 (topic: 15)\n",
      "中央未撥付新北市汙水補助？營建署駁：如數到位 (topic: 18)\n",
      "太魯閣號事故 林佳龍赴立院報告哽咽致歉 (topic: 17)\n",
      "易發攜手Beckhoff 打造高口罩智慧產線 (topic: 19)\n",
      "大成鋼（2027）開盤即走高 股價上漲 2元報價36.45元 (topic: 12)\n",
      "友達（2409）開盤即走高 股價上漲 1.1元報價22.25元 (topic: 12)\n",
      "群創（3481）開盤即走高 股價上漲 1.05元報價22.75元 (topic: 12)\n",
      "台股早盤速報 八大類股漲跌互見 (topic: 10)\n",
      "台指期開盤上漲49點 台積期貨開漲1元 (topic: 3)\n",
      "LYCORIS母親節鉅獻  寵愛媽咪的重量級禮盒 (topic: 6)\n",
      "「紳藍」時尚翻轉邋塌宅男 促進台灣顏值品味經濟普及 (topic: 4)\n",
      "皮膚專科醫生莊盈彥 ：「痘疤形成，不論你擠或不擠都可能留疤！」 (topic: 16)\n",
      "承包國防部工程收回扣 中華工程前老董收押抗告駁回 (topic: 15)\n",
      "太魯閣號第8車廂終於移出 林佳龍點名70歲的他是大功臣 (topic: 13)\n",
      "台鐵票價凍漲近26年 徐世榮：就請別用虧損負債批評 (topic: 15)\n",
      "工程車溜逸肇因？ 運安會再爆：當時上面有怪手好幾部 (topic: 19)\n",
      "新北海漂豬驗出非洲豬瘟陽性  高雄建立4道防疫線 (topic: 6)\n",
      "防非洲豬瘟 台南市動保處籲豬農落實防疫 (topic: 16)\n",
      "太魯閣號撞車事故 重鋪隧道內外鐵軌 (topic: 0)\n",
      "太魯閣第八車廂移出功臣 70歲老師傅低調：大家都有出力 (topic: 13)\n",
      "全國唯一身障生大學校園博覽會25日登場 (topic: 1)\n",
      "東元父子對決  傳開始布局徵求股東委託書 (topic: 2)\n",
      "對準全球趨勢 新籌設嘉義科園區擬引進醫療及生醫產業 (topic: 17)\n",
      "保德信人壽 十度獲模範壽險公司 (topic: 19)\n",
      "土銀攜麗寶樂園 掃台灣Pay送200元 (topic: 9)\n",
      "友邦人壽 績優壽險公司15連霸 (topic: 19)\n",
      "債市拉回 布局高收益債好時機 (topic: 3)\n",
      "富邦越南ETF 投資高CP值選項 (topic: 17)\n",
      "北富銀推出非約定轉帳「一鍵調額」新功能 (topic: 5)\n",
      "聯發科盤中續攻千元 挑戰收盤站穩成千金股 (topic: 3)\n",
      "新台幣開盤貶0.4分 為28.49元 (topic: 12)\n",
      "蘋果29日公布財報 聚焦Apple Car和印度製造 (topic: 7)\n",
      "權值股助攻 台股攻16816.34點盤中創新高 (topic: 3)\n",
      "新台幣開盤貶0.4分 為28.49元 (topic: 12)\n",
      "兆勁3月、Q1營收 齊登同期新高 (topic: 3)\n",
      "緯穎攜英特爾搶啖雲端與邊緣應用商機 (topic: 19)\n",
      "聯發科攜三星 推全球首款Wi-Fi6E 8K電視 (topic: 1)\n",
      "李洲3月營收為0.40億元，年增23.35% (topic: 3)\n",
      "華固3月營收為9.73億元，年增499.86% (topic: 3)\n",
      "剛與台鐵開完工安會議就出事　勞長：1個月內將密集勞檢 (topic: 15)\n",
      "台股早盤攻上16816點再創新高！　鴻海、聯發科漲幅逾1% (topic: 3)\n",
      "引發出軌事故工程車確定違法職安法　勞長：運安會調查結束將開罰 (topic: 4)\n",
      "股匯同樂！新台幣早盤升逾4分　來到28.445元 (topic: 12)\n",
      "〈台股盤前〉大盤仍由多頭主導向上 中小型股吃香喝辣 (topic: 2)\n",
      "台股開盤漲31.48點 (topic: 3)\n",
      "在高盛銀行工作的代價 (topic: 13)\n",
      "外資近3日買超個股 (topic: 10)\n",
      "外資近5日買超個股 (topic: 10)\n",
      "投信近3日賣超個股 (topic: 10)\n",
      "操盤手看台股：新科技需求引爆的IC商機 受惠者不只IC設計 (topic: 8)\n",
      "【新光證券】盤前分析 (topic: 3)\n",
      "新／台股突破16816點 再創新高 (topic: 3)\n",
      "時代雜誌拍賣封面 採NFT虛擬幣交易 (topic: 10)\n",
      "東元父子對決 傳開始布局徵求股東委託書 (topic: 2)\n",
      "〈蘋果財報前瞻〉5G iPhone熱潮過 華爾街聚焦服務表現 (topic: 7)\n",
      "【郭董生技大投資2】重金投資台康50億元 郭台銘背後盤算曝光 (topic: 17)\n",
      "【鉅亨-盤前掃瞄】基本面 (topic: 12)\n",
      "電動車百兆商機2》童子賢佈局多年 這一局鴻海、和碩走不一樣的路 (topic: 14)\n",
      "2021/04/07 國際財經最前線 歐美股市指數 (topic: 18)\n"
     ]
    },
    {
     "name": "stderr",
     "output_type": "stream",
     "text": [
      "/Users/gary/opt/anaconda3/envs/analyzer/lib/python3.8/site-packages/ipykernel/ipkernel.py:287: DeprecationWarning: `should_run_async` will not call `transform_cell` automatically in the future. Please pass the result to `transformed_cell` argument and any exception that happen during thetransform in `preprocessing_exc_tuple` in IPython 7.17 and above.\n",
      "  and should_run_async(code)\n"
     ]
    }
   ],
   "source": [
    "print(\"\\n\\n Texts & Topics ..\")\n",
    "titles = []\n",
    "\n",
    "for i in range(len(texts)):\n",
    "    print(\"{} (topic: {})\".format(''.join(df.iloc[i]['words']), topics[i].argmax()))"
   ]
  },
  {
   "cell_type": "code",
   "execution_count": 235,
   "id": "figured-house",
   "metadata": {},
   "outputs": [
    {
     "name": "stderr",
     "output_type": "stream",
     "text": [
      "/Users/gary/opt/anaconda3/envs/analyzer/lib/python3.8/site-packages/ipykernel/ipkernel.py:287: DeprecationWarning: `should_run_async` will not call `transform_cell` automatically in the future. Please pass the result to `transformed_cell` argument and any exception that happen during thetransform in `preprocessing_exc_tuple` in IPython 7.17 and above.\n",
      "  and should_run_async(code)\n"
     ]
    }
   ],
   "source": [
    "df.to_csv('label_ner_0522.csv', index = False)"
   ]
  },
  {
   "cell_type": "code",
   "execution_count": 241,
   "id": "communist-spiritual",
   "metadata": {},
   "outputs": [
    {
     "name": "stderr",
     "output_type": "stream",
     "text": [
      "/Users/gary/opt/anaconda3/envs/analyzer/lib/python3.8/site-packages/ipykernel/ipkernel.py:287: DeprecationWarning: `should_run_async` will not call `transform_cell` automatically in the future. Please pass the result to `transformed_cell` argument and any exception that happen during thetransform in `preprocessing_exc_tuple` in IPython 7.17 and above.\n",
      "  and should_run_async(code)\n"
     ]
    }
   ],
   "source": [
    "import pandas as pd\n",
    "df = pd.read_csv('label_ner_0522.csv', index_col = None)"
   ]
  },
  {
   "cell_type": "code",
   "execution_count": 242,
   "id": "needed-emperor",
   "metadata": {},
   "outputs": [
    {
     "name": "stderr",
     "output_type": "stream",
     "text": [
      "/Users/gary/opt/anaconda3/envs/analyzer/lib/python3.8/site-packages/ipykernel/ipkernel.py:287: DeprecationWarning: `should_run_async` will not call `transform_cell` automatically in the future. Please pass the result to `transformed_cell` argument and any exception that happen during thetransform in `preprocessing_exc_tuple` in IPython 7.17 and above.\n",
      "  and should_run_async(code)\n"
     ]
    }
   ],
   "source": [
    "import html \n",
    "df['news_title'] = df['news_title'].apply(lambda x:html.unescape(x.replace('\\n', ' ')))\n",
    "titles = '\\n'.join(df['news_title'].values.tolist())"
   ]
  },
  {
   "cell_type": "code",
   "execution_count": 244,
   "id": "armed-writing",
   "metadata": {},
   "outputs": [
    {
     "name": "stderr",
     "output_type": "stream",
     "text": [
      "/Users/gary/opt/anaconda3/envs/analyzer/lib/python3.8/site-packages/ipykernel/ipkernel.py:287: DeprecationWarning: `should_run_async` will not call `transform_cell` automatically in the future. Please pass the result to `transformed_cell` argument and any exception that happen during thetransform in `preprocessing_exc_tuple` in IPython 7.17 and above.\n",
      "  and should_run_async(code)\n"
     ]
    }
   ],
   "source": [
    "import json \n",
    "\n",
    "with open('label_titles', 'w') as f:\n",
    "    f.write(titles)\n"
   ]
  },
  {
   "cell_type": "code",
   "execution_count": null,
   "id": "freelance-meter",
   "metadata": {},
   "outputs": [],
   "source": []
  }
 ],
 "metadata": {
  "kernelspec": {
   "display_name": "Python 3",
   "language": "python",
   "name": "python3"
  },
  "language_info": {
   "codemirror_mode": {
    "name": "ipython",
    "version": 3
   },
   "file_extension": ".py",
   "mimetype": "text/x-python",
   "name": "python",
   "nbconvert_exporter": "python",
   "pygments_lexer": "ipython3",
   "version": "3.8.5"
  }
 },
 "nbformat": 4,
 "nbformat_minor": 5
}
